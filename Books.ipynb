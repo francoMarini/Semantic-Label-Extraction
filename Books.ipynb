{
 "cells": [
  {
   "cell_type": "markdown",
   "metadata": {},
   "source": [
    "# Books\n",
    "\n",
    "Tra le varie colonne della tabella sono risultate significative le seguenti:\n",
    "\n",
    "- iillllll (Titolo libro)\n",
    "- iiliriiriliiriliiiirlrllllilii (prezzo)\n",
    "- iiliriiriliiriliiiiririri (data pubblicazione)\n",
    "- iiliriiriliiriliiiirirrirri (numero pagine)\n",
    "- iiliriiriliiriliiiirlrrl (recensione)"
   ]
  },
  {
   "cell_type": "code",
   "execution_count": 1,
   "metadata": {},
   "outputs": [],
   "source": [
    "#Questo parametro indica il numero di valori che devo analizzare per stabilire l'etichetta corretta.\n",
    "RECORDS_NUMBER= 100"
   ]
  },
  {
   "cell_type": "markdown",
   "metadata": {},
   "source": [
    "# LIBRERIE"
   ]
  },
  {
   "cell_type": "code",
   "execution_count": 3,
   "metadata": {},
   "outputs": [],
   "source": [
    "import requests\n",
    "from requests.exceptions import ConnectionError\n",
    "from transformers import pipeline\n",
    "\n",
    "from transformers import logging as hf_logging\n",
    "hf_logging.set_verbosity_error()"
   ]
  },
  {
   "cell_type": "markdown",
   "metadata": {},
   "source": [
    "# Labels candidate"
   ]
  },
  {
   "cell_type": "code",
   "execution_count": 215,
   "metadata": {},
   "outputs": [],
   "source": [
    "#Qui scelgo delle label generiche che potrebbero essere assocciate alle varie colonne della tabella.\n",
    "labels=['Book title', 'Price', 'Pages', 'Publish Date', 'Description']"
   ]
  },
  {
   "cell_type": "markdown",
   "metadata": {},
   "source": [
    "# Label : Book title"
   ]
  },
  {
   "cell_type": "code",
   "execution_count": 24,
   "metadata": {},
   "outputs": [
    {
     "name": "stdout",
     "output_type": "stream",
     "text": [
      "I dati sono stati caricati correttamente.\n"
     ]
    }
   ],
   "source": [
    "url='http://localhost:8123/?query=SELECT top 100 iillllll FROM extracted_data.57632537416d4cd19f3965026ab51caf'\n",
    "\n",
    "try:\n",
    "    r = requests.get(url)\n",
    "except ConnectionError:\n",
    "        print(\"Il collegamento al database non è attivo.\")\n",
    "\n",
    "        \n",
    "#L'utf-8-sig è una variante Python di UTF-8 che ci permette di eliminare, se presenti, eventuali carattere UTF-8 BOM.\n",
    "values= r.content.decode('utf-8-sig')\n",
    "\n",
    "\n",
    "#Controllo i parametri inseriti dall'utente\n",
    "if (values[6:8]=='60'):\n",
    "    print(\"ATTENZIONE! La tabella indicata non esiste.\")\n",
    "elif (values[6:8]=='47'):\n",
    "    print(\"ATTENZIONE! La colonna indicata non esiste.\")\n",
    "else:\n",
    "    print(\"I dati sono stati caricati correttamente.\")"
   ]
  },
  {
   "cell_type": "code",
   "execution_count": 25,
   "metadata": {},
   "outputs": [
    {
     "data": {
      "text/plain": [
       "'Sarah\\\\\\'s Key : Tatiana De Rosnay : 9780312370848\\n\\ufeffUnbearable Lightness: A Story of Loss and Gain : Portia De Rossi : 9781439177785\\n\\ufeffThe Slap: One day, at a suburban barbeque, a man slaps a child who is not his own... : Tsiolkas Christos : 9781848877993\\n\\ufeffPublication Manual of the American Psychological Association (Publication Manual of the American Psychological Association) : American Psychological Association : 9781433805615\\n\\ufeffJasper Jones : Craig Silvey : 9780099537540\\n\\ufeffCrazy Love: Overwhelmed by a Relentless God : Francis Chan, Danae Yankoski : 9781434768513\\n\\ufeffUnderstanding Exposure: How to Shoot Great Photographs with Any Camera : Bryan Peterson : 9780817439392\\n\\ufeffThe Help : Kathryn Stockett : 9780141047706\\n\\ufeffThe 4-hour Work Week: Escape the 9-5, Live Anywhere and Join the New Rich : Timothy Ferriss : 9780091929114\\n\\ufeffThe Playbook: Suit Up. Score Chicks. Be Awesome. : Neil Patrick Harris, Matt Kuhn : 9781439196830\\n\\ufeffInvincible Ultimate Collection: v. 6 : Ryan Ottley, Robert Kirkman : 9781607063605\\n\\ufeffMLA Handbook for Writers of Research Papers (MLA Handbook for Writers of Research Papers) : Modern Language Association of America : 9781603290241\\n\\ufeffRespectable Sins: Confronting the Sins We Tolerate : Jerry Bridges : 9781600061400\\n\\ufeffBlood Promise (Vampire Academy (Paperback)) : Richelle Mead : 9781595143105\\n\\ufeffSquirrel Seeks Chipmunk: A Wicked Bestiary : David Sedaris : 9781408701669\\n\\ufeffNigella Express: 130 Recipes for Good Food, Fast : Nigella Lawson, Lis Parsons : 9781401322434\\n\\ufeffThe Secret of Quantum Living : Frank Joseph Kinslow : 9780984426416\\n\\ufeffThe Anatomy Coloring Book : Wynn Kapit, L.M. Elson : 9780805350869\\n\\ufeffThe Art of War : Tzu Sun, Ralph D. Sawyer : 9780762415984\\n\\ufeffCurly Girl the Handbook : Lorraine Massey, Michele Bender : 9780761156789\\n\\ufeffWe\\\\\\'re Going on a Bear Hunt (Walker story board books) : Michael Rosen, Helen Oxenbury : 9780744555721\\n\\ufeffIndia: Cookbook : Pushpesh Pant : 9780714859026\\n\\ufeffUnseen: Outcast Season: Book Three : Rachel Caine : 9780451463838\\n\\ufeffThis Is Why You\\\\\\'re Fat (and How to Get Thin Forever): Eat More, Cheat More, Lose More--And Keep the Weight Off : Jackie Warner : 9780446548601\\n\\ufeffMoll Flanders (Norton Critical Edition) : Daniel Defoe, Albert J. Rivero : 9780393978629\\n\\ufeffHow to Talk So Kids Will Listen and Listen So Kids Will Talk : Adele Faber, Elaine Mazlish : 9780380811960\\n\\ufeffThe Gruffalo : Julia Donaldson, Axel Scheffler : 9780142403877\\n\\ufeffRodrick Rules: Diary of a Wimpy Kid (Diary of a Wimpy Kid) : Jeff Kinney : 9780141324913\\n\\ufeffHeart of Darkness (Penguin Popular Classics) : Joseph Conrad : 9780140620481\\n\\ufeffEmpire of Silver : Conn Iggulden : 9780007288007\\n\\ufeffScott Pilgrim: Scott Pilgrim\\\\\\'s Finest Hour v. 6 : Bryan Lee O\\\\\\'Malley, Bryan Lee O\\\\\\'Malley : 9781934964385\\n\\ufeffScott Pilgrim: Scott Pilgrim\\\\\\'s Precious Little Life v. 1 (Scott Pilgrim\\\\\\'s) : Bryan O\\\\\\'Malley, Bryan O\\\\\\'Malley : 9781932664089\\n\\ufeffWild Fermentation: The Flavor, Nutrition, and Craft of Live-Culture Foods : Sandor Ellix Katz, Sally Fallon : 9781931498234\\n\\ufeffMarked (House of Night) : P. C. Cast, Kristin Cast : 9781907410116\\n\\ufeffThe Great Hunt (Wheel of Time S.) : Robert Jordan : 9781857230277\\n\\ufeffRiver Marked : Patricia Briggs : 9781841497976\\n\\ufeffStrengthsfinder 2.0: A New and Upgraded Edition of the Online Test from Gallup\\\\\\'s Now Discover Your Strengths : Tom Rath : 9781595620156\\n\\ufeffKeep Calm & Carry on Boxed Desk Notes : Peter Pauper : 9781593592943\\n\\ufeff127 Hours: Between a Rock and a Hard Place : Aron Ralston : 9781451617702\\n\\ufeffShadow Wave : Robert Muchamore : 9781444901986\\n\\ufeffCake Boss: Stories and Recipes from Mia Famiglia : Buddy Valastro : 9781439183519\\n\\ufeffThe Art of War: The Ancient Classic : Sun Tzu, Tom Butler-Bowdon : 9780857080097\\n\\ufeffHush Little Baby : Sylvia Long : 9780811822909\\n\\ufeffGreg Heffley\\\\\\'s Journal (Diary of a Wimpy Kid) : Jeff Kinney : 9780810993136\\n\\ufeffThe Love Dare : Stephen Kendrick, Alex Kendrick, Lawrence Kimbrough : 9780805448856\\n\\ufeffShit My Dad Says : Justin Halpern : 9780752227405\\n\\ufeffThe Flavour Thesaurus : Niki Segnit : 9780747599777\\n\\ufeffThe Princess Bride : William Goldman : 9780747545187\\n\\ufeffThe Hare with Amber Eyes: A Hidden Inheritance : Edmund De Waal : 9780701184179\\n\\ufeffThe Morganville Vampires, Volume 1 : Rachel Caine : 9780451230546\\n\\ufeffStart-Up Nation: The Story of Israel\\\\\\'s Economic Miracle : Dan Senor, Saul Singer : 9780446541466\\n\\ufeffTo Kill a Mockingbird : Lee, Harper : 9780446310789\\n\\ufeffBlood Fever : Karen Marie Moning : 9780440240990\\n\\ufeffA History of Modern Europe: v. 2 : John M. Merriman : 9780393933857\\n\\ufeffMy Stroke of Insight : Jill Bolte Taylor : 9780340980507\\n\\ufeffThe Digital Photography Book: The Step-by-step Secrets for How to Make Your Photos Look Like the Pros\\\\\\'! : Scott Kelby : 9780321474049\\n\\ufeffArtisan Bread in Five Minutes a Day: The Discovery That Revolutionizes Home Baking : Jeff Hertzberg, Zoe Francois, Mark Luinenburg : 9780312362911\\n\\ufeffPercy Jackson and the Battle of the Labyrinth (Percy Jackson) : Rick Riordan : 9780141321271\\n\\ufeffCat\\\\\\'s Cradle (Essential Penguin S.) : Kurt Vonnegut, Benjamin Kunkel : 9780140285604\\n\\ufeffThere Was an Old Lady Who Swallowed a Fly (Classic Board Books with Holes S.) : Pam Adams, Pam Adams : 9780859537278\\n\\ufeffNever Let Me Go : Kazuo Ishiguro : 9780571258093\\n\\ufeffThe 4-Hour Workweek: Escape 9-5, Live Anywhere, and Join the New Rich : Timothy Ferriss : 9780307465351\\n\\ufeffThe Percy Jackson and the Olympians, Book Five: Last Olympian (Percy Jackson & the Olympians (Paperback)) : Rick Riordan : 9781423101505\\n\\ufeffThe Imperfectionists : Tom Rachman : 9780385343671\\n\\ufeffHeartless (Pretty Little Liars (Quality)) : Sara Shepard : 9780061566165\\n\\ufeffWhat Every Body is Saying: An Ex-FBI Agent\\\\\\'s Guide to Speed-reading People : Joe Navarro : 9780061438295\\n\\ufeffThe Time-crunched Cyclist: Fit, Fast and Powerful in 6 Hours a Week : Chris Carmichael, Jim Rutberg : 9781934030479\\n\\ufeffScott Pilgrim: Scott Pilgrim Gets it Together v. 4 (Scott Pilgrim\\\\\\'s) : Bryan Lee O\\\\\\'Malley, Bryan Lee O\\\\\\'Malley : 9781932664492\\n\\ufeffThe Russian Court at Sea: The Voyage of HMS Marlborough, April 1919 : Frances Welch : 9781906021788\\n\\ufeffAngie Lewin: Plants and Places : Leslie Geddes-Brown : 9781858945361\\n\\ufeffHeart of Darkness (Wordsworth Classics) : Joseph Conrad, Gene M. Moore : 9781853262401\\n\\ufeffExpress Makeup : Rae Morris : 9781845433956\\n\\ufeffIn My Skin: A Memoir : Kate Holden : 9781841959313\\n\\ufeffGiraffes Can\\\\\\'t Dance (Orchard picturebooks) : Giles Andreae, Guy Parker-Rees : 9781841215655\\n\\ufeffOne Magic Square: The Easy, Organic Way to Grow Your Own Food on a 3-Foot Square : Lolo Houbein : 9781615190126\\n\\ufeffThe Walking Dead Compendium: v. 1 : Robert Kirkman, Charlie Adlard, Cliff Rathburn : 9781607060765\\n\\ufeffThe Handmade Marketplace: How to Sell Your Crafts Locally, Globally, and Online : Kari Chapin : 9781603424776\\n\\ufeffSlow Death by Rubber Duck: The Secret Danger of Everyday Things : Rick Smith, Bruce Lourie, Sarah Dopp : 9781582437026\\n\\ufeffWhere Is the Green Sheep? Doll: 6.5\" : Mem Fox, Judy Horacek : 9781579822750\\n\\ufeffEat Tweet: 1000 Tiny Recipes in Twitterese : Maureen Evans : 9781579654269\\n\\ufeffLeadership on the Line: Staying Alive Through the Dangers of Leading : Ronald A. Heifetz, Marty Linsky : 9781578514373\\n\\ufeffThinking with Type: A Critical Guide for Designers, Writers, Editors, and Students : Ellen Lupton : 9781568989693\\n\\ufeffDeep Kiss of Winter : Kresley Cole, Gena Showalter : 9781451600056\\n\\ufeffZombie Spaceship Wasteland: A Book by Patton Oswalt : Patton Oswalt : 9781439149089\\n\\ufeffThe Glass Rainbow (Dave Robicheaux Mysteries (Hardcover)) : James Lee Burke : 9781439128299\\n\\ufeffAssholes Finish First : Tucker Max, Maddox : 9781416938743\\n\\ufeffThe Forgotten Garden : Kate Morton : 9781416550556\\n\\ufeffOperation Mincemeat: The True Spy Story That Changed the Course of World War II : Ben Macintyre : 9781408809211\\n\\ufeffRa Material: An Ancient Astronaut Speaks (Ra Material) : Don Elkins, etc. : 9780898652604\\n\\ufeffAutobiography of a Yogi : Paramahansa Yogananda : 9780876120798\\n\\ufeffThe Darkest Pleasure: Lords of the Underworld Series Bk. 3 (Mira Direct and Libraries) : Gena Showalter : 9780778303619\\n\\ufeffAssassin\\\\\\'s Creed 2: Prima Official Game Guide (Prima Official Game Guides) : Piggyback : 9780761563235\\n\\ufeffBelly Button Book (Boynton on Board S.) : Sandra Boynton : 9780761137993\\n\\ufeffHave a Little Faith : Mitch Albom : 9780751537512\\n\\ufeffTuesdays with Morrie: An Old Man, a Young Man and Life\\\\\\'s Greatest Lesson : Mitch Albom : 9780751529814\\n\\ufeffStrength Training Anatomy (Sports Anatomy) : Frederic Delavier : 9780736092265\\n\\ufeff3,096 Days : Natascha Kampusch : 9780670919994\\n\\ufeffSecret Language of Birthdays : Gary Goldschneider, Elffers Goldschneider : 9780670032617\\n\\ufeffHello, Cupcake!: Irresistibly Playful Creations Anyone Can Make : Karen Tack, Alan Richardson : 9780618829255\\n\\ufeffSuccubus Dreams : Richelle Mead : 9780553819113\\n'"
      ]
     },
     "execution_count": 25,
     "metadata": {},
     "output_type": "execute_result"
    }
   ],
   "source": [
    "values"
   ]
  },
  {
   "cell_type": "code",
   "execution_count": 26,
   "metadata": {},
   "outputs": [],
   "source": [
    "# PREPROCESSING"
   ]
  },
  {
   "cell_type": "code",
   "execution_count": 27,
   "metadata": {},
   "outputs": [],
   "source": [
    "values = values.replace(\"\\ufeff\", \"\")\n",
    "values = values.replace(\"\\\\\", \"\")"
   ]
  },
  {
   "cell_type": "code",
   "execution_count": 28,
   "metadata": {},
   "outputs": [
    {
     "data": {
      "text/plain": [
       "'Sarah\\'s Key : Tatiana De Rosnay : 9780312370848\\nUnbearable Lightness: A Story of Loss and Gain : Portia De Rossi : 9781439177785\\nThe Slap: One day, at a suburban barbeque, a man slaps a child who is not his own... : Tsiolkas Christos : 9781848877993\\nPublication Manual of the American Psychological Association (Publication Manual of the American Psychological Association) : American Psychological Association : 9781433805615\\nJasper Jones : Craig Silvey : 9780099537540\\nCrazy Love: Overwhelmed by a Relentless God : Francis Chan, Danae Yankoski : 9781434768513\\nUnderstanding Exposure: How to Shoot Great Photographs with Any Camera : Bryan Peterson : 9780817439392\\nThe Help : Kathryn Stockett : 9780141047706\\nThe 4-hour Work Week: Escape the 9-5, Live Anywhere and Join the New Rich : Timothy Ferriss : 9780091929114\\nThe Playbook: Suit Up. Score Chicks. Be Awesome. : Neil Patrick Harris, Matt Kuhn : 9781439196830\\nInvincible Ultimate Collection: v. 6 : Ryan Ottley, Robert Kirkman : 9781607063605\\nMLA Handbook for Writers of Research Papers (MLA Handbook for Writers of Research Papers) : Modern Language Association of America : 9781603290241\\nRespectable Sins: Confronting the Sins We Tolerate : Jerry Bridges : 9781600061400\\nBlood Promise (Vampire Academy (Paperback)) : Richelle Mead : 9781595143105\\nSquirrel Seeks Chipmunk: A Wicked Bestiary : David Sedaris : 9781408701669\\nNigella Express: 130 Recipes for Good Food, Fast : Nigella Lawson, Lis Parsons : 9781401322434\\nThe Secret of Quantum Living : Frank Joseph Kinslow : 9780984426416\\nThe Anatomy Coloring Book : Wynn Kapit, L.M. Elson : 9780805350869\\nThe Art of War : Tzu Sun, Ralph D. Sawyer : 9780762415984\\nCurly Girl the Handbook : Lorraine Massey, Michele Bender : 9780761156789\\nWe\\'re Going on a Bear Hunt (Walker story board books) : Michael Rosen, Helen Oxenbury : 9780744555721\\nIndia: Cookbook : Pushpesh Pant : 9780714859026\\nUnseen: Outcast Season: Book Three : Rachel Caine : 9780451463838\\nThis Is Why You\\'re Fat (and How to Get Thin Forever): Eat More, Cheat More, Lose More--And Keep the Weight Off : Jackie Warner : 9780446548601\\nMoll Flanders (Norton Critical Edition) : Daniel Defoe, Albert J. Rivero : 9780393978629\\nHow to Talk So Kids Will Listen and Listen So Kids Will Talk : Adele Faber, Elaine Mazlish : 9780380811960\\nThe Gruffalo : Julia Donaldson, Axel Scheffler : 9780142403877\\nRodrick Rules: Diary of a Wimpy Kid (Diary of a Wimpy Kid) : Jeff Kinney : 9780141324913\\nHeart of Darkness (Penguin Popular Classics) : Joseph Conrad : 9780140620481\\nEmpire of Silver : Conn Iggulden : 9780007288007\\nScott Pilgrim: Scott Pilgrim\\'s Finest Hour v. 6 : Bryan Lee O\\'Malley, Bryan Lee O\\'Malley : 9781934964385\\nScott Pilgrim: Scott Pilgrim\\'s Precious Little Life v. 1 (Scott Pilgrim\\'s) : Bryan O\\'Malley, Bryan O\\'Malley : 9781932664089\\nWild Fermentation: The Flavor, Nutrition, and Craft of Live-Culture Foods : Sandor Ellix Katz, Sally Fallon : 9781931498234\\nMarked (House of Night) : P. C. Cast, Kristin Cast : 9781907410116\\nThe Great Hunt (Wheel of Time S.) : Robert Jordan : 9781857230277\\nRiver Marked : Patricia Briggs : 9781841497976\\nStrengthsfinder 2.0: A New and Upgraded Edition of the Online Test from Gallup\\'s Now Discover Your Strengths : Tom Rath : 9781595620156\\nKeep Calm & Carry on Boxed Desk Notes : Peter Pauper : 9781593592943\\n127 Hours: Between a Rock and a Hard Place : Aron Ralston : 9781451617702\\nShadow Wave : Robert Muchamore : 9781444901986\\nCake Boss: Stories and Recipes from Mia Famiglia : Buddy Valastro : 9781439183519\\nThe Art of War: The Ancient Classic : Sun Tzu, Tom Butler-Bowdon : 9780857080097\\nHush Little Baby : Sylvia Long : 9780811822909\\nGreg Heffley\\'s Journal (Diary of a Wimpy Kid) : Jeff Kinney : 9780810993136\\nThe Love Dare : Stephen Kendrick, Alex Kendrick, Lawrence Kimbrough : 9780805448856\\nShit My Dad Says : Justin Halpern : 9780752227405\\nThe Flavour Thesaurus : Niki Segnit : 9780747599777\\nThe Princess Bride : William Goldman : 9780747545187\\nThe Hare with Amber Eyes: A Hidden Inheritance : Edmund De Waal : 9780701184179\\nThe Morganville Vampires, Volume 1 : Rachel Caine : 9780451230546\\nStart-Up Nation: The Story of Israel\\'s Economic Miracle : Dan Senor, Saul Singer : 9780446541466\\nTo Kill a Mockingbird : Lee, Harper : 9780446310789\\nBlood Fever : Karen Marie Moning : 9780440240990\\nA History of Modern Europe: v. 2 : John M. Merriman : 9780393933857\\nMy Stroke of Insight : Jill Bolte Taylor : 9780340980507\\nThe Digital Photography Book: The Step-by-step Secrets for How to Make Your Photos Look Like the Pros\\'! : Scott Kelby : 9780321474049\\nArtisan Bread in Five Minutes a Day: The Discovery That Revolutionizes Home Baking : Jeff Hertzberg, Zoe Francois, Mark Luinenburg : 9780312362911\\nPercy Jackson and the Battle of the Labyrinth (Percy Jackson) : Rick Riordan : 9780141321271\\nCat\\'s Cradle (Essential Penguin S.) : Kurt Vonnegut, Benjamin Kunkel : 9780140285604\\nThere Was an Old Lady Who Swallowed a Fly (Classic Board Books with Holes S.) : Pam Adams, Pam Adams : 9780859537278\\nNever Let Me Go : Kazuo Ishiguro : 9780571258093\\nThe 4-Hour Workweek: Escape 9-5, Live Anywhere, and Join the New Rich : Timothy Ferriss : 9780307465351\\nThe Percy Jackson and the Olympians, Book Five: Last Olympian (Percy Jackson & the Olympians (Paperback)) : Rick Riordan : 9781423101505\\nThe Imperfectionists : Tom Rachman : 9780385343671\\nHeartless (Pretty Little Liars (Quality)) : Sara Shepard : 9780061566165\\nWhat Every Body is Saying: An Ex-FBI Agent\\'s Guide to Speed-reading People : Joe Navarro : 9780061438295\\nThe Time-crunched Cyclist: Fit, Fast and Powerful in 6 Hours a Week : Chris Carmichael, Jim Rutberg : 9781934030479\\nScott Pilgrim: Scott Pilgrim Gets it Together v. 4 (Scott Pilgrim\\'s) : Bryan Lee O\\'Malley, Bryan Lee O\\'Malley : 9781932664492\\nThe Russian Court at Sea: The Voyage of HMS Marlborough, April 1919 : Frances Welch : 9781906021788\\nAngie Lewin: Plants and Places : Leslie Geddes-Brown : 9781858945361\\nHeart of Darkness (Wordsworth Classics) : Joseph Conrad, Gene M. Moore : 9781853262401\\nExpress Makeup : Rae Morris : 9781845433956\\nIn My Skin: A Memoir : Kate Holden : 9781841959313\\nGiraffes Can\\'t Dance (Orchard picturebooks) : Giles Andreae, Guy Parker-Rees : 9781841215655\\nOne Magic Square: The Easy, Organic Way to Grow Your Own Food on a 3-Foot Square : Lolo Houbein : 9781615190126\\nThe Walking Dead Compendium: v. 1 : Robert Kirkman, Charlie Adlard, Cliff Rathburn : 9781607060765\\nThe Handmade Marketplace: How to Sell Your Crafts Locally, Globally, and Online : Kari Chapin : 9781603424776\\nSlow Death by Rubber Duck: The Secret Danger of Everyday Things : Rick Smith, Bruce Lourie, Sarah Dopp : 9781582437026\\nWhere Is the Green Sheep? Doll: 6.5\" : Mem Fox, Judy Horacek : 9781579822750\\nEat Tweet: 1000 Tiny Recipes in Twitterese : Maureen Evans : 9781579654269\\nLeadership on the Line: Staying Alive Through the Dangers of Leading : Ronald A. Heifetz, Marty Linsky : 9781578514373\\nThinking with Type: A Critical Guide for Designers, Writers, Editors, and Students : Ellen Lupton : 9781568989693\\nDeep Kiss of Winter : Kresley Cole, Gena Showalter : 9781451600056\\nZombie Spaceship Wasteland: A Book by Patton Oswalt : Patton Oswalt : 9781439149089\\nThe Glass Rainbow (Dave Robicheaux Mysteries (Hardcover)) : James Lee Burke : 9781439128299\\nAssholes Finish First : Tucker Max, Maddox : 9781416938743\\nThe Forgotten Garden : Kate Morton : 9781416550556\\nOperation Mincemeat: The True Spy Story That Changed the Course of World War II : Ben Macintyre : 9781408809211\\nRa Material: An Ancient Astronaut Speaks (Ra Material) : Don Elkins, etc. : 9780898652604\\nAutobiography of a Yogi : Paramahansa Yogananda : 9780876120798\\nThe Darkest Pleasure: Lords of the Underworld Series Bk. 3 (Mira Direct and Libraries) : Gena Showalter : 9780778303619\\nAssassin\\'s Creed 2: Prima Official Game Guide (Prima Official Game Guides) : Piggyback : 9780761563235\\nBelly Button Book (Boynton on Board S.) : Sandra Boynton : 9780761137993\\nHave a Little Faith : Mitch Albom : 9780751537512\\nTuesdays with Morrie: An Old Man, a Young Man and Life\\'s Greatest Lesson : Mitch Albom : 9780751529814\\nStrength Training Anatomy (Sports Anatomy) : Frederic Delavier : 9780736092265\\n3,096 Days : Natascha Kampusch : 9780670919994\\nSecret Language of Birthdays : Gary Goldschneider, Elffers Goldschneider : 9780670032617\\nHello, Cupcake!: Irresistibly Playful Creations Anyone Can Make : Karen Tack, Alan Richardson : 9780618829255\\nSuccubus Dreams : Richelle Mead : 9780553819113\\n'"
      ]
     },
     "execution_count": 28,
     "metadata": {},
     "output_type": "execute_result"
    }
   ],
   "source": [
    "values"
   ]
  },
  {
   "cell_type": "code",
   "execution_count": 29,
   "metadata": {},
   "outputs": [],
   "source": [
    "values = values.split(\"\\n\")"
   ]
  },
  {
   "cell_type": "code",
   "execution_count": 30,
   "metadata": {},
   "outputs": [
    {
     "data": {
      "text/plain": [
       "''"
      ]
     },
     "execution_count": 30,
     "metadata": {},
     "output_type": "execute_result"
    }
   ],
   "source": [
    "values.pop()"
   ]
  },
  {
   "cell_type": "code",
   "execution_count": 32,
   "metadata": {},
   "outputs": [
    {
     "data": {
      "text/plain": [
       "[\"Sarah's Key : Tatiana De Rosnay : 9780312370848\",\n",
       " 'Unbearable Lightness: A Story of Loss and Gain : Portia De Rossi : 9781439177785',\n",
       " 'The Slap: One day, at a suburban barbeque, a man slaps a child who is not his own... : Tsiolkas Christos : 9781848877993',\n",
       " 'Publication Manual of the American Psychological Association (Publication Manual of the American Psychological Association) : American Psychological Association : 9781433805615',\n",
       " 'Jasper Jones : Craig Silvey : 9780099537540',\n",
       " 'Crazy Love: Overwhelmed by a Relentless God : Francis Chan, Danae Yankoski : 9781434768513',\n",
       " 'Understanding Exposure: How to Shoot Great Photographs with Any Camera : Bryan Peterson : 9780817439392',\n",
       " 'The Help : Kathryn Stockett : 9780141047706',\n",
       " 'The 4-hour Work Week: Escape the 9-5, Live Anywhere and Join the New Rich : Timothy Ferriss : 9780091929114',\n",
       " 'The Playbook: Suit Up. Score Chicks. Be Awesome. : Neil Patrick Harris, Matt Kuhn : 9781439196830',\n",
       " 'Invincible Ultimate Collection: v. 6 : Ryan Ottley, Robert Kirkman : 9781607063605',\n",
       " 'MLA Handbook for Writers of Research Papers (MLA Handbook for Writers of Research Papers) : Modern Language Association of America : 9781603290241',\n",
       " 'Respectable Sins: Confronting the Sins We Tolerate : Jerry Bridges : 9781600061400',\n",
       " 'Blood Promise (Vampire Academy (Paperback)) : Richelle Mead : 9781595143105',\n",
       " 'Squirrel Seeks Chipmunk: A Wicked Bestiary : David Sedaris : 9781408701669',\n",
       " 'Nigella Express: 130 Recipes for Good Food, Fast : Nigella Lawson, Lis Parsons : 9781401322434',\n",
       " 'The Secret of Quantum Living : Frank Joseph Kinslow : 9780984426416',\n",
       " 'The Anatomy Coloring Book : Wynn Kapit, L.M. Elson : 9780805350869',\n",
       " 'The Art of War : Tzu Sun, Ralph D. Sawyer : 9780762415984',\n",
       " 'Curly Girl the Handbook : Lorraine Massey, Michele Bender : 9780761156789',\n",
       " \"We're Going on a Bear Hunt (Walker story board books) : Michael Rosen, Helen Oxenbury : 9780744555721\",\n",
       " 'India: Cookbook : Pushpesh Pant : 9780714859026',\n",
       " 'Unseen: Outcast Season: Book Three : Rachel Caine : 9780451463838',\n",
       " \"This Is Why You're Fat (and How to Get Thin Forever): Eat More, Cheat More, Lose More--And Keep the Weight Off : Jackie Warner : 9780446548601\",\n",
       " 'Moll Flanders (Norton Critical Edition) : Daniel Defoe, Albert J. Rivero : 9780393978629',\n",
       " 'How to Talk So Kids Will Listen and Listen So Kids Will Talk : Adele Faber, Elaine Mazlish : 9780380811960',\n",
       " 'The Gruffalo : Julia Donaldson, Axel Scheffler : 9780142403877',\n",
       " 'Rodrick Rules: Diary of a Wimpy Kid (Diary of a Wimpy Kid) : Jeff Kinney : 9780141324913',\n",
       " 'Heart of Darkness (Penguin Popular Classics) : Joseph Conrad : 9780140620481',\n",
       " 'Empire of Silver : Conn Iggulden : 9780007288007',\n",
       " \"Scott Pilgrim: Scott Pilgrim's Finest Hour v. 6 : Bryan Lee O'Malley, Bryan Lee O'Malley : 9781934964385\",\n",
       " \"Scott Pilgrim: Scott Pilgrim's Precious Little Life v. 1 (Scott Pilgrim's) : Bryan O'Malley, Bryan O'Malley : 9781932664089\",\n",
       " 'Wild Fermentation: The Flavor, Nutrition, and Craft of Live-Culture Foods : Sandor Ellix Katz, Sally Fallon : 9781931498234',\n",
       " 'Marked (House of Night) : P. C. Cast, Kristin Cast : 9781907410116',\n",
       " 'The Great Hunt (Wheel of Time S.) : Robert Jordan : 9781857230277',\n",
       " 'River Marked : Patricia Briggs : 9781841497976',\n",
       " \"Strengthsfinder 2.0: A New and Upgraded Edition of the Online Test from Gallup's Now Discover Your Strengths : Tom Rath : 9781595620156\",\n",
       " 'Keep Calm & Carry on Boxed Desk Notes : Peter Pauper : 9781593592943',\n",
       " '127 Hours: Between a Rock and a Hard Place : Aron Ralston : 9781451617702',\n",
       " 'Shadow Wave : Robert Muchamore : 9781444901986',\n",
       " 'Cake Boss: Stories and Recipes from Mia Famiglia : Buddy Valastro : 9781439183519',\n",
       " 'The Art of War: The Ancient Classic : Sun Tzu, Tom Butler-Bowdon : 9780857080097',\n",
       " 'Hush Little Baby : Sylvia Long : 9780811822909',\n",
       " \"Greg Heffley's Journal (Diary of a Wimpy Kid) : Jeff Kinney : 9780810993136\",\n",
       " 'The Love Dare : Stephen Kendrick, Alex Kendrick, Lawrence Kimbrough : 9780805448856',\n",
       " 'Shit My Dad Says : Justin Halpern : 9780752227405',\n",
       " 'The Flavour Thesaurus : Niki Segnit : 9780747599777',\n",
       " 'The Princess Bride : William Goldman : 9780747545187',\n",
       " 'The Hare with Amber Eyes: A Hidden Inheritance : Edmund De Waal : 9780701184179',\n",
       " 'The Morganville Vampires, Volume 1 : Rachel Caine : 9780451230546',\n",
       " \"Start-Up Nation: The Story of Israel's Economic Miracle : Dan Senor, Saul Singer : 9780446541466\",\n",
       " 'To Kill a Mockingbird : Lee, Harper : 9780446310789',\n",
       " 'Blood Fever : Karen Marie Moning : 9780440240990',\n",
       " 'A History of Modern Europe: v. 2 : John M. Merriman : 9780393933857',\n",
       " 'My Stroke of Insight : Jill Bolte Taylor : 9780340980507',\n",
       " \"The Digital Photography Book: The Step-by-step Secrets for How to Make Your Photos Look Like the Pros'! : Scott Kelby : 9780321474049\",\n",
       " 'Artisan Bread in Five Minutes a Day: The Discovery That Revolutionizes Home Baking : Jeff Hertzberg, Zoe Francois, Mark Luinenburg : 9780312362911',\n",
       " 'Percy Jackson and the Battle of the Labyrinth (Percy Jackson) : Rick Riordan : 9780141321271',\n",
       " \"Cat's Cradle (Essential Penguin S.) : Kurt Vonnegut, Benjamin Kunkel : 9780140285604\",\n",
       " 'There Was an Old Lady Who Swallowed a Fly (Classic Board Books with Holes S.) : Pam Adams, Pam Adams : 9780859537278',\n",
       " 'Never Let Me Go : Kazuo Ishiguro : 9780571258093',\n",
       " 'The 4-Hour Workweek: Escape 9-5, Live Anywhere, and Join the New Rich : Timothy Ferriss : 9780307465351',\n",
       " 'The Percy Jackson and the Olympians, Book Five: Last Olympian (Percy Jackson & the Olympians (Paperback)) : Rick Riordan : 9781423101505',\n",
       " 'The Imperfectionists : Tom Rachman : 9780385343671',\n",
       " 'Heartless (Pretty Little Liars (Quality)) : Sara Shepard : 9780061566165',\n",
       " \"What Every Body is Saying: An Ex-FBI Agent's Guide to Speed-reading People : Joe Navarro : 9780061438295\",\n",
       " 'The Time-crunched Cyclist: Fit, Fast and Powerful in 6 Hours a Week : Chris Carmichael, Jim Rutberg : 9781934030479',\n",
       " \"Scott Pilgrim: Scott Pilgrim Gets it Together v. 4 (Scott Pilgrim's) : Bryan Lee O'Malley, Bryan Lee O'Malley : 9781932664492\",\n",
       " 'The Russian Court at Sea: The Voyage of HMS Marlborough, April 1919 : Frances Welch : 9781906021788',\n",
       " 'Angie Lewin: Plants and Places : Leslie Geddes-Brown : 9781858945361',\n",
       " 'Heart of Darkness (Wordsworth Classics) : Joseph Conrad, Gene M. Moore : 9781853262401',\n",
       " 'Express Makeup : Rae Morris : 9781845433956',\n",
       " 'In My Skin: A Memoir : Kate Holden : 9781841959313',\n",
       " \"Giraffes Can't Dance (Orchard picturebooks) : Giles Andreae, Guy Parker-Rees : 9781841215655\",\n",
       " 'One Magic Square: The Easy, Organic Way to Grow Your Own Food on a 3-Foot Square : Lolo Houbein : 9781615190126',\n",
       " 'The Walking Dead Compendium: v. 1 : Robert Kirkman, Charlie Adlard, Cliff Rathburn : 9781607060765',\n",
       " 'The Handmade Marketplace: How to Sell Your Crafts Locally, Globally, and Online : Kari Chapin : 9781603424776',\n",
       " 'Slow Death by Rubber Duck: The Secret Danger of Everyday Things : Rick Smith, Bruce Lourie, Sarah Dopp : 9781582437026',\n",
       " 'Where Is the Green Sheep? Doll: 6.5\" : Mem Fox, Judy Horacek : 9781579822750',\n",
       " 'Eat Tweet: 1000 Tiny Recipes in Twitterese : Maureen Evans : 9781579654269',\n",
       " 'Leadership on the Line: Staying Alive Through the Dangers of Leading : Ronald A. Heifetz, Marty Linsky : 9781578514373',\n",
       " 'Thinking with Type: A Critical Guide for Designers, Writers, Editors, and Students : Ellen Lupton : 9781568989693',\n",
       " 'Deep Kiss of Winter : Kresley Cole, Gena Showalter : 9781451600056',\n",
       " 'Zombie Spaceship Wasteland: A Book by Patton Oswalt : Patton Oswalt : 9781439149089',\n",
       " 'The Glass Rainbow (Dave Robicheaux Mysteries (Hardcover)) : James Lee Burke : 9781439128299',\n",
       " 'Assholes Finish First : Tucker Max, Maddox : 9781416938743',\n",
       " 'The Forgotten Garden : Kate Morton : 9781416550556',\n",
       " 'Operation Mincemeat: The True Spy Story That Changed the Course of World War II : Ben Macintyre : 9781408809211',\n",
       " 'Ra Material: An Ancient Astronaut Speaks (Ra Material) : Don Elkins, etc. : 9780898652604',\n",
       " 'Autobiography of a Yogi : Paramahansa Yogananda : 9780876120798',\n",
       " 'The Darkest Pleasure: Lords of the Underworld Series Bk. 3 (Mira Direct and Libraries) : Gena Showalter : 9780778303619',\n",
       " \"Assassin's Creed 2: Prima Official Game Guide (Prima Official Game Guides) : Piggyback : 9780761563235\",\n",
       " 'Belly Button Book (Boynton on Board S.) : Sandra Boynton : 9780761137993',\n",
       " 'Have a Little Faith : Mitch Albom : 9780751537512',\n",
       " \"Tuesdays with Morrie: An Old Man, a Young Man and Life's Greatest Lesson : Mitch Albom : 9780751529814\",\n",
       " 'Strength Training Anatomy (Sports Anatomy) : Frederic Delavier : 9780736092265',\n",
       " '3,096 Days : Natascha Kampusch : 9780670919994',\n",
       " 'Secret Language of Birthdays : Gary Goldschneider, Elffers Goldschneider : 9780670032617',\n",
       " 'Hello, Cupcake!: Irresistibly Playful Creations Anyone Can Make : Karen Tack, Alan Richardson : 9780618829255',\n",
       " 'Succubus Dreams : Richelle Mead : 9780553819113']"
      ]
     },
     "execution_count": 32,
     "metadata": {},
     "output_type": "execute_result"
    }
   ],
   "source": [
    "values"
   ]
  },
  {
   "cell_type": "code",
   "execution_count": 33,
   "metadata": {},
   "outputs": [],
   "source": [
    "# PREVISIONE LABEL"
   ]
  },
  {
   "cell_type": "code",
   "execution_count": 34,
   "metadata": {},
   "outputs": [
    {
     "name": "stdout",
     "output_type": "stream",
     "text": [
      "Etichetta predetta: Book title \n",
      "\n",
      "\n",
      "\n",
      "Grado di affidabilità: 0.513\n",
      "\n",
      "78/100 -> Questa etichetta è stata predetta 78 volte su 100.\n"
     ]
    }
   ],
   "source": [
    "#Struttura: dictionary[label] -> [89%, 93%, 97%, 32%, 99% , ...]\n",
    "dictionary={}\n",
    "\n",
    "#Sruttura ausiliaria: permette di stabilire il numero di volte in cui ciascuna etichetta è stata predetta\n",
    "occorrenze={}\n",
    "\n",
    "\n",
    "#Crea una lista vuota per ciascuna label \n",
    "for label in labels:\n",
    "    dictionary[label]=[]\n",
    "    occorrenze[label]=0\n",
    "    \n",
    "\n",
    "classifier = pipeline(\"zero-shot-classification\")\n",
    "    \n",
    "labels_number= len(labels)\n",
    "\n",
    "#Vengono effettuate le previsioni attraverso il modello.\n",
    "#Le previsioni vengono memorizzate nel dizionario.\n",
    "for i in range(RECORDS_NUMBER):\n",
    "    text = values[i]\n",
    "    result=classifier(text, labels)\n",
    "    occorrenze[result['labels'][0]]+=1\n",
    "    for y in range(labels_number):\n",
    "        label= result['labels'][y]\n",
    "        score= result['scores'][y]\n",
    "        dictionary[label].append(score)    \n",
    "        \n",
    "        \n",
    "risultati={}\n",
    "for label in labels:\n",
    "    risultati[label]= sum(dictionary[label])/RECORDS_NUMBER\n",
    "\n",
    "max_score= 0\n",
    "\n",
    "for label, score in risultati.items():  \n",
    "    if score > max_score:\n",
    "        label_predict=label\n",
    "        max_score=score\n",
    "\n",
    "print(\"Etichetta predetta: %s \\n\\n\\n\" % label_predict)\n",
    "print(\"Grado di affidabilità: %.3f\\n\" % max_score)\n",
    "print(\"%d/%d -> Questa etichetta è stata predetta %d volte su %d.\" \n",
    "      % (occorrenze[label_predict], RECORDS_NUMBER, occorrenze[label_predict], RECORDS_NUMBER))"
   ]
  },
  {
   "cell_type": "markdown",
   "metadata": {},
   "source": [
    "# Label : Price"
   ]
  },
  {
   "cell_type": "code",
   "execution_count": 36,
   "metadata": {},
   "outputs": [
    {
     "name": "stdout",
     "output_type": "stream",
     "text": [
      "I dati sono stati caricati correttamente.\n"
     ]
    }
   ],
   "source": [
    "url='http://localhost:8123/?query=SELECT top 100 iiliriiriliiriliiiirlrllllilii  FROM extracted_data.57632537416d4cd19f3965026ab51caf'\n",
    "\n",
    "try:\n",
    "    r = requests.get(url)\n",
    "except ConnectionError:\n",
    "        print(\"Il collegamento al database non è attivo.\")\n",
    "\n",
    "        \n",
    "#L'utf-8-sig è una variante Python di UTF-8 che ci permette di eliminare, se presenti, eventuali carattere UTF-8 BOM.\n",
    "values= r.content.decode('utf-8-sig')\n",
    "\n",
    "\n",
    "#Controllo i parametri inseriti dall'utente\n",
    "if (values[6:8]=='60'):\n",
    "    print(\"ATTENZIONE! La tabella indicata non esiste.\")\n",
    "elif (values[6:8]=='47'):\n",
    "    print(\"ATTENZIONE! La colonna indicata non esiste.\")\n",
    "else:\n",
    "    print(\"I dati sono stati caricati correttamente.\")"
   ]
  },
  {
   "cell_type": "code",
   "execution_count": 37,
   "metadata": {},
   "outputs": [
    {
     "data": {
      "text/plain": [
       "'$5.99\\n$13.49\\n\\n$22.49\\n\\n$6.99\\n$15.99\\n\\n\\n$6.49\\n$26.24\\n$15.93\\n$12.99\\n$9.49\\n\\n\\n$10.49\\n$15.32\\n$4.45\\n$7.99\\n$6.66\\n$32.79\\n$5.99\\n$17.09\\n$12.99\\n$8.99\\n$5.99\\n\\n$2.62\\n\\n$6.49\\n$6.99\\n$15.99\\n\\n$9.98\\n\\n$10.63\\n$7.45\\n$6.49\\n$16.33\\n$16.99\\n$11.11\\n$6.02\\n$7.49\\n$6.99\\n$12.68\\n$24.64\\n$8.73\\n\\n$8.99\\n$16.49\\n$5.99\\n$6.49\\n$38.49\\n\\n$15.49\\n$17.22\\n\\n\\n$5.43\\n\\n$12.24\\n$5.99\\n$7.49\\n$7.99\\n$8.99\\n$13.49\\n$6.99\\n$19.12\\n$28.45\\n$3.38\\n$18.61\\n$9.03\\n$7.99\\n$12.49\\n$49.86\\n$8.99\\n$9.49\\n$7.50\\n$13.55\\n$18.69\\n$15.99\\n$6.99\\n$13.99\\n$18.49\\n$14.99\\n$7.99\\n\\n$9.99\\n$6.99\\n$8.10\\n$12.99\\n$5.99\\n\\n$9.11\\n$11.61\\n$10.28\\n$34.30\\n$8.99\\n$8.71\\n'"
      ]
     },
     "execution_count": 37,
     "metadata": {},
     "output_type": "execute_result"
    }
   ],
   "source": [
    "values"
   ]
  },
  {
   "cell_type": "code",
   "execution_count": 38,
   "metadata": {},
   "outputs": [],
   "source": [
    "values = values.split(\"\\n\")"
   ]
  },
  {
   "cell_type": "code",
   "execution_count": 39,
   "metadata": {},
   "outputs": [
    {
     "data": {
      "text/plain": [
       "['$5.99',\n",
       " '$13.49',\n",
       " '',\n",
       " '$22.49',\n",
       " '',\n",
       " '$6.99',\n",
       " '$15.99',\n",
       " '',\n",
       " '',\n",
       " '$6.49',\n",
       " '$26.24',\n",
       " '$15.93',\n",
       " '$12.99',\n",
       " '$9.49',\n",
       " '',\n",
       " '',\n",
       " '$10.49',\n",
       " '$15.32',\n",
       " '$4.45',\n",
       " '$7.99',\n",
       " '$6.66',\n",
       " '$32.79',\n",
       " '$5.99',\n",
       " '$17.09',\n",
       " '$12.99',\n",
       " '$8.99',\n",
       " '$5.99',\n",
       " '',\n",
       " '$2.62',\n",
       " '',\n",
       " '$6.49',\n",
       " '$6.99',\n",
       " '$15.99',\n",
       " '',\n",
       " '$9.98',\n",
       " '',\n",
       " '$10.63',\n",
       " '$7.45',\n",
       " '$6.49',\n",
       " '$16.33',\n",
       " '$16.99',\n",
       " '$11.11',\n",
       " '$6.02',\n",
       " '$7.49',\n",
       " '$6.99',\n",
       " '$12.68',\n",
       " '$24.64',\n",
       " '$8.73',\n",
       " '',\n",
       " '$8.99',\n",
       " '$16.49',\n",
       " '$5.99',\n",
       " '$6.49',\n",
       " '$38.49',\n",
       " '',\n",
       " '$15.49',\n",
       " '$17.22',\n",
       " '',\n",
       " '',\n",
       " '$5.43',\n",
       " '',\n",
       " '$12.24',\n",
       " '$5.99',\n",
       " '$7.49',\n",
       " '$7.99',\n",
       " '$8.99',\n",
       " '$13.49',\n",
       " '$6.99',\n",
       " '$19.12',\n",
       " '$28.45',\n",
       " '$3.38',\n",
       " '$18.61',\n",
       " '$9.03',\n",
       " '$7.99',\n",
       " '$12.49',\n",
       " '$49.86',\n",
       " '$8.99',\n",
       " '$9.49',\n",
       " '$7.50',\n",
       " '$13.55',\n",
       " '$18.69',\n",
       " '$15.99',\n",
       " '$6.99',\n",
       " '$13.99',\n",
       " '$18.49',\n",
       " '$14.99',\n",
       " '$7.99',\n",
       " '',\n",
       " '$9.99',\n",
       " '$6.99',\n",
       " '$8.10',\n",
       " '$12.99',\n",
       " '$5.99',\n",
       " '',\n",
       " '$9.11',\n",
       " '$11.61',\n",
       " '$10.28',\n",
       " '$34.30',\n",
       " '$8.99',\n",
       " '$8.71',\n",
       " '']"
      ]
     },
     "execution_count": 39,
     "metadata": {},
     "output_type": "execute_result"
    }
   ],
   "source": [
    "values"
   ]
  },
  {
   "cell_type": "code",
   "execution_count": 40,
   "metadata": {},
   "outputs": [],
   "source": [
    "values = list(filter(lambda x : x != '', values))"
   ]
  },
  {
   "cell_type": "code",
   "execution_count": 41,
   "metadata": {},
   "outputs": [
    {
     "data": {
      "text/plain": [
       "['$5.99',\n",
       " '$13.49',\n",
       " '$22.49',\n",
       " '$6.99',\n",
       " '$15.99',\n",
       " '$6.49',\n",
       " '$26.24',\n",
       " '$15.93',\n",
       " '$12.99',\n",
       " '$9.49',\n",
       " '$10.49',\n",
       " '$15.32',\n",
       " '$4.45',\n",
       " '$7.99',\n",
       " '$6.66',\n",
       " '$32.79',\n",
       " '$5.99',\n",
       " '$17.09',\n",
       " '$12.99',\n",
       " '$8.99',\n",
       " '$5.99',\n",
       " '$2.62',\n",
       " '$6.49',\n",
       " '$6.99',\n",
       " '$15.99',\n",
       " '$9.98',\n",
       " '$10.63',\n",
       " '$7.45',\n",
       " '$6.49',\n",
       " '$16.33',\n",
       " '$16.99',\n",
       " '$11.11',\n",
       " '$6.02',\n",
       " '$7.49',\n",
       " '$6.99',\n",
       " '$12.68',\n",
       " '$24.64',\n",
       " '$8.73',\n",
       " '$8.99',\n",
       " '$16.49',\n",
       " '$5.99',\n",
       " '$6.49',\n",
       " '$38.49',\n",
       " '$15.49',\n",
       " '$17.22',\n",
       " '$5.43',\n",
       " '$12.24',\n",
       " '$5.99',\n",
       " '$7.49',\n",
       " '$7.99',\n",
       " '$8.99',\n",
       " '$13.49',\n",
       " '$6.99',\n",
       " '$19.12',\n",
       " '$28.45',\n",
       " '$3.38',\n",
       " '$18.61',\n",
       " '$9.03',\n",
       " '$7.99',\n",
       " '$12.49',\n",
       " '$49.86',\n",
       " '$8.99',\n",
       " '$9.49',\n",
       " '$7.50',\n",
       " '$13.55',\n",
       " '$18.69',\n",
       " '$15.99',\n",
       " '$6.99',\n",
       " '$13.99',\n",
       " '$18.49',\n",
       " '$14.99',\n",
       " '$7.99',\n",
       " '$9.99',\n",
       " '$6.99',\n",
       " '$8.10',\n",
       " '$12.99',\n",
       " '$5.99',\n",
       " '$9.11',\n",
       " '$11.61',\n",
       " '$10.28',\n",
       " '$34.30',\n",
       " '$8.99',\n",
       " '$8.71']"
      ]
     },
     "execution_count": 41,
     "metadata": {},
     "output_type": "execute_result"
    }
   ],
   "source": [
    "values"
   ]
  },
  {
   "cell_type": "code",
   "execution_count": 42,
   "metadata": {},
   "outputs": [
    {
     "data": {
      "text/plain": [
       "83"
      ]
     },
     "execution_count": 42,
     "metadata": {},
     "output_type": "execute_result"
    }
   ],
   "source": [
    "newRECORDS_NUMBER = len(values)\n",
    "len(values)"
   ]
  },
  {
   "cell_type": "code",
   "execution_count": 43,
   "metadata": {},
   "outputs": [
    {
     "name": "stdout",
     "output_type": "stream",
     "text": [
      "Etichetta predetta: Price \n",
      "\n",
      "\n",
      "\n",
      "Grado di affidabilità: 0.733\n",
      "\n",
      "83/83 -> Questa etichetta è stata predetta 83 volte su 83.\n"
     ]
    }
   ],
   "source": [
    "#Struttura: dictionary[label] -> [89%, 93%, 97%, 32%, 99% , ...]\n",
    "dictionary={}\n",
    "\n",
    "#Sruttura ausiliaria: permette di stabilire il numero di volte in cui ciascuna etichetta è stata predetta\n",
    "occorrenze={}\n",
    "\n",
    "\n",
    "#Crea una lista vuota per ciascuna label \n",
    "for label in labels:\n",
    "    dictionary[label]=[]\n",
    "    occorrenze[label]=0\n",
    "    \n",
    "\n",
    "classifier = pipeline(\"zero-shot-classification\")\n",
    "    \n",
    "labels_number= len(labels)\n",
    "\n",
    "#Vengono effettuate le previsioni attraverso il modello.\n",
    "#Le previsioni vengono memorizzate nel dizionario.\n",
    "for i in range(newRECORDS_NUMBER):\n",
    "    text = values[i]\n",
    "    result=classifier(text, labels)\n",
    "    occorrenze[result['labels'][0]]+=1\n",
    "    for y in range(labels_number):\n",
    "        label= result['labels'][y]\n",
    "        score= result['scores'][y]\n",
    "        dictionary[label].append(score)    \n",
    "        \n",
    "        \n",
    "risultati={}\n",
    "for label in labels:\n",
    "    risultati[label]= sum(dictionary[label])/newRECORDS_NUMBER\n",
    "\n",
    "max_score= 0\n",
    "\n",
    "for label, score in risultati.items():  \n",
    "    if score > max_score:\n",
    "        label_predict=label\n",
    "        max_score=score\n",
    "\n",
    "print(\"Etichetta predetta: %s \\n\\n\\n\" % label_predict)\n",
    "print(\"Grado di affidabilità: %.3f\\n\" % max_score)\n",
    "print(\"%d/%d -> Questa etichetta è stata predetta %d volte su %d.\" \n",
    "      % (occorrenze[label_predict], newRECORDS_NUMBER, occorrenze[label_predict], newRECORDS_NUMBER))"
   ]
  },
  {
   "cell_type": "markdown",
   "metadata": {},
   "source": [
    "# Label : Publish Date"
   ]
  },
  {
   "cell_type": "code",
   "execution_count": 73,
   "metadata": {},
   "outputs": [
    {
     "name": "stdout",
     "output_type": "stream",
     "text": [
      "I dati sono stati caricati correttamente.\n"
     ]
    }
   ],
   "source": [
    "url='http://localhost:8123/?query=SELECT top 100 iiliriiriliiriliiiiririri  FROM extracted_data.57632537416d4cd19f3965026ab51caf'\n",
    "\n",
    "try:\n",
    "    r = requests.get(url)\n",
    "except ConnectionError:\n",
    "        print(\"Il collegamento al database non è attivo.\")\n",
    "\n",
    "        \n",
    "#L'utf-8-sig è una variante Python di UTF-8 che ci permette di eliminare, se presenti, eventuali carattere UTF-8 BOM.\n",
    "values= r.content.decode('utf-8-sig')\n",
    "\n",
    "\n",
    "#Controllo i parametri inseriti dall'utente\n",
    "if (values[6:8]=='60'):\n",
    "    print(\"ATTENZIONE! La tabella indicata non esiste.\")\n",
    "elif (values[6:8]=='47'):\n",
    "    print(\"ATTENZIONE! La colonna indicata non esiste.\")\n",
    "else:\n",
    "    print(\"I dati sono stati caricati correttamente.\")"
   ]
  },
  {
   "cell_type": "code",
   "execution_count": 74,
   "metadata": {},
   "outputs": [
    {
     "data": {
      "text/plain": [
       "'30 September 2008\\n01 November 2010\\n\\n15 July 2009\\n29 April 2010\\n10 March 2009\\n05 August 2010\\n04 May 2010\\n06 January 2011\\n01 November 2010\\n08 March 2011\\n01 April 2009\\n\\n06 April 2010\\n28 September 2010\\n01 November 2007\\n07 March 2010\\n25 June 2001\\n27 June 2003\\n25 March 2011\\n22 September 1997\\n28 September 2010\\n01 February 2011\\n27 April 2010\\n16 January 2004\\n31 October 1999\\n02 March 2006\\n05 January 2009\\n28 April 1994\\n02 September 2010\\n03 August 2010\\n28 July 2004\\n01 July 2003\\n27 April 2010\\n25 June 1992\\n03 March 2011\\n01 February 2007\\n01 January 2010\\n26 October 2010\\n02 September 2010\\n02 November 2010\\n14 May 2010\\n21 November 2002\\n01 April 2007\\n01 February 2009\\n04 June 2010\\n21 June 2010\\n20 October 1999\\n03 June 2010\\n03 November 2009\\n03 December 2009\\n01 October 1988\\n\\n01 December 2009\\n19 March 2009\\n23 August 2006\\n12 November 2007\\n05 March 2009\\n01 July 1999\\n01 September 2000\\n25 February 2010\\n01 January 2010\\n25 January 2011\\n04 January 2011\\n01 June 2010\\n09 July 2008\\n15 August 2009\\n14 November 2007\\n06 January 2011\\n01 October 2010\\n01 March 1995\\n01 January 2011\\n25 January 2007\\n12 July 2001\\n16 February 2010\\n06 May 2009\\n04 February 2010\\n01 January 2011\\n15 December 2010\\n08 September 2010\\n01 May 2002\\n07 December 2010\\n\\n01 March 2011\\n13 July 2010\\n28 September 2010\\n16 February 2010\\n06 September 2010\\n01 June 1989\\n01 May 2006\\n18 September 2009\\n17 November 2009\\n29 July 2005\\n02 September 2010\\n24 July 2003\\n01 May 2010\\n16 September 2010\\n31 October 2003\\n13 May 2009\\n04 December 2008\\n'"
      ]
     },
     "execution_count": 74,
     "metadata": {},
     "output_type": "execute_result"
    }
   ],
   "source": [
    "values"
   ]
  },
  {
   "cell_type": "code",
   "execution_count": 75,
   "metadata": {},
   "outputs": [
    {
     "data": {
      "text/plain": [
       "['30 September 2008',\n",
       " '01 November 2010',\n",
       " '',\n",
       " '15 July 2009',\n",
       " '29 April 2010',\n",
       " '10 March 2009',\n",
       " '05 August 2010',\n",
       " '04 May 2010',\n",
       " '06 January 2011',\n",
       " '01 November 2010',\n",
       " '08 March 2011',\n",
       " '01 April 2009',\n",
       " '',\n",
       " '06 April 2010',\n",
       " '28 September 2010',\n",
       " '01 November 2007',\n",
       " '07 March 2010',\n",
       " '25 June 2001',\n",
       " '27 June 2003',\n",
       " '25 March 2011',\n",
       " '22 September 1997',\n",
       " '28 September 2010',\n",
       " '01 February 2011',\n",
       " '27 April 2010',\n",
       " '16 January 2004',\n",
       " '31 October 1999',\n",
       " '02 March 2006',\n",
       " '05 January 2009',\n",
       " '28 April 1994',\n",
       " '02 September 2010',\n",
       " '03 August 2010',\n",
       " '28 July 2004',\n",
       " '01 July 2003',\n",
       " '27 April 2010',\n",
       " '25 June 1992',\n",
       " '03 March 2011',\n",
       " '01 February 2007',\n",
       " '01 January 2010',\n",
       " '26 October 2010',\n",
       " '02 September 2010',\n",
       " '02 November 2010',\n",
       " '14 May 2010',\n",
       " '21 November 2002',\n",
       " '01 April 2007',\n",
       " '01 February 2009',\n",
       " '04 June 2010',\n",
       " '21 June 2010',\n",
       " '20 October 1999',\n",
       " '03 June 2010',\n",
       " '03 November 2009',\n",
       " '03 December 2009',\n",
       " '01 October 1988',\n",
       " '',\n",
       " '01 December 2009',\n",
       " '19 March 2009',\n",
       " '23 August 2006',\n",
       " '12 November 2007',\n",
       " '05 March 2009',\n",
       " '01 July 1999',\n",
       " '01 September 2000',\n",
       " '25 February 2010',\n",
       " '01 January 2010',\n",
       " '25 January 2011',\n",
       " '04 January 2011',\n",
       " '01 June 2010',\n",
       " '09 July 2008',\n",
       " '15 August 2009',\n",
       " '14 November 2007',\n",
       " '06 January 2011',\n",
       " '01 October 2010',\n",
       " '01 March 1995',\n",
       " '01 January 2011',\n",
       " '25 January 2007',\n",
       " '12 July 2001',\n",
       " '16 February 2010',\n",
       " '06 May 2009',\n",
       " '04 February 2010',\n",
       " '01 January 2011',\n",
       " '15 December 2010',\n",
       " '08 September 2010',\n",
       " '01 May 2002',\n",
       " '07 December 2010',\n",
       " '',\n",
       " '01 March 2011',\n",
       " '13 July 2010',\n",
       " '28 September 2010',\n",
       " '16 February 2010',\n",
       " '06 September 2010',\n",
       " '01 June 1989',\n",
       " '01 May 2006',\n",
       " '18 September 2009',\n",
       " '17 November 2009',\n",
       " '29 July 2005',\n",
       " '02 September 2010',\n",
       " '24 July 2003',\n",
       " '01 May 2010',\n",
       " '16 September 2010',\n",
       " '31 October 2003',\n",
       " '13 May 2009',\n",
       " '04 December 2008',\n",
       " '']"
      ]
     },
     "execution_count": 75,
     "metadata": {},
     "output_type": "execute_result"
    }
   ],
   "source": [
    "values = values.split(\"\\n\")\n",
    "values"
   ]
  },
  {
   "cell_type": "code",
   "execution_count": 76,
   "metadata": {},
   "outputs": [],
   "source": [
    "values = list(filter(lambda x : x != '', values))"
   ]
  },
  {
   "cell_type": "code",
   "execution_count": 77,
   "metadata": {},
   "outputs": [
    {
     "data": {
      "text/plain": [
       "['30 September 2008',\n",
       " '01 November 2010',\n",
       " '15 July 2009',\n",
       " '29 April 2010',\n",
       " '10 March 2009',\n",
       " '05 August 2010',\n",
       " '04 May 2010',\n",
       " '06 January 2011',\n",
       " '01 November 2010',\n",
       " '08 March 2011',\n",
       " '01 April 2009',\n",
       " '06 April 2010',\n",
       " '28 September 2010',\n",
       " '01 November 2007',\n",
       " '07 March 2010',\n",
       " '25 June 2001',\n",
       " '27 June 2003',\n",
       " '25 March 2011',\n",
       " '22 September 1997',\n",
       " '28 September 2010',\n",
       " '01 February 2011',\n",
       " '27 April 2010',\n",
       " '16 January 2004',\n",
       " '31 October 1999',\n",
       " '02 March 2006',\n",
       " '05 January 2009',\n",
       " '28 April 1994',\n",
       " '02 September 2010',\n",
       " '03 August 2010',\n",
       " '28 July 2004',\n",
       " '01 July 2003',\n",
       " '27 April 2010',\n",
       " '25 June 1992',\n",
       " '03 March 2011',\n",
       " '01 February 2007',\n",
       " '01 January 2010',\n",
       " '26 October 2010',\n",
       " '02 September 2010',\n",
       " '02 November 2010',\n",
       " '14 May 2010',\n",
       " '21 November 2002',\n",
       " '01 April 2007',\n",
       " '01 February 2009',\n",
       " '04 June 2010',\n",
       " '21 June 2010',\n",
       " '20 October 1999',\n",
       " '03 June 2010',\n",
       " '03 November 2009',\n",
       " '03 December 2009',\n",
       " '01 October 1988',\n",
       " '01 December 2009',\n",
       " '19 March 2009',\n",
       " '23 August 2006',\n",
       " '12 November 2007',\n",
       " '05 March 2009',\n",
       " '01 July 1999',\n",
       " '01 September 2000',\n",
       " '25 February 2010',\n",
       " '01 January 2010',\n",
       " '25 January 2011',\n",
       " '04 January 2011',\n",
       " '01 June 2010',\n",
       " '09 July 2008',\n",
       " '15 August 2009',\n",
       " '14 November 2007',\n",
       " '06 January 2011',\n",
       " '01 October 2010',\n",
       " '01 March 1995',\n",
       " '01 January 2011',\n",
       " '25 January 2007',\n",
       " '12 July 2001',\n",
       " '16 February 2010',\n",
       " '06 May 2009',\n",
       " '04 February 2010',\n",
       " '01 January 2011',\n",
       " '15 December 2010',\n",
       " '08 September 2010',\n",
       " '01 May 2002',\n",
       " '07 December 2010',\n",
       " '01 March 2011',\n",
       " '13 July 2010',\n",
       " '28 September 2010',\n",
       " '16 February 2010',\n",
       " '06 September 2010',\n",
       " '01 June 1989',\n",
       " '01 May 2006',\n",
       " '18 September 2009',\n",
       " '17 November 2009',\n",
       " '29 July 2005',\n",
       " '02 September 2010',\n",
       " '24 July 2003',\n",
       " '01 May 2010',\n",
       " '16 September 2010',\n",
       " '31 October 2003',\n",
       " '13 May 2009',\n",
       " '04 December 2008']"
      ]
     },
     "execution_count": 77,
     "metadata": {},
     "output_type": "execute_result"
    }
   ],
   "source": [
    "values"
   ]
  },
  {
   "cell_type": "code",
   "execution_count": 78,
   "metadata": {},
   "outputs": [
    {
     "data": {
      "text/plain": [
       "96"
      ]
     },
     "execution_count": 78,
     "metadata": {},
     "output_type": "execute_result"
    }
   ],
   "source": [
    "newRECORDS_NUMBER= len(values)\n",
    "len(values)"
   ]
  },
  {
   "cell_type": "code",
   "execution_count": 79,
   "metadata": {},
   "outputs": [
    {
     "name": "stdout",
     "output_type": "stream",
     "text": [
      "Etichetta predetta: Publish Date \n",
      "\n",
      "\n",
      "\n",
      "Grado di affidabilità: 0.462\n",
      "\n",
      "96/96 -> Questa etichetta è stata predetta 96 volte su 96.\n"
     ]
    }
   ],
   "source": [
    "#Struttura: dictionary[label] -> [89%, 93%, 97%, 32%, 99% , ...]\n",
    "dictionary={}\n",
    "\n",
    "#Sruttura ausiliaria: permette di stabilire il numero di volte in cui ciascuna etichetta è stata predetta\n",
    "occorrenze={}\n",
    "\n",
    "\n",
    "#Crea una lista vuota per ciascuna label \n",
    "for label in labels:\n",
    "    dictionary[label]=[]\n",
    "    occorrenze[label]=0\n",
    "    \n",
    "\n",
    "classifier = pipeline(\"zero-shot-classification\")\n",
    "    \n",
    "labels_number= len(labels)\n",
    "\n",
    "#Vengono effettuate le previsioni attraverso il modello.\n",
    "#Le previsioni vengono memorizzate nel dizionario.\n",
    "for i in range(newRECORDS_NUMBER):\n",
    "    text = values[i]\n",
    "    result=classifier(text, labels)\n",
    "    occorrenze[result['labels'][0]]+=1\n",
    "    for y in range(labels_number):\n",
    "        label= result['labels'][y]\n",
    "        score= result['scores'][y]\n",
    "        dictionary[label].append(score)    \n",
    "        \n",
    "        \n",
    "risultati={}\n",
    "for label in labels:\n",
    "    risultati[label]= sum(dictionary[label])/newRECORDS_NUMBER\n",
    "\n",
    "max_score= 0\n",
    "\n",
    "for label, score in risultati.items():  \n",
    "    if score > max_score:\n",
    "        label_predict=label\n",
    "        max_score=score\n",
    "\n",
    "print(\"Etichetta predetta: %s \\n\\n\\n\" % label_predict)\n",
    "print(\"Grado di affidabilità: %.3f\\n\" % max_score)\n",
    "print(\"%d/%d -> Questa etichetta è stata predetta %d volte su %d.\" \n",
    "      % (occorrenze[label_predict], newRECORDS_NUMBER, occorrenze[label_predict], newRECORDS_NUMBER))"
   ]
  },
  {
   "cell_type": "markdown",
   "metadata": {},
   "source": [
    "# Label : Pages"
   ]
  },
  {
   "cell_type": "code",
   "execution_count": 82,
   "metadata": {},
   "outputs": [
    {
     "name": "stdout",
     "output_type": "stream",
     "text": [
      "I dati sono stati caricati correttamente.\n"
     ]
    }
   ],
   "source": [
    "url='http://localhost:8123/?query=SELECT top 100 iiliriiriliiriliiiirirrirri FROM extracted_data.57632537416d4cd19f3965026ab51caf'\n",
    "\n",
    "try:\n",
    "    r = requests.get(url)\n",
    "except ConnectionError:\n",
    "        print(\"Il collegamento al database non è attivo.\")\n",
    "\n",
    "        \n",
    "#L'utf-8-sig è una variante Python di UTF-8 che ci permette di eliminare, se presenti, eventuali carattere UTF-8 BOM.\n",
    "values= r.content.decode('utf-8-sig')\n",
    "\n",
    "\n",
    "#Controllo i parametri inseriti dall'utente\n",
    "if (values[6:8]=='60'):\n",
    "    print(\"ATTENZIONE! La tabella indicata non esiste.\")\n",
    "elif (values[6:8]=='47'):\n",
    "    print(\"ATTENZIONE! La colonna indicata non esiste.\")\n",
    "else:\n",
    "    print(\"I dati sono stati caricati correttamente.\")"
   ]
  },
  {
   "cell_type": "code",
   "execution_count": 83,
   "metadata": {},
   "outputs": [
    {
     "data": {
      "text/plain": [
       "'293 pages\\n308 pages\\n\\n300 pages\\n304 pages\\n186 pages\\n176 pages\\n464 pages\\n416 pages\\n176 pages\\n336 pages\\n292 pages\\n\\n512 pages\\n176 pages\\n390 pages\\n218 pages\\n400 pages\\n128 pages\\n176 pages\\n36 pages\\n960 pages\\n320 pages\\n307 pages\\n464 pages\\n286 pages\\n26 pages\\n224 pages\\n112 pages\\n448 pages\\n248 pages\\n168 pages\\n200 pages\\n368 pages\\n718 pages\\n352 pages\\n192 pages\\n\\n413 pages\\n\\n255 pages\\n220 pages\\n26 pages\\n224 pages\\n213 pages\\n224 pages\\n400 pages\\n416 pages\\n368 pages\\n480 pages\\n320 pages\\n\\n\\n\\n192 pages\\n240 pages\\n256 pages\\n352 pages\\n192 pages\\n14 pages\\n304 pages\\n396 pages\\n416 pages\\n304 pages\\n274 pages\\n256 pages\\n232 pages\\n200 pages\\n224 pages\\n191 pages\\n240 pages\\n192 pages\\n292 pages\\n32 pages\\n347 pages\\n1088 pages\\n224 pages\\n328 pages\\n\\n336 pages\\n224 pages\\n224 pages\\n\\n208 pages\\n433 pages\\n416 pages\\n560 pages\\n432 pages\\n229 pages\\n596 pages\\n384 pages\\n192 pages\\n24 pages\\n272 pages\\n212 pages\\n192 pages\\n256 pages\\n832 pages\\n240 pages\\n448 pages\\n'"
      ]
     },
     "execution_count": 83,
     "metadata": {},
     "output_type": "execute_result"
    }
   ],
   "source": [
    "values"
   ]
  },
  {
   "cell_type": "code",
   "execution_count": 84,
   "metadata": {},
   "outputs": [],
   "source": [
    "values = values.split(\"\\n\")"
   ]
  },
  {
   "cell_type": "code",
   "execution_count": 85,
   "metadata": {},
   "outputs": [
    {
     "data": {
      "text/plain": [
       "['293 pages',\n",
       " '308 pages',\n",
       " '',\n",
       " '300 pages',\n",
       " '304 pages',\n",
       " '186 pages',\n",
       " '176 pages',\n",
       " '464 pages',\n",
       " '416 pages',\n",
       " '176 pages',\n",
       " '336 pages',\n",
       " '292 pages',\n",
       " '',\n",
       " '512 pages',\n",
       " '176 pages',\n",
       " '390 pages',\n",
       " '218 pages',\n",
       " '400 pages',\n",
       " '128 pages',\n",
       " '176 pages',\n",
       " '36 pages',\n",
       " '960 pages',\n",
       " '320 pages',\n",
       " '307 pages',\n",
       " '464 pages',\n",
       " '286 pages',\n",
       " '26 pages',\n",
       " '224 pages',\n",
       " '112 pages',\n",
       " '448 pages',\n",
       " '248 pages',\n",
       " '168 pages',\n",
       " '200 pages',\n",
       " '368 pages',\n",
       " '718 pages',\n",
       " '352 pages',\n",
       " '192 pages',\n",
       " '',\n",
       " '413 pages',\n",
       " '',\n",
       " '255 pages',\n",
       " '220 pages',\n",
       " '26 pages',\n",
       " '224 pages',\n",
       " '213 pages',\n",
       " '224 pages',\n",
       " '400 pages',\n",
       " '416 pages',\n",
       " '368 pages',\n",
       " '480 pages',\n",
       " '320 pages',\n",
       " '',\n",
       " '',\n",
       " '',\n",
       " '192 pages',\n",
       " '240 pages',\n",
       " '256 pages',\n",
       " '352 pages',\n",
       " '192 pages',\n",
       " '14 pages',\n",
       " '304 pages',\n",
       " '396 pages',\n",
       " '416 pages',\n",
       " '304 pages',\n",
       " '274 pages',\n",
       " '256 pages',\n",
       " '232 pages',\n",
       " '200 pages',\n",
       " '224 pages',\n",
       " '191 pages',\n",
       " '240 pages',\n",
       " '192 pages',\n",
       " '292 pages',\n",
       " '32 pages',\n",
       " '347 pages',\n",
       " '1088 pages',\n",
       " '224 pages',\n",
       " '328 pages',\n",
       " '',\n",
       " '336 pages',\n",
       " '224 pages',\n",
       " '224 pages',\n",
       " '',\n",
       " '208 pages',\n",
       " '433 pages',\n",
       " '416 pages',\n",
       " '560 pages',\n",
       " '432 pages',\n",
       " '229 pages',\n",
       " '596 pages',\n",
       " '384 pages',\n",
       " '192 pages',\n",
       " '24 pages',\n",
       " '272 pages',\n",
       " '212 pages',\n",
       " '192 pages',\n",
       " '256 pages',\n",
       " '832 pages',\n",
       " '240 pages',\n",
       " '448 pages',\n",
       " '']"
      ]
     },
     "execution_count": 85,
     "metadata": {},
     "output_type": "execute_result"
    }
   ],
   "source": [
    "values"
   ]
  },
  {
   "cell_type": "code",
   "execution_count": 86,
   "metadata": {},
   "outputs": [],
   "source": [
    "values = list (filter(lambda x : x != '', values))"
   ]
  },
  {
   "cell_type": "code",
   "execution_count": 87,
   "metadata": {},
   "outputs": [
    {
     "data": {
      "text/plain": [
       "['293 pages',\n",
       " '308 pages',\n",
       " '300 pages',\n",
       " '304 pages',\n",
       " '186 pages',\n",
       " '176 pages',\n",
       " '464 pages',\n",
       " '416 pages',\n",
       " '176 pages',\n",
       " '336 pages',\n",
       " '292 pages',\n",
       " '512 pages',\n",
       " '176 pages',\n",
       " '390 pages',\n",
       " '218 pages',\n",
       " '400 pages',\n",
       " '128 pages',\n",
       " '176 pages',\n",
       " '36 pages',\n",
       " '960 pages',\n",
       " '320 pages',\n",
       " '307 pages',\n",
       " '464 pages',\n",
       " '286 pages',\n",
       " '26 pages',\n",
       " '224 pages',\n",
       " '112 pages',\n",
       " '448 pages',\n",
       " '248 pages',\n",
       " '168 pages',\n",
       " '200 pages',\n",
       " '368 pages',\n",
       " '718 pages',\n",
       " '352 pages',\n",
       " '192 pages',\n",
       " '413 pages',\n",
       " '255 pages',\n",
       " '220 pages',\n",
       " '26 pages',\n",
       " '224 pages',\n",
       " '213 pages',\n",
       " '224 pages',\n",
       " '400 pages',\n",
       " '416 pages',\n",
       " '368 pages',\n",
       " '480 pages',\n",
       " '320 pages',\n",
       " '192 pages',\n",
       " '240 pages',\n",
       " '256 pages',\n",
       " '352 pages',\n",
       " '192 pages',\n",
       " '14 pages',\n",
       " '304 pages',\n",
       " '396 pages',\n",
       " '416 pages',\n",
       " '304 pages',\n",
       " '274 pages',\n",
       " '256 pages',\n",
       " '232 pages',\n",
       " '200 pages',\n",
       " '224 pages',\n",
       " '191 pages',\n",
       " '240 pages',\n",
       " '192 pages',\n",
       " '292 pages',\n",
       " '32 pages',\n",
       " '347 pages',\n",
       " '1088 pages',\n",
       " '224 pages',\n",
       " '328 pages',\n",
       " '336 pages',\n",
       " '224 pages',\n",
       " '224 pages',\n",
       " '208 pages',\n",
       " '433 pages',\n",
       " '416 pages',\n",
       " '560 pages',\n",
       " '432 pages',\n",
       " '229 pages',\n",
       " '596 pages',\n",
       " '384 pages',\n",
       " '192 pages',\n",
       " '24 pages',\n",
       " '272 pages',\n",
       " '212 pages',\n",
       " '192 pages',\n",
       " '256 pages',\n",
       " '832 pages',\n",
       " '240 pages',\n",
       " '448 pages']"
      ]
     },
     "execution_count": 87,
     "metadata": {},
     "output_type": "execute_result"
    }
   ],
   "source": [
    "values"
   ]
  },
  {
   "cell_type": "code",
   "execution_count": 89,
   "metadata": {},
   "outputs": [
    {
     "data": {
      "text/plain": [
       "91"
      ]
     },
     "execution_count": 89,
     "metadata": {},
     "output_type": "execute_result"
    }
   ],
   "source": [
    "newRECORDS_NUMBER = len(values)\n",
    "len(values)"
   ]
  },
  {
   "cell_type": "code",
   "execution_count": 90,
   "metadata": {},
   "outputs": [
    {
     "name": "stdout",
     "output_type": "stream",
     "text": [
      "Etichetta predetta: Pages \n",
      "\n",
      "\n",
      "\n",
      "Grado di affidabilità: 0.759\n",
      "\n",
      "91/91 -> Questa etichetta è stata predetta 91 volte su 91.\n"
     ]
    }
   ],
   "source": [
    "#Struttura: dictionary[label] -> [89%, 93%, 97%, 32%, 99% , ...]\n",
    "dictionary={}\n",
    "\n",
    "#Sruttura ausiliaria: permette di stabilire il numero di volte in cui ciascuna etichetta è stata predetta\n",
    "occorrenze={}\n",
    "\n",
    "\n",
    "#Crea una lista vuota per ciascuna label \n",
    "for label in labels:\n",
    "    dictionary[label]=[]\n",
    "    occorrenze[label]=0\n",
    "    \n",
    "\n",
    "classifier = pipeline(\"zero-shot-classification\")\n",
    "    \n",
    "labels_number= len(labels)\n",
    "\n",
    "#Vengono effettuate le previsioni attraverso il modello.\n",
    "#Le previsioni vengono memorizzate nel dizionario.\n",
    "for i in range(newRECORDS_NUMBER):\n",
    "    text = values[i]\n",
    "    result=classifier(text, labels)\n",
    "    occorrenze[result['labels'][0]]+=1\n",
    "    for y in range(labels_number):\n",
    "        label= result['labels'][y]\n",
    "        score= result['scores'][y]\n",
    "        dictionary[label].append(score)    \n",
    "        \n",
    "        \n",
    "risultati={}\n",
    "for label in labels:\n",
    "    risultati[label]= sum(dictionary[label])/newRECORDS_NUMBER\n",
    "\n",
    "max_score= 0\n",
    "\n",
    "for label, score in risultati.items():  \n",
    "    if score > max_score:\n",
    "        label_predict=label\n",
    "        max_score=score\n",
    "\n",
    "print(\"Etichetta predetta: %s \\n\\n\\n\" % label_predict)\n",
    "print(\"Grado di affidabilità: %.3f\\n\" % max_score)\n",
    "print(\"%d/%d -> Questa etichetta è stata predetta %d volte su %d.\" \n",
    "      % (occorrenze[label_predict], newRECORDS_NUMBER, occorrenze[label_predict], newRECORDS_NUMBER))"
   ]
  },
  {
   "cell_type": "markdown",
   "metadata": {},
   "source": [
    "# Label : Reviews"
   ]
  },
  {
   "cell_type": "code",
   "execution_count": 203,
   "metadata": {},
   "outputs": [
    {
     "name": "stdout",
     "output_type": "stream",
     "text": [
      "I dati sono stati caricati correttamente.\n"
     ]
    }
   ],
   "source": [
    "url='http://localhost:8123/?query=SELECT top 100 iiliriiriliiriliiiirlrrl  FROM extracted_data.57632537416d4cd19f3965026ab51caf'\n",
    "\n",
    "try:\n",
    "    r = requests.get(url)\n",
    "except ConnectionError:\n",
    "        print(\"Il collegamento al database non è attivo.\")\n",
    "\n",
    "        \n",
    "#L'utf-8-sig è una variante Python di UTF-8 che ci permette di eliminare, se presenti, eventuali carattere UTF-8 BOM.\n",
    "values= r.content.decode('utf-8-sig')\n",
    "\n",
    "\n",
    "#Controllo i parametri inseriti dall'utente\n",
    "if (values[6:8]=='60'):\n",
    "    print(\"ATTENZIONE! La tabella indicata non esiste.\")\n",
    "elif (values[6:8]=='47'):\n",
    "    print(\"ATTENZIONE! La colonna indicata non esiste.\")\n",
    "else:\n",
    "    print(\"I dati sono stati caricati correttamente.\")"
   ]
  },
  {
   "cell_type": "code",
   "execution_count": 204,
   "metadata": {},
   "outputs": [
    {
     "data": {
      "text/plain": [
       "'\\n\\n\\n\\nLate on a hot summer night at the tail end of 1965, Charlie Bucktin, a precocious and bookish boy of thirteen, is startled by a knock on his window. His visitor is Jasper Jones. Rebellious, mixed-race and solitary, Jasper is a distant figure of danger and intrigue for Charlie.\\n\\nAmphoto\\\\\\'s bestselling title of all time, now updated to reflect the quickly changing world of digital photography. Understanding Exposure has demystified the often-complex concepts of exposure for hundreds of thousands of amateur photographers. Now refreshed with current technologies and terms and an all-new chapter, Bryan Peterson continues in \"bringing exposure to the masses,\" teaching today\\\\\\'s a...\\n\\nA guide to luxury lifestyle design. It teaches: how the author went from $40,000 dollars per year and 80 hours per week to $40,000 per month and 4 hours per week; how to outsource your life to overseas virtual assistants for $5 per hour and do whatever you want; how blue-chip escape artists travel the world without quitting their jobs; and, more.\\n\\nIncludes the Invincible War, set in motion by Angstrom Levy; the epic battle with Conquest; the final build up to the Viltrumite War; and, the Squid invasion of Earth.\\n\\n\\n\\nThe brilliantly quirky David Sedaris returns with a book of acerbic and outrageously funny stories about animals who have unmistakably human failings\\n\\n\\nOften imitated, never duplicated.\\nThe ancient Chinese general Sun Tzu is universally recognized as the greatest military strategist in history, a master of warfare interpretation.  This condensed version of his influential classic imparts the knowledge and skills to overcome every adversary in war, at the office, or in everyday life.\\nThe Curly Girl manifesto is back, now completely revised, updated, and expanded by more than a third with all-new material. Created by curly hair evangelist Lorraine Massey-the go-to curl expert featured in Allure, InStyle, Lucky, Seventeen, and The New York Times. CURLY GIRL is the surprising bible for the 65 percent of women with naturally curl\\nWinner of the 1989 Smarties Book Prize and highly commended for the 1989 Kate Greenaway Medal, this picture book tells of a family going in search of a bear in a cave.\\nA comprehensive guide to Indian cooking, with over 1,000 recipes covering the various aspects of India\\\\\\'s rich and colourful culinary heritage. It includes the chapters on breads, pickles, spice pastes and chutneys that contain a wide variety of recipes, such as bagarkhani roti and tamatar ka achar (tomato and mustard-seed pickle).\\n\\n\\nBased on the 1722 first edition, this Norton critical edition of Daniel Defoe\\\\\\'s classic work includes annotations and an essay outlining its history. Documents on criminal transport, contemporary criminal accounts and colonial laws give context to the novel.\\n\\n\\nIt\\\\\\'s a brand-new year and Greg is keen to put the humiliating events of last summer firmly behind him. But someone knows everything - someone whose job it is to most definitely not keep anything embarrassing of Greg\\\\\\'s private - his big brother, Rodrick. How can Greg make it through this new school year with his cool(ish) reputation intact?\\nReflects the savage repressions carried out in the Congo by the Belgians in one of the largest acts of genocide committed up to that time.\\nThe eagerly awaited 4th novel in the bestselling Conqueror series, continuing the life and adventures of the mighty Khan dynasty.\\n\\n\"Scott Pilgrim Volume 1: Scott Pilgrim\\\\\\'s Precious Little Life\".\\nTakes readers on a whirlwind trip through the wide world of fermentation,  with basic and delicious recipes - some familiar, others exotic - that are easy to make at home.\\nA hot new series set in a high school for vampires.\\n\\\\\\'With The Wheel of Time, Jordan has come to dominate the world Tolkien began to reveal\\\\\\' THE NEW YORK TIMES\\nA fast-paced adventure featuring the ingenious and appealing Mercy Thompson - mechanic, trouble-magnet and coyote shapeshifter.\\n\\n\\n\\n\\n\\nThe original and bestselling leadership book!   Sun Tzu\\\\\\'s ideas on survival and success have been read across the world for centuries. Today they can still be applied to business, politics and life. The Art of War demonstrates how to win without conflict.\\nA new version of the classic lullaby HUSH LITTLE BABY in which mamma bunny lulls her babies to sleep with the help of a host of bedtime wonders, such as a hummingbird in flight, the magic of a harvest moon, and the reassuring hug of a parent.  Illustrated in full colour.\\nIt\\\\\\'s a new school year and Greg Heffley finds himself thrust into the harsh landscape of secondary school. While Greg\\\\\\'s days are focused on school survival, he\\\\\\'s happy to have Rowley along for the ride. But when his best friend\\\\\\'s star starts to rise at school, Greg tries to use Rowley\\\\\\'s newfound popularity to his advantage.\\n\\nAlmost one million people follow Mr Justin Halpern\\\\\\'s philosophical musings every day on Twitter. This book features his sayings.\\nEver wondered why one flavour works with another? Or lacked inspiration for what to do with a bundle of beetroot? \"The Flavour Thesaurus\" is the first book to examine what goes with what, pair by pair. This book follows the form of \"Roget\\\\\\'s Thesaurus\". It includes 980 entries in all and 200 recipes or suggestions are embedded in the text.\\nBeautiful, flaxen-haired Buttercup has fallen for Westley, the farm boy, and when he departs to make his fortune, she vows never to love another. So when she hears that his ship has been captured by the Dread Pirate Roberts - who never leaves survivors - her heart is broken.\\nA memoir that traces the network of a remarkable family against the backdrop of a tumultuous century. It tells the story of a unique collection which passed from hand to hand - and which, in a twist of fate, found its way home to Japan.\\n\\nWhat the world can learn from Israel\\\\\\'s meteoric economic success.\\nThe explosion of racial hate in an Alabama town is viewed by a little girl whose father defends a black man accused of rape.\\n\\n\\nA US bestseller and Oprah\\\\\\'s new webinar author, this is a brain scientist\\\\\\'s personal experience of a stroke, her journey to recovery and rare insight into human consciousness and its possibilities for all of us\\nTackles the most important side of digital photography - how to take pro-quality shots using the same tricks  top digital pros use. This book shows which button to push, which setting to use, when to use them, and nearly two hundred photographic \"tricks of the trade\". Each page covers just one trick, one concept that makes your photography better.\\nPeople who have tasted fine artisan breads find that too many of the little shops that sold them have disappeared. And, they\\\\\\'ve no time to make them at home. This book includes recipes for sumptuous baked desserts, using the same simple time-saving method.\\nHonestly, blowing up another school was the last thing I wanted to do. As the son of a Greek god, I\\\\\\'ve had my share of near-death disaster. This summer, I didn\\\\\\'t choose to battle the cheerleading squad, but when two hissing she-devils with fangs are heading straight for you, what\\\\\\'s a half-blood meant to do?\\nDr Felix Hoenikker, one of the founding \\\\\\'fathers\\\\\\' of the atomic bomb, has left a deadly legacy to the world. For he is the inventor of \\\\\\'ice-nine\\\\\\', a lethal chemical capable of freezing the entire planet. The search for its whereabouts leads to Hoenikker\\\\\\'s three ecentric children, to a crazed dictator in the Caribbean, to madness.\\nThirty-six years after publication this much-loved classic is still as popular as ever. Ingenious die-cut holes bring this much-loved nursery rhyme to life, and Pam Adams\\\\\\'s illustrations lend humour and vibrancy to the proceedings.\\nImagines the lives of a group of students growing up in a darkly skewered version of contemporary England. This novel dramatises the author\\\\\\'s attempts to come to terms with her childhood at the seemingly idyllic Hailsham School, and with the fate that has always awaited her and her closest friends in the wider world.\\n\\n\\n\\n\\nDemonstrates how to modify your subconscious statements to your advantage. This book helps you read what other people are \\\\\\'saying\\\\\\' nonverbally. These skills can increase your ability to assess moods, decode behaviors, anticipate problems, avoid hidden pitfalls, influence negotiations, and understand the secret motivations of those around you.\\nPresents a training programme that delivers competitive fitness and power without the impossible time demands of conventional approaches. This book shows men and women in their 30s, 40s, 50s and beyond how to build fitness on a realistic schedule that fits into the busy lives of active middle-agers.\\n\\n\\n\\nA tale of horror, set in the Congo during the period of rapid colonial expansion in the 19th century. The story deals with the highly disturbing effects of economic, social and political exploitation of European and African societies and the cataclysmic behaviour this induced in some individuals.\\nExpress Makeup provides fast, easy-to-achieve looks for women who don\\\\\\'t like spending ages on their makeup or for those who need to look fab in a hurry. Learn all the tricks author, Rae Morris, gathered over her highly successful career working with stars such as Naomi Campbell, Cate Blanchett and Kelly Rowland. From using a piece of sticky tape to achieve great-looking makeup in less than a minut...\\nPresenting her tale of heroin addiction, half-hearted rehab and prostitution, here, Kate Holden conjures the sense of invincibility that comes with the first taste of adult life, the belief that drugs can make love and art transcendent, and, the conviction that you are in control.\\nA funny, touching and triumphant story from a bestselling and award-winning creative team.\\n\\nCollects \"The Walking Dead\" numbers 1-48.\\nWhether the product is beaded jewellery or felted slippers, illustrations or tote bags, this work helps crafters determine cost of goods, market competition, and the pros and cons of wholesale and retail sales. It explains the guidelines that craft fairs impose on exhibitors, the typical yearly calendar of shows, and how to start a new craft fair.\\n\\n\\nA compendium of food ideas featuring recipes from around the world, as well as comfort food staples, versions of classic dishes and kitchen tips. From Lemon Lentil Soup to Strudel Pastry, it\\\\\\'s also includes many cooking tips and techniques.\\nShows that it is possible to put ourselves on the line, respond effectively to the risks, and live to celebrate our efforts. This book addresses various aspects of leadership, such as how to manage your personal vulnerabilities, and how to anchor yourself and sustain your spirit through tough times.\\n\\n\\n\\n\\n\\n\\nOne April morning in 1943, a sardine fisherman spotted the corpse of a British soldier floating in the sea off the coast of Spain and set in train a course of events that would change the course of the Second World War. Operation Mincemeat was the most successful wartime deception. This title tells the story of Operation Mincemeat.\\n\\n\\n\\n\\nFollowing the response to \"Belly Button (Round)\" -a song from her Grammy-nominated book/CD, Sandra Boynton further contemplates this subject.  Featuring a beachful of bare-bellied hippos - including one tiny baby who can only say \"Bee Bo\" - this book, a part of the \"Boynton on Board\" series, provides giggly, read-aloud fun.\\nThe new bestseller from the author of The Five People You Meet in Heaven and Tuesdays with Morrie.\\nMitch Albom rediscovered his college professor and mentor, Morrie Schwartz, in the last months of the older man\\\\\\'s life. Knowing he was dying, Morrie visited Mitch every Tuesday, just like in college. This is a chronicle of their time together and their final \"class\": lessons in how to live.\\nWith exercises, stretches and illustrations, this title can help you gain a whole new understanding of how muscles perform during exercise. Explaining what muscles are used during exercise, it features over 600 full-colour illustrations that reveal the primary muscles along with all the relevant bones, ligaments, tendons and connective tissue.\\nOn 2 March 1998 ten-year-old Natascha Kampusch was snatched off the street by a stranger and bundled into a white van. Hours later she found herself in a dark cellar, wrapped in a blanket. When she emerged eight years later, her childhood had gone. This book tells her incredible story.\\n\\n\\nGeorgina Kincaid, a shape-shifting succubus who gets her energy from seducing men, is under demonic orders to mentor the new (and surprisingly inept) succubus on the block. Then there are the dreams. Someone, or something, is preying on Georgina at night, draining her energy, and supplying eerie visions of her future.\\n'"
      ]
     },
     "execution_count": 204,
     "metadata": {},
     "output_type": "execute_result"
    }
   ],
   "source": [
    "values"
   ]
  },
  {
   "cell_type": "code",
   "execution_count": 205,
   "metadata": {},
   "outputs": [],
   "source": [
    "values = values.replace(\"\\\\\",\" \")"
   ]
  },
  {
   "cell_type": "code",
   "execution_count": 206,
   "metadata": {},
   "outputs": [
    {
     "data": {
      "text/plain": [
       "'\\n\\n\\n\\nLate on a hot summer night at the tail end of 1965, Charlie Bucktin, a precocious and bookish boy of thirteen, is startled by a knock on his window. His visitor is Jasper Jones. Rebellious, mixed-race and solitary, Jasper is a distant figure of danger and intrigue for Charlie.\\n\\nAmphoto \\'s bestselling title of all time, now updated to reflect the quickly changing world of digital photography. Understanding Exposure has demystified the often-complex concepts of exposure for hundreds of thousands of amateur photographers. Now refreshed with current technologies and terms and an all-new chapter, Bryan Peterson continues in \"bringing exposure to the masses,\" teaching today \\'s a...\\n\\nA guide to luxury lifestyle design. It teaches: how the author went from $40,000 dollars per year and 80 hours per week to $40,000 per month and 4 hours per week; how to outsource your life to overseas virtual assistants for $5 per hour and do whatever you want; how blue-chip escape artists travel the world without quitting their jobs; and, more.\\n\\nIncludes the Invincible War, set in motion by Angstrom Levy; the epic battle with Conquest; the final build up to the Viltrumite War; and, the Squid invasion of Earth.\\n\\n\\n\\nThe brilliantly quirky David Sedaris returns with a book of acerbic and outrageously funny stories about animals who have unmistakably human failings\\n\\n\\nOften imitated, never duplicated.\\nThe ancient Chinese general Sun Tzu is universally recognized as the greatest military strategist in history, a master of warfare interpretation.  This condensed version of his influential classic imparts the knowledge and skills to overcome every adversary in war, at the office, or in everyday life.\\nThe Curly Girl manifesto is back, now completely revised, updated, and expanded by more than a third with all-new material. Created by curly hair evangelist Lorraine Massey-the go-to curl expert featured in Allure, InStyle, Lucky, Seventeen, and The New York Times. CURLY GIRL is the surprising bible for the 65 percent of women with naturally curl\\nWinner of the 1989 Smarties Book Prize and highly commended for the 1989 Kate Greenaway Medal, this picture book tells of a family going in search of a bear in a cave.\\nA comprehensive guide to Indian cooking, with over 1,000 recipes covering the various aspects of India \\'s rich and colourful culinary heritage. It includes the chapters on breads, pickles, spice pastes and chutneys that contain a wide variety of recipes, such as bagarkhani roti and tamatar ka achar (tomato and mustard-seed pickle).\\n\\n\\nBased on the 1722 first edition, this Norton critical edition of Daniel Defoe \\'s classic work includes annotations and an essay outlining its history. Documents on criminal transport, contemporary criminal accounts and colonial laws give context to the novel.\\n\\n\\nIt \\'s a brand-new year and Greg is keen to put the humiliating events of last summer firmly behind him. But someone knows everything - someone whose job it is to most definitely not keep anything embarrassing of Greg \\'s private - his big brother, Rodrick. How can Greg make it through this new school year with his cool(ish) reputation intact?\\nReflects the savage repressions carried out in the Congo by the Belgians in one of the largest acts of genocide committed up to that time.\\nThe eagerly awaited 4th novel in the bestselling Conqueror series, continuing the life and adventures of the mighty Khan dynasty.\\n\\n\"Scott Pilgrim Volume 1: Scott Pilgrim \\'s Precious Little Life\".\\nTakes readers on a whirlwind trip through the wide world of fermentation,  with basic and delicious recipes - some familiar, others exotic - that are easy to make at home.\\nA hot new series set in a high school for vampires.\\n \\'With The Wheel of Time, Jordan has come to dominate the world Tolkien began to reveal \\' THE NEW YORK TIMES\\nA fast-paced adventure featuring the ingenious and appealing Mercy Thompson - mechanic, trouble-magnet and coyote shapeshifter.\\n\\n\\n\\n\\n\\nThe original and bestselling leadership book!   Sun Tzu \\'s ideas on survival and success have been read across the world for centuries. Today they can still be applied to business, politics and life. The Art of War demonstrates how to win without conflict.\\nA new version of the classic lullaby HUSH LITTLE BABY in which mamma bunny lulls her babies to sleep with the help of a host of bedtime wonders, such as a hummingbird in flight, the magic of a harvest moon, and the reassuring hug of a parent.  Illustrated in full colour.\\nIt \\'s a new school year and Greg Heffley finds himself thrust into the harsh landscape of secondary school. While Greg \\'s days are focused on school survival, he \\'s happy to have Rowley along for the ride. But when his best friend \\'s star starts to rise at school, Greg tries to use Rowley \\'s newfound popularity to his advantage.\\n\\nAlmost one million people follow Mr Justin Halpern \\'s philosophical musings every day on Twitter. This book features his sayings.\\nEver wondered why one flavour works with another? Or lacked inspiration for what to do with a bundle of beetroot? \"The Flavour Thesaurus\" is the first book to examine what goes with what, pair by pair. This book follows the form of \"Roget \\'s Thesaurus\". It includes 980 entries in all and 200 recipes or suggestions are embedded in the text.\\nBeautiful, flaxen-haired Buttercup has fallen for Westley, the farm boy, and when he departs to make his fortune, she vows never to love another. So when she hears that his ship has been captured by the Dread Pirate Roberts - who never leaves survivors - her heart is broken.\\nA memoir that traces the network of a remarkable family against the backdrop of a tumultuous century. It tells the story of a unique collection which passed from hand to hand - and which, in a twist of fate, found its way home to Japan.\\n\\nWhat the world can learn from Israel \\'s meteoric economic success.\\nThe explosion of racial hate in an Alabama town is viewed by a little girl whose father defends a black man accused of rape.\\n\\n\\nA US bestseller and Oprah \\'s new webinar author, this is a brain scientist \\'s personal experience of a stroke, her journey to recovery and rare insight into human consciousness and its possibilities for all of us\\nTackles the most important side of digital photography - how to take pro-quality shots using the same tricks  top digital pros use. This book shows which button to push, which setting to use, when to use them, and nearly two hundred photographic \"tricks of the trade\". Each page covers just one trick, one concept that makes your photography better.\\nPeople who have tasted fine artisan breads find that too many of the little shops that sold them have disappeared. And, they \\'ve no time to make them at home. This book includes recipes for sumptuous baked desserts, using the same simple time-saving method.\\nHonestly, blowing up another school was the last thing I wanted to do. As the son of a Greek god, I \\'ve had my share of near-death disaster. This summer, I didn \\'t choose to battle the cheerleading squad, but when two hissing she-devils with fangs are heading straight for you, what \\'s a half-blood meant to do?\\nDr Felix Hoenikker, one of the founding  \\'fathers \\' of the atomic bomb, has left a deadly legacy to the world. For he is the inventor of  \\'ice-nine \\', a lethal chemical capable of freezing the entire planet. The search for its whereabouts leads to Hoenikker \\'s three ecentric children, to a crazed dictator in the Caribbean, to madness.\\nThirty-six years after publication this much-loved classic is still as popular as ever. Ingenious die-cut holes bring this much-loved nursery rhyme to life, and Pam Adams \\'s illustrations lend humour and vibrancy to the proceedings.\\nImagines the lives of a group of students growing up in a darkly skewered version of contemporary England. This novel dramatises the author \\'s attempts to come to terms with her childhood at the seemingly idyllic Hailsham School, and with the fate that has always awaited her and her closest friends in the wider world.\\n\\n\\n\\n\\nDemonstrates how to modify your subconscious statements to your advantage. This book helps you read what other people are  \\'saying \\' nonverbally. These skills can increase your ability to assess moods, decode behaviors, anticipate problems, avoid hidden pitfalls, influence negotiations, and understand the secret motivations of those around you.\\nPresents a training programme that delivers competitive fitness and power without the impossible time demands of conventional approaches. This book shows men and women in their 30s, 40s, 50s and beyond how to build fitness on a realistic schedule that fits into the busy lives of active middle-agers.\\n\\n\\n\\nA tale of horror, set in the Congo during the period of rapid colonial expansion in the 19th century. The story deals with the highly disturbing effects of economic, social and political exploitation of European and African societies and the cataclysmic behaviour this induced in some individuals.\\nExpress Makeup provides fast, easy-to-achieve looks for women who don \\'t like spending ages on their makeup or for those who need to look fab in a hurry. Learn all the tricks author, Rae Morris, gathered over her highly successful career working with stars such as Naomi Campbell, Cate Blanchett and Kelly Rowland. From using a piece of sticky tape to achieve great-looking makeup in less than a minut...\\nPresenting her tale of heroin addiction, half-hearted rehab and prostitution, here, Kate Holden conjures the sense of invincibility that comes with the first taste of adult life, the belief that drugs can make love and art transcendent, and, the conviction that you are in control.\\nA funny, touching and triumphant story from a bestselling and award-winning creative team.\\n\\nCollects \"The Walking Dead\" numbers 1-48.\\nWhether the product is beaded jewellery or felted slippers, illustrations or tote bags, this work helps crafters determine cost of goods, market competition, and the pros and cons of wholesale and retail sales. It explains the guidelines that craft fairs impose on exhibitors, the typical yearly calendar of shows, and how to start a new craft fair.\\n\\n\\nA compendium of food ideas featuring recipes from around the world, as well as comfort food staples, versions of classic dishes and kitchen tips. From Lemon Lentil Soup to Strudel Pastry, it \\'s also includes many cooking tips and techniques.\\nShows that it is possible to put ourselves on the line, respond effectively to the risks, and live to celebrate our efforts. This book addresses various aspects of leadership, such as how to manage your personal vulnerabilities, and how to anchor yourself and sustain your spirit through tough times.\\n\\n\\n\\n\\n\\n\\nOne April morning in 1943, a sardine fisherman spotted the corpse of a British soldier floating in the sea off the coast of Spain and set in train a course of events that would change the course of the Second World War. Operation Mincemeat was the most successful wartime deception. This title tells the story of Operation Mincemeat.\\n\\n\\n\\n\\nFollowing the response to \"Belly Button (Round)\" -a song from her Grammy-nominated book/CD, Sandra Boynton further contemplates this subject.  Featuring a beachful of bare-bellied hippos - including one tiny baby who can only say \"Bee Bo\" - this book, a part of the \"Boynton on Board\" series, provides giggly, read-aloud fun.\\nThe new bestseller from the author of The Five People You Meet in Heaven and Tuesdays with Morrie.\\nMitch Albom rediscovered his college professor and mentor, Morrie Schwartz, in the last months of the older man \\'s life. Knowing he was dying, Morrie visited Mitch every Tuesday, just like in college. This is a chronicle of their time together and their final \"class\": lessons in how to live.\\nWith exercises, stretches and illustrations, this title can help you gain a whole new understanding of how muscles perform during exercise. Explaining what muscles are used during exercise, it features over 600 full-colour illustrations that reveal the primary muscles along with all the relevant bones, ligaments, tendons and connective tissue.\\nOn 2 March 1998 ten-year-old Natascha Kampusch was snatched off the street by a stranger and bundled into a white van. Hours later she found herself in a dark cellar, wrapped in a blanket. When she emerged eight years later, her childhood had gone. This book tells her incredible story.\\n\\n\\nGeorgina Kincaid, a shape-shifting succubus who gets her energy from seducing men, is under demonic orders to mentor the new (and surprisingly inept) succubus on the block. Then there are the dreams. Someone, or something, is preying on Georgina at night, draining her energy, and supplying eerie visions of her future.\\n'"
      ]
     },
     "execution_count": 206,
     "metadata": {},
     "output_type": "execute_result"
    }
   ],
   "source": [
    "values"
   ]
  },
  {
   "cell_type": "code",
   "execution_count": 207,
   "metadata": {},
   "outputs": [
    {
     "data": {
      "text/plain": [
       "['',\n",
       " '',\n",
       " '',\n",
       " '',\n",
       " 'Late on a hot summer night at the tail end of 1965, Charlie Bucktin, a precocious and bookish boy of thirteen, is startled by a knock on his window. His visitor is Jasper Jones. Rebellious, mixed-race and solitary, Jasper is a distant figure of danger and intrigue for Charlie.',\n",
       " '',\n",
       " 'Amphoto \\'s bestselling title of all time, now updated to reflect the quickly changing world of digital photography. Understanding Exposure has demystified the often-complex concepts of exposure for hundreds of thousands of amateur photographers. Now refreshed with current technologies and terms and an all-new chapter, Bryan Peterson continues in \"bringing exposure to the masses,\" teaching today \\'s a...',\n",
       " '',\n",
       " 'A guide to luxury lifestyle design. It teaches: how the author went from $40,000 dollars per year and 80 hours per week to $40,000 per month and 4 hours per week; how to outsource your life to overseas virtual assistants for $5 per hour and do whatever you want; how blue-chip escape artists travel the world without quitting their jobs; and, more.',\n",
       " '',\n",
       " 'Includes the Invincible War, set in motion by Angstrom Levy; the epic battle with Conquest; the final build up to the Viltrumite War; and, the Squid invasion of Earth.',\n",
       " '',\n",
       " '',\n",
       " '',\n",
       " 'The brilliantly quirky David Sedaris returns with a book of acerbic and outrageously funny stories about animals who have unmistakably human failings',\n",
       " '',\n",
       " '',\n",
       " 'Often imitated, never duplicated.',\n",
       " 'The ancient Chinese general Sun Tzu is universally recognized as the greatest military strategist in history, a master of warfare interpretation.  This condensed version of his influential classic imparts the knowledge and skills to overcome every adversary in war, at the office, or in everyday life.',\n",
       " 'The Curly Girl manifesto is back, now completely revised, updated, and expanded by more than a third with all-new material. Created by curly hair evangelist Lorraine Massey-the go-to curl expert featured in Allure, InStyle, Lucky, Seventeen, and The New York Times. CURLY GIRL is the surprising bible for the 65 percent of women with naturally curl',\n",
       " 'Winner of the 1989 Smarties Book Prize and highly commended for the 1989 Kate Greenaway Medal, this picture book tells of a family going in search of a bear in a cave.',\n",
       " \"A comprehensive guide to Indian cooking, with over 1,000 recipes covering the various aspects of India 's rich and colourful culinary heritage. It includes the chapters on breads, pickles, spice pastes and chutneys that contain a wide variety of recipes, such as bagarkhani roti and tamatar ka achar (tomato and mustard-seed pickle).\",\n",
       " '',\n",
       " '',\n",
       " \"Based on the 1722 first edition, this Norton critical edition of Daniel Defoe 's classic work includes annotations and an essay outlining its history. Documents on criminal transport, contemporary criminal accounts and colonial laws give context to the novel.\",\n",
       " '',\n",
       " '',\n",
       " \"It 's a brand-new year and Greg is keen to put the humiliating events of last summer firmly behind him. But someone knows everything - someone whose job it is to most definitely not keep anything embarrassing of Greg 's private - his big brother, Rodrick. How can Greg make it through this new school year with his cool(ish) reputation intact?\",\n",
       " 'Reflects the savage repressions carried out in the Congo by the Belgians in one of the largest acts of genocide committed up to that time.',\n",
       " 'The eagerly awaited 4th novel in the bestselling Conqueror series, continuing the life and adventures of the mighty Khan dynasty.',\n",
       " '',\n",
       " '\"Scott Pilgrim Volume 1: Scott Pilgrim \\'s Precious Little Life\".',\n",
       " 'Takes readers on a whirlwind trip through the wide world of fermentation,  with basic and delicious recipes - some familiar, others exotic - that are easy to make at home.',\n",
       " 'A hot new series set in a high school for vampires.',\n",
       " \" 'With The Wheel of Time, Jordan has come to dominate the world Tolkien began to reveal ' THE NEW YORK TIMES\",\n",
       " 'A fast-paced adventure featuring the ingenious and appealing Mercy Thompson - mechanic, trouble-magnet and coyote shapeshifter.',\n",
       " '',\n",
       " '',\n",
       " '',\n",
       " '',\n",
       " '',\n",
       " \"The original and bestselling leadership book!   Sun Tzu 's ideas on survival and success have been read across the world for centuries. Today they can still be applied to business, politics and life. The Art of War demonstrates how to win without conflict.\",\n",
       " 'A new version of the classic lullaby HUSH LITTLE BABY in which mamma bunny lulls her babies to sleep with the help of a host of bedtime wonders, such as a hummingbird in flight, the magic of a harvest moon, and the reassuring hug of a parent.  Illustrated in full colour.',\n",
       " \"It 's a new school year and Greg Heffley finds himself thrust into the harsh landscape of secondary school. While Greg 's days are focused on school survival, he 's happy to have Rowley along for the ride. But when his best friend 's star starts to rise at school, Greg tries to use Rowley 's newfound popularity to his advantage.\",\n",
       " '',\n",
       " \"Almost one million people follow Mr Justin Halpern 's philosophical musings every day on Twitter. This book features his sayings.\",\n",
       " 'Ever wondered why one flavour works with another? Or lacked inspiration for what to do with a bundle of beetroot? \"The Flavour Thesaurus\" is the first book to examine what goes with what, pair by pair. This book follows the form of \"Roget \\'s Thesaurus\". It includes 980 entries in all and 200 recipes or suggestions are embedded in the text.',\n",
       " 'Beautiful, flaxen-haired Buttercup has fallen for Westley, the farm boy, and when he departs to make his fortune, she vows never to love another. So when she hears that his ship has been captured by the Dread Pirate Roberts - who never leaves survivors - her heart is broken.',\n",
       " 'A memoir that traces the network of a remarkable family against the backdrop of a tumultuous century. It tells the story of a unique collection which passed from hand to hand - and which, in a twist of fate, found its way home to Japan.',\n",
       " '',\n",
       " \"What the world can learn from Israel 's meteoric economic success.\",\n",
       " 'The explosion of racial hate in an Alabama town is viewed by a little girl whose father defends a black man accused of rape.',\n",
       " '',\n",
       " '',\n",
       " \"A US bestseller and Oprah 's new webinar author, this is a brain scientist 's personal experience of a stroke, her journey to recovery and rare insight into human consciousness and its possibilities for all of us\",\n",
       " 'Tackles the most important side of digital photography - how to take pro-quality shots using the same tricks  top digital pros use. This book shows which button to push, which setting to use, when to use them, and nearly two hundred photographic \"tricks of the trade\". Each page covers just one trick, one concept that makes your photography better.',\n",
       " \"People who have tasted fine artisan breads find that too many of the little shops that sold them have disappeared. And, they 've no time to make them at home. This book includes recipes for sumptuous baked desserts, using the same simple time-saving method.\",\n",
       " \"Honestly, blowing up another school was the last thing I wanted to do. As the son of a Greek god, I 've had my share of near-death disaster. This summer, I didn 't choose to battle the cheerleading squad, but when two hissing she-devils with fangs are heading straight for you, what 's a half-blood meant to do?\",\n",
       " \"Dr Felix Hoenikker, one of the founding  'fathers ' of the atomic bomb, has left a deadly legacy to the world. For he is the inventor of  'ice-nine ', a lethal chemical capable of freezing the entire planet. The search for its whereabouts leads to Hoenikker 's three ecentric children, to a crazed dictator in the Caribbean, to madness.\",\n",
       " \"Thirty-six years after publication this much-loved classic is still as popular as ever. Ingenious die-cut holes bring this much-loved nursery rhyme to life, and Pam Adams 's illustrations lend humour and vibrancy to the proceedings.\",\n",
       " \"Imagines the lives of a group of students growing up in a darkly skewered version of contemporary England. This novel dramatises the author 's attempts to come to terms with her childhood at the seemingly idyllic Hailsham School, and with the fate that has always awaited her and her closest friends in the wider world.\",\n",
       " '',\n",
       " '',\n",
       " '',\n",
       " '',\n",
       " \"Demonstrates how to modify your subconscious statements to your advantage. This book helps you read what other people are  'saying ' nonverbally. These skills can increase your ability to assess moods, decode behaviors, anticipate problems, avoid hidden pitfalls, influence negotiations, and understand the secret motivations of those around you.\",\n",
       " 'Presents a training programme that delivers competitive fitness and power without the impossible time demands of conventional approaches. This book shows men and women in their 30s, 40s, 50s and beyond how to build fitness on a realistic schedule that fits into the busy lives of active middle-agers.',\n",
       " '',\n",
       " '',\n",
       " '',\n",
       " 'A tale of horror, set in the Congo during the period of rapid colonial expansion in the 19th century. The story deals with the highly disturbing effects of economic, social and political exploitation of European and African societies and the cataclysmic behaviour this induced in some individuals.',\n",
       " \"Express Makeup provides fast, easy-to-achieve looks for women who don 't like spending ages on their makeup or for those who need to look fab in a hurry. Learn all the tricks author, Rae Morris, gathered over her highly successful career working with stars such as Naomi Campbell, Cate Blanchett and Kelly Rowland. From using a piece of sticky tape to achieve great-looking makeup in less than a minut...\",\n",
       " 'Presenting her tale of heroin addiction, half-hearted rehab and prostitution, here, Kate Holden conjures the sense of invincibility that comes with the first taste of adult life, the belief that drugs can make love and art transcendent, and, the conviction that you are in control.',\n",
       " 'A funny, touching and triumphant story from a bestselling and award-winning creative team.',\n",
       " '',\n",
       " 'Collects \"The Walking Dead\" numbers 1-48.',\n",
       " 'Whether the product is beaded jewellery or felted slippers, illustrations or tote bags, this work helps crafters determine cost of goods, market competition, and the pros and cons of wholesale and retail sales. It explains the guidelines that craft fairs impose on exhibitors, the typical yearly calendar of shows, and how to start a new craft fair.',\n",
       " '',\n",
       " '',\n",
       " \"A compendium of food ideas featuring recipes from around the world, as well as comfort food staples, versions of classic dishes and kitchen tips. From Lemon Lentil Soup to Strudel Pastry, it 's also includes many cooking tips and techniques.\",\n",
       " 'Shows that it is possible to put ourselves on the line, respond effectively to the risks, and live to celebrate our efforts. This book addresses various aspects of leadership, such as how to manage your personal vulnerabilities, and how to anchor yourself and sustain your spirit through tough times.',\n",
       " '',\n",
       " '',\n",
       " '',\n",
       " '',\n",
       " '',\n",
       " '',\n",
       " 'One April morning in 1943, a sardine fisherman spotted the corpse of a British soldier floating in the sea off the coast of Spain and set in train a course of events that would change the course of the Second World War. Operation Mincemeat was the most successful wartime deception. This title tells the story of Operation Mincemeat.',\n",
       " '',\n",
       " '',\n",
       " '',\n",
       " '',\n",
       " 'Following the response to \"Belly Button (Round)\" -a song from her Grammy-nominated book/CD, Sandra Boynton further contemplates this subject.  Featuring a beachful of bare-bellied hippos - including one tiny baby who can only say \"Bee Bo\" - this book, a part of the \"Boynton on Board\" series, provides giggly, read-aloud fun.',\n",
       " 'The new bestseller from the author of The Five People You Meet in Heaven and Tuesdays with Morrie.',\n",
       " 'Mitch Albom rediscovered his college professor and mentor, Morrie Schwartz, in the last months of the older man \\'s life. Knowing he was dying, Morrie visited Mitch every Tuesday, just like in college. This is a chronicle of their time together and their final \"class\": lessons in how to live.',\n",
       " 'With exercises, stretches and illustrations, this title can help you gain a whole new understanding of how muscles perform during exercise. Explaining what muscles are used during exercise, it features over 600 full-colour illustrations that reveal the primary muscles along with all the relevant bones, ligaments, tendons and connective tissue.',\n",
       " 'On 2 March 1998 ten-year-old Natascha Kampusch was snatched off the street by a stranger and bundled into a white van. Hours later she found herself in a dark cellar, wrapped in a blanket. When she emerged eight years later, her childhood had gone. This book tells her incredible story.',\n",
       " '',\n",
       " '',\n",
       " 'Georgina Kincaid, a shape-shifting succubus who gets her energy from seducing men, is under demonic orders to mentor the new (and surprisingly inept) succubus on the block. Then there are the dreams. Someone, or something, is preying on Georgina at night, draining her energy, and supplying eerie visions of her future.',\n",
       " '']"
      ]
     },
     "execution_count": 207,
     "metadata": {},
     "output_type": "execute_result"
    }
   ],
   "source": [
    "values = values.split(\"\\n\")\n",
    "values"
   ]
  },
  {
   "cell_type": "code",
   "execution_count": 208,
   "metadata": {},
   "outputs": [],
   "source": [
    "values = list(filter(lambda x : x != '', values))"
   ]
  },
  {
   "cell_type": "code",
   "execution_count": 209,
   "metadata": {},
   "outputs": [
    {
     "data": {
      "text/plain": [
       "['Late on a hot summer night at the tail end of 1965, Charlie Bucktin, a precocious and bookish boy of thirteen, is startled by a knock on his window. His visitor is Jasper Jones. Rebellious, mixed-race and solitary, Jasper is a distant figure of danger and intrigue for Charlie.',\n",
       " 'Amphoto \\'s bestselling title of all time, now updated to reflect the quickly changing world of digital photography. Understanding Exposure has demystified the often-complex concepts of exposure for hundreds of thousands of amateur photographers. Now refreshed with current technologies and terms and an all-new chapter, Bryan Peterson continues in \"bringing exposure to the masses,\" teaching today \\'s a...',\n",
       " 'A guide to luxury lifestyle design. It teaches: how the author went from $40,000 dollars per year and 80 hours per week to $40,000 per month and 4 hours per week; how to outsource your life to overseas virtual assistants for $5 per hour and do whatever you want; how blue-chip escape artists travel the world without quitting their jobs; and, more.',\n",
       " 'Includes the Invincible War, set in motion by Angstrom Levy; the epic battle with Conquest; the final build up to the Viltrumite War; and, the Squid invasion of Earth.',\n",
       " 'The brilliantly quirky David Sedaris returns with a book of acerbic and outrageously funny stories about animals who have unmistakably human failings',\n",
       " 'Often imitated, never duplicated.',\n",
       " 'The ancient Chinese general Sun Tzu is universally recognized as the greatest military strategist in history, a master of warfare interpretation.  This condensed version of his influential classic imparts the knowledge and skills to overcome every adversary in war, at the office, or in everyday life.',\n",
       " 'The Curly Girl manifesto is back, now completely revised, updated, and expanded by more than a third with all-new material. Created by curly hair evangelist Lorraine Massey-the go-to curl expert featured in Allure, InStyle, Lucky, Seventeen, and The New York Times. CURLY GIRL is the surprising bible for the 65 percent of women with naturally curl',\n",
       " 'Winner of the 1989 Smarties Book Prize and highly commended for the 1989 Kate Greenaway Medal, this picture book tells of a family going in search of a bear in a cave.',\n",
       " \"A comprehensive guide to Indian cooking, with over 1,000 recipes covering the various aspects of India 's rich and colourful culinary heritage. It includes the chapters on breads, pickles, spice pastes and chutneys that contain a wide variety of recipes, such as bagarkhani roti and tamatar ka achar (tomato and mustard-seed pickle).\",\n",
       " \"Based on the 1722 first edition, this Norton critical edition of Daniel Defoe 's classic work includes annotations and an essay outlining its history. Documents on criminal transport, contemporary criminal accounts and colonial laws give context to the novel.\",\n",
       " \"It 's a brand-new year and Greg is keen to put the humiliating events of last summer firmly behind him. But someone knows everything - someone whose job it is to most definitely not keep anything embarrassing of Greg 's private - his big brother, Rodrick. How can Greg make it through this new school year with his cool(ish) reputation intact?\",\n",
       " 'Reflects the savage repressions carried out in the Congo by the Belgians in one of the largest acts of genocide committed up to that time.',\n",
       " 'The eagerly awaited 4th novel in the bestselling Conqueror series, continuing the life and adventures of the mighty Khan dynasty.',\n",
       " '\"Scott Pilgrim Volume 1: Scott Pilgrim \\'s Precious Little Life\".',\n",
       " 'Takes readers on a whirlwind trip through the wide world of fermentation,  with basic and delicious recipes - some familiar, others exotic - that are easy to make at home.',\n",
       " 'A hot new series set in a high school for vampires.',\n",
       " \" 'With The Wheel of Time, Jordan has come to dominate the world Tolkien began to reveal ' THE NEW YORK TIMES\",\n",
       " 'A fast-paced adventure featuring the ingenious and appealing Mercy Thompson - mechanic, trouble-magnet and coyote shapeshifter.',\n",
       " \"The original and bestselling leadership book!   Sun Tzu 's ideas on survival and success have been read across the world for centuries. Today they can still be applied to business, politics and life. The Art of War demonstrates how to win without conflict.\",\n",
       " 'A new version of the classic lullaby HUSH LITTLE BABY in which mamma bunny lulls her babies to sleep with the help of a host of bedtime wonders, such as a hummingbird in flight, the magic of a harvest moon, and the reassuring hug of a parent.  Illustrated in full colour.',\n",
       " \"It 's a new school year and Greg Heffley finds himself thrust into the harsh landscape of secondary school. While Greg 's days are focused on school survival, he 's happy to have Rowley along for the ride. But when his best friend 's star starts to rise at school, Greg tries to use Rowley 's newfound popularity to his advantage.\",\n",
       " \"Almost one million people follow Mr Justin Halpern 's philosophical musings every day on Twitter. This book features his sayings.\",\n",
       " 'Ever wondered why one flavour works with another? Or lacked inspiration for what to do with a bundle of beetroot? \"The Flavour Thesaurus\" is the first book to examine what goes with what, pair by pair. This book follows the form of \"Roget \\'s Thesaurus\". It includes 980 entries in all and 200 recipes or suggestions are embedded in the text.',\n",
       " 'Beautiful, flaxen-haired Buttercup has fallen for Westley, the farm boy, and when he departs to make his fortune, she vows never to love another. So when she hears that his ship has been captured by the Dread Pirate Roberts - who never leaves survivors - her heart is broken.',\n",
       " 'A memoir that traces the network of a remarkable family against the backdrop of a tumultuous century. It tells the story of a unique collection which passed from hand to hand - and which, in a twist of fate, found its way home to Japan.',\n",
       " \"What the world can learn from Israel 's meteoric economic success.\",\n",
       " 'The explosion of racial hate in an Alabama town is viewed by a little girl whose father defends a black man accused of rape.',\n",
       " \"A US bestseller and Oprah 's new webinar author, this is a brain scientist 's personal experience of a stroke, her journey to recovery and rare insight into human consciousness and its possibilities for all of us\",\n",
       " 'Tackles the most important side of digital photography - how to take pro-quality shots using the same tricks  top digital pros use. This book shows which button to push, which setting to use, when to use them, and nearly two hundred photographic \"tricks of the trade\". Each page covers just one trick, one concept that makes your photography better.',\n",
       " \"People who have tasted fine artisan breads find that too many of the little shops that sold them have disappeared. And, they 've no time to make them at home. This book includes recipes for sumptuous baked desserts, using the same simple time-saving method.\",\n",
       " \"Honestly, blowing up another school was the last thing I wanted to do. As the son of a Greek god, I 've had my share of near-death disaster. This summer, I didn 't choose to battle the cheerleading squad, but when two hissing she-devils with fangs are heading straight for you, what 's a half-blood meant to do?\",\n",
       " \"Dr Felix Hoenikker, one of the founding  'fathers ' of the atomic bomb, has left a deadly legacy to the world. For he is the inventor of  'ice-nine ', a lethal chemical capable of freezing the entire planet. The search for its whereabouts leads to Hoenikker 's three ecentric children, to a crazed dictator in the Caribbean, to madness.\",\n",
       " \"Thirty-six years after publication this much-loved classic is still as popular as ever. Ingenious die-cut holes bring this much-loved nursery rhyme to life, and Pam Adams 's illustrations lend humour and vibrancy to the proceedings.\",\n",
       " \"Imagines the lives of a group of students growing up in a darkly skewered version of contemporary England. This novel dramatises the author 's attempts to come to terms with her childhood at the seemingly idyllic Hailsham School, and with the fate that has always awaited her and her closest friends in the wider world.\",\n",
       " \"Demonstrates how to modify your subconscious statements to your advantage. This book helps you read what other people are  'saying ' nonverbally. These skills can increase your ability to assess moods, decode behaviors, anticipate problems, avoid hidden pitfalls, influence negotiations, and understand the secret motivations of those around you.\",\n",
       " 'Presents a training programme that delivers competitive fitness and power without the impossible time demands of conventional approaches. This book shows men and women in their 30s, 40s, 50s and beyond how to build fitness on a realistic schedule that fits into the busy lives of active middle-agers.',\n",
       " 'A tale of horror, set in the Congo during the period of rapid colonial expansion in the 19th century. The story deals with the highly disturbing effects of economic, social and political exploitation of European and African societies and the cataclysmic behaviour this induced in some individuals.',\n",
       " \"Express Makeup provides fast, easy-to-achieve looks for women who don 't like spending ages on their makeup or for those who need to look fab in a hurry. Learn all the tricks author, Rae Morris, gathered over her highly successful career working with stars such as Naomi Campbell, Cate Blanchett and Kelly Rowland. From using a piece of sticky tape to achieve great-looking makeup in less than a minut...\",\n",
       " 'Presenting her tale of heroin addiction, half-hearted rehab and prostitution, here, Kate Holden conjures the sense of invincibility that comes with the first taste of adult life, the belief that drugs can make love and art transcendent, and, the conviction that you are in control.',\n",
       " 'A funny, touching and triumphant story from a bestselling and award-winning creative team.',\n",
       " 'Collects \"The Walking Dead\" numbers 1-48.',\n",
       " 'Whether the product is beaded jewellery or felted slippers, illustrations or tote bags, this work helps crafters determine cost of goods, market competition, and the pros and cons of wholesale and retail sales. It explains the guidelines that craft fairs impose on exhibitors, the typical yearly calendar of shows, and how to start a new craft fair.',\n",
       " \"A compendium of food ideas featuring recipes from around the world, as well as comfort food staples, versions of classic dishes and kitchen tips. From Lemon Lentil Soup to Strudel Pastry, it 's also includes many cooking tips and techniques.\",\n",
       " 'Shows that it is possible to put ourselves on the line, respond effectively to the risks, and live to celebrate our efforts. This book addresses various aspects of leadership, such as how to manage your personal vulnerabilities, and how to anchor yourself and sustain your spirit through tough times.',\n",
       " 'One April morning in 1943, a sardine fisherman spotted the corpse of a British soldier floating in the sea off the coast of Spain and set in train a course of events that would change the course of the Second World War. Operation Mincemeat was the most successful wartime deception. This title tells the story of Operation Mincemeat.',\n",
       " 'Following the response to \"Belly Button (Round)\" -a song from her Grammy-nominated book/CD, Sandra Boynton further contemplates this subject.  Featuring a beachful of bare-bellied hippos - including one tiny baby who can only say \"Bee Bo\" - this book, a part of the \"Boynton on Board\" series, provides giggly, read-aloud fun.',\n",
       " 'The new bestseller from the author of The Five People You Meet in Heaven and Tuesdays with Morrie.',\n",
       " 'Mitch Albom rediscovered his college professor and mentor, Morrie Schwartz, in the last months of the older man \\'s life. Knowing he was dying, Morrie visited Mitch every Tuesday, just like in college. This is a chronicle of their time together and their final \"class\": lessons in how to live.',\n",
       " 'With exercises, stretches and illustrations, this title can help you gain a whole new understanding of how muscles perform during exercise. Explaining what muscles are used during exercise, it features over 600 full-colour illustrations that reveal the primary muscles along with all the relevant bones, ligaments, tendons and connective tissue.',\n",
       " 'On 2 March 1998 ten-year-old Natascha Kampusch was snatched off the street by a stranger and bundled into a white van. Hours later she found herself in a dark cellar, wrapped in a blanket. When she emerged eight years later, her childhood had gone. This book tells her incredible story.',\n",
       " 'Georgina Kincaid, a shape-shifting succubus who gets her energy from seducing men, is under demonic orders to mentor the new (and surprisingly inept) succubus on the block. Then there are the dreams. Someone, or something, is preying on Georgina at night, draining her energy, and supplying eerie visions of her future.']"
      ]
     },
     "execution_count": 209,
     "metadata": {},
     "output_type": "execute_result"
    }
   ],
   "source": [
    "values"
   ]
  },
  {
   "cell_type": "code",
   "execution_count": 210,
   "metadata": {},
   "outputs": [
    {
     "data": {
      "text/plain": [
       "52"
      ]
     },
     "execution_count": 210,
     "metadata": {},
     "output_type": "execute_result"
    }
   ],
   "source": [
    "newRECORDS_NUMBER = len(values)\n",
    "len(values)"
   ]
  },
  {
   "cell_type": "code",
   "execution_count": 216,
   "metadata": {},
   "outputs": [
    {
     "name": "stdout",
     "output_type": "stream",
     "text": [
      "Etichetta predetta: Description \n",
      "\n",
      "\n",
      "\n",
      "Grado di affidabilità: 0.295\n",
      "\n",
      "25/52 -> Questa etichetta è stata predetta 25 volte su 52.\n"
     ]
    }
   ],
   "source": [
    "#Struttura: dictionary[label] -> [89%, 93%, 97%, 32%, 99% , ...]\n",
    "dictionary={}\n",
    "\n",
    "#Sruttura ausiliaria: permette di stabilire il numero di volte in cui ciascuna etichetta è stata predetta\n",
    "occorrenze={}\n",
    "\n",
    "\n",
    "#Crea una lista vuota per ciascuna label \n",
    "for label in labels:\n",
    "    dictionary[label]=[]\n",
    "    occorrenze[label]=0\n",
    "    \n",
    "\n",
    "classifier = pipeline(\"zero-shot-classification\")\n",
    "    \n",
    "labels_number= len(labels)\n",
    "\n",
    "#Vengono effettuate le previsioni attraverso il modello.\n",
    "#Le previsioni vengono memorizzate nel dizionario.\n",
    "for i in range(newRECORDS_NUMBER):\n",
    "    text = values[i]\n",
    "    result=classifier(text, labels)\n",
    "    occorrenze[result['labels'][0]]+=1\n",
    "    for y in range(labels_number):\n",
    "        label= result['labels'][y]\n",
    "        score= result['scores'][y]\n",
    "        dictionary[label].append(score)    \n",
    "        \n",
    "        \n",
    "risultati={}\n",
    "for label in labels:\n",
    "    risultati[label]= sum(dictionary[label])/newRECORDS_NUMBER\n",
    "\n",
    "max_score= 0\n",
    "\n",
    "for label, score in risultati.items():  \n",
    "    if score > max_score:\n",
    "        label_predict=label\n",
    "        max_score=score\n",
    "\n",
    "print(\"Etichetta predetta: %s \\n\\n\\n\" % label_predict)\n",
    "print(\"Grado di affidabilità: %.3f\\n\" % max_score)\n",
    "print(\"%d/%d -> Questa etichetta è stata predetta %d volte su %d.\" \n",
    "      % (occorrenze[label_predict], newRECORDS_NUMBER, occorrenze[label_predict], newRECORDS_NUMBER))"
   ]
  }
 ],
 "metadata": {
  "kernelspec": {
   "display_name": "Python 3",
   "language": "python",
   "name": "python3"
  },
  "language_info": {
   "codemirror_mode": {
    "name": "ipython",
    "version": 3
   },
   "file_extension": ".py",
   "mimetype": "text/x-python",
   "name": "python",
   "nbconvert_exporter": "python",
   "pygments_lexer": "ipython3",
   "version": "3.7.6"
  }
 },
 "nbformat": 4,
 "nbformat_minor": 4
}

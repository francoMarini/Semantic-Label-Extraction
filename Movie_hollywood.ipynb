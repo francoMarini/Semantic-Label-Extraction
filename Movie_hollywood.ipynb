{
 "cells": [
  {
   "cell_type": "markdown",
   "metadata": {},
   "source": [
    "# Movie_hollywood\n",
    "\n",
    "Tra le varie colonne della tabella sono risultate significative le seguenti:\n",
    "\n",
    "- iill (Anno FILM)\n",
    "- iirrriiirilrirr (Titolo FILM)\n",
    "- iirrriiiririri (Durata FILM)\n",
    "- iirrriiirirrirrilliiiliiri (Personaggi)\n",
    "- iirrriiirirrirrilliiiliirrrrrrllllrli (Casa di produzione cinematografica)"
   ]
  },
  {
   "cell_type": "code",
   "execution_count": 115,
   "metadata": {},
   "outputs": [],
   "source": [
    "#Questo parametro indica il numero di valori che devo analizzare per stabilire l'etichetta corretta.\n",
    "RECORDS_NUMBER= 100"
   ]
  },
  {
   "cell_type": "markdown",
   "metadata": {},
   "source": [
    "# LIBRERIE"
   ]
  },
  {
   "cell_type": "code",
   "execution_count": 33,
   "metadata": {},
   "outputs": [],
   "source": [
    "import requests\n",
    "from requests.exceptions import ConnectionError\n",
    "from transformers import pipeline\n",
    "\n",
    "from transformers import logging as hf_logging\n",
    "hf_logging.set_verbosity_error()"
   ]
  },
  {
   "cell_type": "markdown",
   "metadata": {},
   "source": [
    "# Labels candidate"
   ]
  },
  {
   "cell_type": "code",
   "execution_count": 186,
   "metadata": {},
   "outputs": [],
   "source": [
    "#Qui scelgo delle label generiche che potrebbero essere assocciate alle varie colonne della tabella.\n",
    "labels=['year', 'movie name', 'film lenght', 'production company', 'characters name']"
   ]
  },
  {
   "cell_type": "markdown",
   "metadata": {},
   "source": [
    "# Label : Anno Film"
   ]
  },
  {
   "cell_type": "code",
   "execution_count": 35,
   "metadata": {},
   "outputs": [
    {
     "name": "stdout",
     "output_type": "stream",
     "text": [
      "I dati sono stati caricati correttamente.\n"
     ]
    }
   ],
   "source": [
    "url='http://localhost:8123/?query=SELECT top 100 iill FROM extracted_data.c5e54033df0a4d17801808da46506300'\n",
    "\n",
    "try:\n",
    "    r = requests.get(url)\n",
    "except ConnectionError:\n",
    "        print(\"Il collegamento al database non è attivo.\")\n",
    "\n",
    "        \n",
    "#L'utf-8-sig è una variante Python di UTF-8 che ci permette di eliminare, se presenti, eventuali carattere UTF-8 BOM.\n",
    "values= r.content.decode('utf-8-sig')\n",
    "\n",
    "\n",
    "#Controllo i parametri inseriti dall'utente\n",
    "if (values[6:8]=='60'):\n",
    "    print(\"ATTENZIONE! La tabella indicata non esiste.\")\n",
    "elif (values[6:8]=='47'):\n",
    "    print(\"ATTENZIONE! La colonna indicata non esiste.\")\n",
    "else:\n",
    "    print(\"I dati sono stati caricati correttamente.\")\n"
   ]
  },
  {
   "cell_type": "code",
   "execution_count": 36,
   "metadata": {},
   "outputs": [],
   "source": [
    "#Andiamo ad analizzare ora colonna per colonna effettuando prima un preprocessing (dove necessario) e successivamente la classificazione\n",
    "\n",
    "#Preproccesing\n",
    "values = values.replace(\"\\ufeff\", \"\")\n",
    "values = values.replace(\"\\\\\", \" \")"
   ]
  },
  {
   "cell_type": "code",
   "execution_count": 37,
   "metadata": {},
   "outputs": [
    {
     "data": {
      "text/plain": [
       "\" Inherit the Wind 1960 | Movie Trailer, Reviews, Photos, Cast | Hollywood.com\\n Le Trou 1960 | Movie Trailer, Reviews, Photos, Cast | Hollywood.com\\n Tikhy Don 1960 | Movie Trailer, Reviews, Photos, Cast | Hollywood.com\\n The Dark at the Top of the Stairs 1960 | Movie Trailer, Reviews, Photos, Cast | Hollywood.com\\n Niewinni Czarodzieje 1960 | Movie Trailer, Reviews, Photos, Cast | Hollywood.com\\n G.I. Blues 1960 | Movie Trailer, Reviews, Photos, Cast | Hollywood.com\\n En Lektion i Kärlek 1960 | Movie Trailer, Reviews, Photos, Cast | Hollywood.com\\n Une Vie 1962 | Movie Trailer, Reviews, Photos, Cast | Hollywood.com\\n Cape Fear 1962 | Movie Trailer, Reviews, Photos, Cast | Hollywood.com\\n Thérèse Desqueyroux 1962 | Movie Trailer, Reviews, Photos, Cast | Hollywood.com\\n Le Procès de Jeanne d 'Arc 1962 | Movie Trailer, Reviews, Photos, Cast | Hollywood.com\\n Street Girls 1975 | Movie Trailer, Reviews, Photos, Cast | Hollywood.com\\n Challenge to Be Free 1975 | Movie Trailer, Reviews, Photos, Cast | Hollywood.com\\n Monty Python and the Holy Grail 1975 | Movie Trailer, Reviews, Photos, Cast | Hollywood.com\\n Rosebud 1975 | Movie Trailer, Reviews, Photos, Cast | Hollywood.com\\n Det Gode og det onde 1975 | Movie Trailer, Reviews, Photos, Cast | Hollywood.com\\n The Day of the Locust 1975 | Movie Trailer, Reviews, Photos, Cast | Hollywood.com\\n Sharks ' Treasure 1975 | Movie Trailer, Reviews, Photos, Cast | Hollywood.com\\n The Happy Hooker 1975 | Movie Trailer, Reviews, Photos, Cast | Hollywood.com\\n The Return of the Pink Panther 1975 | Movie Trailer, Reviews, Photos, Cast | Hollywood.com\\n Sunday Too Far Away 1975 | Movie Trailer, Reviews, Photos, Cast | Hollywood.com\\n Legend of the Seven Golden Vampires 1975 | Movie Trailer, Reviews, Photos, Cast | Hollywood.com\\n It Seemed Like a Good Idea at the Time 1975 | Movie Trailer, Reviews, Photos, Cast | Hollywood.com\\n The Eiger Sanction 1975 | Movie Trailer, Reviews, Photos, Cast | Hollywood.com\\n Once Is Not Enough 1975 | Movie Trailer, Reviews, Photos, Cast | Hollywood.com\\n One of Our Dinosaurs Is Missing 1975 | Movie Trailer, Reviews, Photos, Cast | Hollywood.com\\n The Drowning Pool 1975 | Movie Trailer, Reviews, Photos, Cast | Hollywood.com\\n Take a Hard Ride 1975 | Movie Trailer, Reviews, Photos, Cast | Hollywood.com\\n Bucktown 1975 | Movie Trailer, Reviews, Photos, Cast | Hollywood.com\\n Conduct Unbecoming 1975 | Movie Trailer, Reviews, Photos, Cast | Hollywood.com\\n Carnival of Souls 1962 | Movie Trailer, Reviews, Photos, Cast | Hollywood.com\\n The Little Girl Who Lives Down the Lane 1976 | Movie Trailer, Reviews, Photos, Cast | Hollywood.com\\n Riddles of The Sphinx 1976 | Movie Trailer, Reviews, Photos, Cast | Hollywood.com\\n Death Machines 1976 | Movie Trailer, Reviews, Photos, Cast | Hollywood.com\\n Chinese Roulette 1976 | Movie Trailer, Reviews, Photos, Cast | Hollywood.com\\n Eaten Alive 1976 | Movie Trailer, Reviews, Photos, Cast | Hollywood.com\\n Carrie 1976 | Movie Trailer, Reviews, Photos, Cast | Hollywood.com\\n Network 1976 | Movie Trailer, Reviews, Photos, Cast | Hollywood.com\\n Satan 's Slave 1976 | Movie Trailer, Reviews, Photos, Cast | Hollywood.com\\n King Kong 1976 | Movie Trailer, Reviews, Photos, Cast | Hollywood.com\\n The Pink Panther Strikes Again 1976 | Movie Trailer, Reviews, Photos, Cast | Hollywood.com\\n The Eagle Has Landed 1976 | Movie Trailer, Reviews, Photos, Cast | Hollywood.com\\n Gli Esecutori 1976 | Movie Trailer, Reviews, Photos, Cast | Hollywood.com\\n Under the Doctor 1976 | Movie Trailer, Reviews, Photos, Cast | Hollywood.com\\n Treasure of Matecumbe 1976 | Movie Trailer, Reviews, Photos, Cast | Hollywood.com\\n Small Change 1976 | Movie Trailer, Reviews, Photos, Cast | Hollywood.com\\n Invisible Strangler 1976 | Movie Trailer, Reviews, Photos, Cast | Hollywood.com\\n Peeper 1976 | Movie Trailer, Reviews, Photos, Cast | Hollywood.com\\n Lisztomania 1976 | Movie Trailer, Reviews, Photos, Cast | Hollywood.com\\n Jim, the World 's Greatest 1976 | Movie Trailer, Reviews, Photos, Cast | Hollywood.com\\n Breakheart Pass 1976 | Movie Trailer, Reviews, Photos, Cast | Hollywood.com\\n The Loves and Times of Scaramouche 1976 | Movie Trailer, Reviews, Photos, Cast | Hollywood.com\\n The Sailor Who Fell from Grace with the Sea 1976 | Movie Trailer, Reviews, Photos, Cast | Hollywood.com\\n Chantons Sous l 'Occupation 1976 | Movie Trailer, Reviews, Photos, Cast | Hollywood.com\\n Hollywood Boulevard 1976 | Movie Trailer, Reviews, Photos, Cast | Hollywood.com\\n Eat My Dust! 1976 | Movie Trailer, Reviews, Photos, Cast | Hollywood.com\\n At the Earth 's Core 1976 | Movie Trailer, Reviews, Photos, Cast | Hollywood.com\\n The Blue Bird 1976 | Movie Trailer, Reviews, Photos, Cast | Hollywood.com\\n Trackdown 1976 | Movie Trailer, Reviews, Photos, Cast | Hollywood.com\\n Nishant 1976 | Movie Trailer, Reviews, Photos, Cast | Hollywood.com\\n Diamond Head 1962 | Movie Trailer, Reviews, Photos, Cast | Hollywood.com\\n Mr. Billion 1977 | Movie Trailer, Reviews, Photos, Cast | Hollywood.com\\n The Farmer 1977 | Movie Trailer, Reviews, Photos, Cast | Hollywood.com\\n Break of Day 1977 | Movie Trailer, Reviews, Photos, Cast | Hollywood.com\\n The Other Side of Midnight 1977 | Movie Trailer, Reviews, Photos, Cast | Hollywood.com\\n Skateboard 1977 | Movie Trailer, Reviews, Photos, Cast | Hollywood.com\\n Tomorrow Never Comes 1977 | Movie Trailer, Reviews, Photos, Cast | Hollywood.com\\n Empire of the Ants 1977 | Movie Trailer, Reviews, Photos, Cast | Hollywood.com\\n Le Crabe-Tambour 1977 | Movie Trailer, Reviews, Photos, Cast | Hollywood.com\\n Thieves 1977 | Movie Trailer, Reviews, Photos, Cast | Hollywood.com\\n L 'Une Chante, l 'Autre Pas 1977 | Movie Trailer, Reviews, Photos, Cast | Hollywood.com\\n Looking Up 1977 | Movie Trailer, Reviews, Photos, Cast | Hollywood.com\\n Fire Sale 1977 | Movie Trailer, Reviews, Photos, Cast | Hollywood.com\\n The Kentucky Fried Movie 1977 | Movie Trailer, Reviews, Photos, Cast | Hollywood.com\\n Soldier of Orange 1978 | Movie Trailer, Reviews, Photos, Cast | Hollywood.com\\n Martin 1978 | Movie Trailer, Reviews, Photos, Cast | Hollywood.com\\n Tilt 1978 | Movie Trailer, Reviews, Photos, Cast | Hollywood.com\\n Summer Camp 1978 | Movie Trailer, Reviews, Photos, Cast | Hollywood.com\\n The Big Fix 1978 | Movie Trailer, Reviews, Photos, Cast | Hollywood.com\\n Every Which Way But Loose 1978 | Movie Trailer, Reviews, Photos, Cast | Hollywood.com\\n National Lampoon 's Animal House 1978 | Movie Trailer, Reviews, Photos, Cast | Hollywood.com\\n Death Sport 1978 | Movie Trailer, Reviews, Photos, Cast | Hollywood.com\\n Rockers 1978 | Movie Trailer, Reviews, Photos, Cast | Hollywood.com\\n Sgt. Pepper 's Lonely Hearts Club Band 1978 | Movie Trailer, Reviews, Photos, Cast | Hollywood.com\\n Our Winning Season 1978 | Movie Trailer, Reviews, Photos, Cast | Hollywood.com\\n Brass Target 1978 | Movie Trailer, Reviews, Photos, Cast | Hollywood.com\\n Comes a Horseman 1978 | Movie Trailer, Reviews, Photos, Cast | Hollywood.com\\n Invasion of the Body Snatchers 1978 | Movie Trailer, Reviews, Photos, Cast | Hollywood.com\\n King of the Gypsies 1978 | Movie Trailer, Reviews, Photos, Cast | Hollywood.com\\n Messer im Kopf 1978 | Movie Trailer, Reviews, Photos, Cast | Hollywood.com\\n The Glove 1978 | Movie Trailer, Reviews, Photos, Cast | Hollywood.com\\n Avalanche 1978 | Movie Trailer, Reviews, Photos, Cast | Hollywood.com\\n No Longer Alone 1978 | Movie Trailer, Reviews, Photos, Cast | Hollywood.com\\n F.I.S.T. 1978 | Movie Trailer, Reviews, Photos, Cast | Hollywood.com\\n Here Come the Tigers 1978 | Movie Trailer, Reviews, Photos, Cast | Hollywood.com\\n Malibu Beach 1978 | Movie Trailer, Reviews, Photos, Cast | Hollywood.com\\n Corvette Summer 1978 | Movie Trailer, Reviews, Photos, Cast | Hollywood.com\\n Harper Valley P.T.A. 1978 | Movie Trailer, Reviews, Photos, Cast | Hollywood.com\\n Love and the Midnight Auto Supply 1978 | Movie Trailer, Reviews, Photos, Cast | Hollywood.com\\n The Revenge of the Pink Panther 1978 | Movie Trailer, Reviews, Photos, Cast | Hollywood.com\\n\""
      ]
     },
     "execution_count": 37,
     "metadata": {},
     "output_type": "execute_result"
    }
   ],
   "source": [
    "#vediamo i dati come si presentano\n",
    "values"
   ]
  },
  {
   "cell_type": "code",
   "execution_count": 38,
   "metadata": {},
   "outputs": [],
   "source": [
    "#Memorizziamo ora le stringhe associate ad ogni film in una lista. Il passaggio da un film al successivo è indicato dal carattere \"\\n\""
   ]
  },
  {
   "cell_type": "code",
   "execution_count": 39,
   "metadata": {},
   "outputs": [],
   "source": [
    "values = values.split('\\n')"
   ]
  },
  {
   "cell_type": "code",
   "execution_count": 41,
   "metadata": {},
   "outputs": [
    {
     "data": {
      "text/plain": [
       "[' Inherit the Wind 1960 | Movie Trailer, Reviews, Photos, Cast | Hollywood.com',\n",
       " ' Le Trou 1960 | Movie Trailer, Reviews, Photos, Cast | Hollywood.com',\n",
       " ' Tikhy Don 1960 | Movie Trailer, Reviews, Photos, Cast | Hollywood.com',\n",
       " ' The Dark at the Top of the Stairs 1960 | Movie Trailer, Reviews, Photos, Cast | Hollywood.com',\n",
       " ' Niewinni Czarodzieje 1960 | Movie Trailer, Reviews, Photos, Cast | Hollywood.com',\n",
       " ' G.I. Blues 1960 | Movie Trailer, Reviews, Photos, Cast | Hollywood.com',\n",
       " ' En Lektion i Kärlek 1960 | Movie Trailer, Reviews, Photos, Cast | Hollywood.com',\n",
       " ' Une Vie 1962 | Movie Trailer, Reviews, Photos, Cast | Hollywood.com',\n",
       " ' Cape Fear 1962 | Movie Trailer, Reviews, Photos, Cast | Hollywood.com',\n",
       " ' Thérèse Desqueyroux 1962 | Movie Trailer, Reviews, Photos, Cast | Hollywood.com',\n",
       " \" Le Procès de Jeanne d 'Arc 1962 | Movie Trailer, Reviews, Photos, Cast | Hollywood.com\",\n",
       " ' Street Girls 1975 | Movie Trailer, Reviews, Photos, Cast | Hollywood.com',\n",
       " ' Challenge to Be Free 1975 | Movie Trailer, Reviews, Photos, Cast | Hollywood.com',\n",
       " ' Monty Python and the Holy Grail 1975 | Movie Trailer, Reviews, Photos, Cast | Hollywood.com',\n",
       " ' Rosebud 1975 | Movie Trailer, Reviews, Photos, Cast | Hollywood.com',\n",
       " ' Det Gode og det onde 1975 | Movie Trailer, Reviews, Photos, Cast | Hollywood.com',\n",
       " ' The Day of the Locust 1975 | Movie Trailer, Reviews, Photos, Cast | Hollywood.com',\n",
       " \" Sharks ' Treasure 1975 | Movie Trailer, Reviews, Photos, Cast | Hollywood.com\",\n",
       " ' The Happy Hooker 1975 | Movie Trailer, Reviews, Photos, Cast | Hollywood.com',\n",
       " ' The Return of the Pink Panther 1975 | Movie Trailer, Reviews, Photos, Cast | Hollywood.com',\n",
       " ' Sunday Too Far Away 1975 | Movie Trailer, Reviews, Photos, Cast | Hollywood.com',\n",
       " ' Legend of the Seven Golden Vampires 1975 | Movie Trailer, Reviews, Photos, Cast | Hollywood.com',\n",
       " ' It Seemed Like a Good Idea at the Time 1975 | Movie Trailer, Reviews, Photos, Cast | Hollywood.com',\n",
       " ' The Eiger Sanction 1975 | Movie Trailer, Reviews, Photos, Cast | Hollywood.com',\n",
       " ' Once Is Not Enough 1975 | Movie Trailer, Reviews, Photos, Cast | Hollywood.com',\n",
       " ' One of Our Dinosaurs Is Missing 1975 | Movie Trailer, Reviews, Photos, Cast | Hollywood.com',\n",
       " ' The Drowning Pool 1975 | Movie Trailer, Reviews, Photos, Cast | Hollywood.com',\n",
       " ' Take a Hard Ride 1975 | Movie Trailer, Reviews, Photos, Cast | Hollywood.com',\n",
       " ' Bucktown 1975 | Movie Trailer, Reviews, Photos, Cast | Hollywood.com',\n",
       " ' Conduct Unbecoming 1975 | Movie Trailer, Reviews, Photos, Cast | Hollywood.com',\n",
       " ' Carnival of Souls 1962 | Movie Trailer, Reviews, Photos, Cast | Hollywood.com',\n",
       " ' The Little Girl Who Lives Down the Lane 1976 | Movie Trailer, Reviews, Photos, Cast | Hollywood.com',\n",
       " ' Riddles of The Sphinx 1976 | Movie Trailer, Reviews, Photos, Cast | Hollywood.com',\n",
       " ' Death Machines 1976 | Movie Trailer, Reviews, Photos, Cast | Hollywood.com',\n",
       " ' Chinese Roulette 1976 | Movie Trailer, Reviews, Photos, Cast | Hollywood.com',\n",
       " ' Eaten Alive 1976 | Movie Trailer, Reviews, Photos, Cast | Hollywood.com',\n",
       " ' Carrie 1976 | Movie Trailer, Reviews, Photos, Cast | Hollywood.com',\n",
       " ' Network 1976 | Movie Trailer, Reviews, Photos, Cast | Hollywood.com',\n",
       " \" Satan 's Slave 1976 | Movie Trailer, Reviews, Photos, Cast | Hollywood.com\",\n",
       " ' King Kong 1976 | Movie Trailer, Reviews, Photos, Cast | Hollywood.com',\n",
       " ' The Pink Panther Strikes Again 1976 | Movie Trailer, Reviews, Photos, Cast | Hollywood.com',\n",
       " ' The Eagle Has Landed 1976 | Movie Trailer, Reviews, Photos, Cast | Hollywood.com',\n",
       " ' Gli Esecutori 1976 | Movie Trailer, Reviews, Photos, Cast | Hollywood.com',\n",
       " ' Under the Doctor 1976 | Movie Trailer, Reviews, Photos, Cast | Hollywood.com',\n",
       " ' Treasure of Matecumbe 1976 | Movie Trailer, Reviews, Photos, Cast | Hollywood.com',\n",
       " ' Small Change 1976 | Movie Trailer, Reviews, Photos, Cast | Hollywood.com',\n",
       " ' Invisible Strangler 1976 | Movie Trailer, Reviews, Photos, Cast | Hollywood.com',\n",
       " ' Peeper 1976 | Movie Trailer, Reviews, Photos, Cast | Hollywood.com',\n",
       " ' Lisztomania 1976 | Movie Trailer, Reviews, Photos, Cast | Hollywood.com',\n",
       " \" Jim, the World 's Greatest 1976 | Movie Trailer, Reviews, Photos, Cast | Hollywood.com\",\n",
       " ' Breakheart Pass 1976 | Movie Trailer, Reviews, Photos, Cast | Hollywood.com',\n",
       " ' The Loves and Times of Scaramouche 1976 | Movie Trailer, Reviews, Photos, Cast | Hollywood.com',\n",
       " ' The Sailor Who Fell from Grace with the Sea 1976 | Movie Trailer, Reviews, Photos, Cast | Hollywood.com',\n",
       " \" Chantons Sous l 'Occupation 1976 | Movie Trailer, Reviews, Photos, Cast | Hollywood.com\",\n",
       " ' Hollywood Boulevard 1976 | Movie Trailer, Reviews, Photos, Cast | Hollywood.com',\n",
       " ' Eat My Dust! 1976 | Movie Trailer, Reviews, Photos, Cast | Hollywood.com',\n",
       " \" At the Earth 's Core 1976 | Movie Trailer, Reviews, Photos, Cast | Hollywood.com\",\n",
       " ' The Blue Bird 1976 | Movie Trailer, Reviews, Photos, Cast | Hollywood.com',\n",
       " ' Trackdown 1976 | Movie Trailer, Reviews, Photos, Cast | Hollywood.com',\n",
       " ' Nishant 1976 | Movie Trailer, Reviews, Photos, Cast | Hollywood.com',\n",
       " ' Diamond Head 1962 | Movie Trailer, Reviews, Photos, Cast | Hollywood.com',\n",
       " ' Mr. Billion 1977 | Movie Trailer, Reviews, Photos, Cast | Hollywood.com',\n",
       " ' The Farmer 1977 | Movie Trailer, Reviews, Photos, Cast | Hollywood.com',\n",
       " ' Break of Day 1977 | Movie Trailer, Reviews, Photos, Cast | Hollywood.com',\n",
       " ' The Other Side of Midnight 1977 | Movie Trailer, Reviews, Photos, Cast | Hollywood.com',\n",
       " ' Skateboard 1977 | Movie Trailer, Reviews, Photos, Cast | Hollywood.com',\n",
       " ' Tomorrow Never Comes 1977 | Movie Trailer, Reviews, Photos, Cast | Hollywood.com',\n",
       " ' Empire of the Ants 1977 | Movie Trailer, Reviews, Photos, Cast | Hollywood.com',\n",
       " ' Le Crabe-Tambour 1977 | Movie Trailer, Reviews, Photos, Cast | Hollywood.com',\n",
       " ' Thieves 1977 | Movie Trailer, Reviews, Photos, Cast | Hollywood.com',\n",
       " \" L 'Une Chante, l 'Autre Pas 1977 | Movie Trailer, Reviews, Photos, Cast | Hollywood.com\",\n",
       " ' Looking Up 1977 | Movie Trailer, Reviews, Photos, Cast | Hollywood.com',\n",
       " ' Fire Sale 1977 | Movie Trailer, Reviews, Photos, Cast | Hollywood.com',\n",
       " ' The Kentucky Fried Movie 1977 | Movie Trailer, Reviews, Photos, Cast | Hollywood.com',\n",
       " ' Soldier of Orange 1978 | Movie Trailer, Reviews, Photos, Cast | Hollywood.com',\n",
       " ' Martin 1978 | Movie Trailer, Reviews, Photos, Cast | Hollywood.com',\n",
       " ' Tilt 1978 | Movie Trailer, Reviews, Photos, Cast | Hollywood.com',\n",
       " ' Summer Camp 1978 | Movie Trailer, Reviews, Photos, Cast | Hollywood.com',\n",
       " ' The Big Fix 1978 | Movie Trailer, Reviews, Photos, Cast | Hollywood.com',\n",
       " ' Every Which Way But Loose 1978 | Movie Trailer, Reviews, Photos, Cast | Hollywood.com',\n",
       " \" National Lampoon 's Animal House 1978 | Movie Trailer, Reviews, Photos, Cast | Hollywood.com\",\n",
       " ' Death Sport 1978 | Movie Trailer, Reviews, Photos, Cast | Hollywood.com',\n",
       " ' Rockers 1978 | Movie Trailer, Reviews, Photos, Cast | Hollywood.com',\n",
       " \" Sgt. Pepper 's Lonely Hearts Club Band 1978 | Movie Trailer, Reviews, Photos, Cast | Hollywood.com\",\n",
       " ' Our Winning Season 1978 | Movie Trailer, Reviews, Photos, Cast | Hollywood.com',\n",
       " ' Brass Target 1978 | Movie Trailer, Reviews, Photos, Cast | Hollywood.com',\n",
       " ' Comes a Horseman 1978 | Movie Trailer, Reviews, Photos, Cast | Hollywood.com',\n",
       " ' Invasion of the Body Snatchers 1978 | Movie Trailer, Reviews, Photos, Cast | Hollywood.com',\n",
       " ' King of the Gypsies 1978 | Movie Trailer, Reviews, Photos, Cast | Hollywood.com',\n",
       " ' Messer im Kopf 1978 | Movie Trailer, Reviews, Photos, Cast | Hollywood.com',\n",
       " ' The Glove 1978 | Movie Trailer, Reviews, Photos, Cast | Hollywood.com',\n",
       " ' Avalanche 1978 | Movie Trailer, Reviews, Photos, Cast | Hollywood.com',\n",
       " ' No Longer Alone 1978 | Movie Trailer, Reviews, Photos, Cast | Hollywood.com',\n",
       " ' F.I.S.T. 1978 | Movie Trailer, Reviews, Photos, Cast | Hollywood.com',\n",
       " ' Here Come the Tigers 1978 | Movie Trailer, Reviews, Photos, Cast | Hollywood.com',\n",
       " ' Malibu Beach 1978 | Movie Trailer, Reviews, Photos, Cast | Hollywood.com',\n",
       " ' Corvette Summer 1978 | Movie Trailer, Reviews, Photos, Cast | Hollywood.com',\n",
       " ' Harper Valley P.T.A. 1978 | Movie Trailer, Reviews, Photos, Cast | Hollywood.com',\n",
       " ' Love and the Midnight Auto Supply 1978 | Movie Trailer, Reviews, Photos, Cast | Hollywood.com',\n",
       " ' The Revenge of the Pink Panther 1978 | Movie Trailer, Reviews, Photos, Cast | Hollywood.com',\n",
       " '']"
      ]
     },
     "execution_count": 41,
     "metadata": {},
     "output_type": "execute_result"
    }
   ],
   "source": [
    "values"
   ]
  },
  {
   "cell_type": "code",
   "execution_count": 42,
   "metadata": {},
   "outputs": [
    {
     "data": {
      "text/plain": [
       "''"
      ]
     },
     "execution_count": 42,
     "metadata": {},
     "output_type": "execute_result"
    }
   ],
   "source": [
    "#elimino ora l'ultimo valore della lista che come possiamo notare è vuoto.\n",
    "values.pop()"
   ]
  },
  {
   "cell_type": "code",
   "execution_count": 43,
   "metadata": {},
   "outputs": [
    {
     "data": {
      "text/plain": [
       "[' Inherit the Wind 1960 | Movie Trailer, Reviews, Photos, Cast | Hollywood.com',\n",
       " ' Le Trou 1960 | Movie Trailer, Reviews, Photos, Cast | Hollywood.com',\n",
       " ' Tikhy Don 1960 | Movie Trailer, Reviews, Photos, Cast | Hollywood.com',\n",
       " ' The Dark at the Top of the Stairs 1960 | Movie Trailer, Reviews, Photos, Cast | Hollywood.com',\n",
       " ' Niewinni Czarodzieje 1960 | Movie Trailer, Reviews, Photos, Cast | Hollywood.com',\n",
       " ' G.I. Blues 1960 | Movie Trailer, Reviews, Photos, Cast | Hollywood.com',\n",
       " ' En Lektion i Kärlek 1960 | Movie Trailer, Reviews, Photos, Cast | Hollywood.com',\n",
       " ' Une Vie 1962 | Movie Trailer, Reviews, Photos, Cast | Hollywood.com',\n",
       " ' Cape Fear 1962 | Movie Trailer, Reviews, Photos, Cast | Hollywood.com',\n",
       " ' Thérèse Desqueyroux 1962 | Movie Trailer, Reviews, Photos, Cast | Hollywood.com',\n",
       " \" Le Procès de Jeanne d 'Arc 1962 | Movie Trailer, Reviews, Photos, Cast | Hollywood.com\",\n",
       " ' Street Girls 1975 | Movie Trailer, Reviews, Photos, Cast | Hollywood.com',\n",
       " ' Challenge to Be Free 1975 | Movie Trailer, Reviews, Photos, Cast | Hollywood.com',\n",
       " ' Monty Python and the Holy Grail 1975 | Movie Trailer, Reviews, Photos, Cast | Hollywood.com',\n",
       " ' Rosebud 1975 | Movie Trailer, Reviews, Photos, Cast | Hollywood.com',\n",
       " ' Det Gode og det onde 1975 | Movie Trailer, Reviews, Photos, Cast | Hollywood.com',\n",
       " ' The Day of the Locust 1975 | Movie Trailer, Reviews, Photos, Cast | Hollywood.com',\n",
       " \" Sharks ' Treasure 1975 | Movie Trailer, Reviews, Photos, Cast | Hollywood.com\",\n",
       " ' The Happy Hooker 1975 | Movie Trailer, Reviews, Photos, Cast | Hollywood.com',\n",
       " ' The Return of the Pink Panther 1975 | Movie Trailer, Reviews, Photos, Cast | Hollywood.com',\n",
       " ' Sunday Too Far Away 1975 | Movie Trailer, Reviews, Photos, Cast | Hollywood.com',\n",
       " ' Legend of the Seven Golden Vampires 1975 | Movie Trailer, Reviews, Photos, Cast | Hollywood.com',\n",
       " ' It Seemed Like a Good Idea at the Time 1975 | Movie Trailer, Reviews, Photos, Cast | Hollywood.com',\n",
       " ' The Eiger Sanction 1975 | Movie Trailer, Reviews, Photos, Cast | Hollywood.com',\n",
       " ' Once Is Not Enough 1975 | Movie Trailer, Reviews, Photos, Cast | Hollywood.com',\n",
       " ' One of Our Dinosaurs Is Missing 1975 | Movie Trailer, Reviews, Photos, Cast | Hollywood.com',\n",
       " ' The Drowning Pool 1975 | Movie Trailer, Reviews, Photos, Cast | Hollywood.com',\n",
       " ' Take a Hard Ride 1975 | Movie Trailer, Reviews, Photos, Cast | Hollywood.com',\n",
       " ' Bucktown 1975 | Movie Trailer, Reviews, Photos, Cast | Hollywood.com',\n",
       " ' Conduct Unbecoming 1975 | Movie Trailer, Reviews, Photos, Cast | Hollywood.com',\n",
       " ' Carnival of Souls 1962 | Movie Trailer, Reviews, Photos, Cast | Hollywood.com',\n",
       " ' The Little Girl Who Lives Down the Lane 1976 | Movie Trailer, Reviews, Photos, Cast | Hollywood.com',\n",
       " ' Riddles of The Sphinx 1976 | Movie Trailer, Reviews, Photos, Cast | Hollywood.com',\n",
       " ' Death Machines 1976 | Movie Trailer, Reviews, Photos, Cast | Hollywood.com',\n",
       " ' Chinese Roulette 1976 | Movie Trailer, Reviews, Photos, Cast | Hollywood.com',\n",
       " ' Eaten Alive 1976 | Movie Trailer, Reviews, Photos, Cast | Hollywood.com',\n",
       " ' Carrie 1976 | Movie Trailer, Reviews, Photos, Cast | Hollywood.com',\n",
       " ' Network 1976 | Movie Trailer, Reviews, Photos, Cast | Hollywood.com',\n",
       " \" Satan 's Slave 1976 | Movie Trailer, Reviews, Photos, Cast | Hollywood.com\",\n",
       " ' King Kong 1976 | Movie Trailer, Reviews, Photos, Cast | Hollywood.com',\n",
       " ' The Pink Panther Strikes Again 1976 | Movie Trailer, Reviews, Photos, Cast | Hollywood.com',\n",
       " ' The Eagle Has Landed 1976 | Movie Trailer, Reviews, Photos, Cast | Hollywood.com',\n",
       " ' Gli Esecutori 1976 | Movie Trailer, Reviews, Photos, Cast | Hollywood.com',\n",
       " ' Under the Doctor 1976 | Movie Trailer, Reviews, Photos, Cast | Hollywood.com',\n",
       " ' Treasure of Matecumbe 1976 | Movie Trailer, Reviews, Photos, Cast | Hollywood.com',\n",
       " ' Small Change 1976 | Movie Trailer, Reviews, Photos, Cast | Hollywood.com',\n",
       " ' Invisible Strangler 1976 | Movie Trailer, Reviews, Photos, Cast | Hollywood.com',\n",
       " ' Peeper 1976 | Movie Trailer, Reviews, Photos, Cast | Hollywood.com',\n",
       " ' Lisztomania 1976 | Movie Trailer, Reviews, Photos, Cast | Hollywood.com',\n",
       " \" Jim, the World 's Greatest 1976 | Movie Trailer, Reviews, Photos, Cast | Hollywood.com\",\n",
       " ' Breakheart Pass 1976 | Movie Trailer, Reviews, Photos, Cast | Hollywood.com',\n",
       " ' The Loves and Times of Scaramouche 1976 | Movie Trailer, Reviews, Photos, Cast | Hollywood.com',\n",
       " ' The Sailor Who Fell from Grace with the Sea 1976 | Movie Trailer, Reviews, Photos, Cast | Hollywood.com',\n",
       " \" Chantons Sous l 'Occupation 1976 | Movie Trailer, Reviews, Photos, Cast | Hollywood.com\",\n",
       " ' Hollywood Boulevard 1976 | Movie Trailer, Reviews, Photos, Cast | Hollywood.com',\n",
       " ' Eat My Dust! 1976 | Movie Trailer, Reviews, Photos, Cast | Hollywood.com',\n",
       " \" At the Earth 's Core 1976 | Movie Trailer, Reviews, Photos, Cast | Hollywood.com\",\n",
       " ' The Blue Bird 1976 | Movie Trailer, Reviews, Photos, Cast | Hollywood.com',\n",
       " ' Trackdown 1976 | Movie Trailer, Reviews, Photos, Cast | Hollywood.com',\n",
       " ' Nishant 1976 | Movie Trailer, Reviews, Photos, Cast | Hollywood.com',\n",
       " ' Diamond Head 1962 | Movie Trailer, Reviews, Photos, Cast | Hollywood.com',\n",
       " ' Mr. Billion 1977 | Movie Trailer, Reviews, Photos, Cast | Hollywood.com',\n",
       " ' The Farmer 1977 | Movie Trailer, Reviews, Photos, Cast | Hollywood.com',\n",
       " ' Break of Day 1977 | Movie Trailer, Reviews, Photos, Cast | Hollywood.com',\n",
       " ' The Other Side of Midnight 1977 | Movie Trailer, Reviews, Photos, Cast | Hollywood.com',\n",
       " ' Skateboard 1977 | Movie Trailer, Reviews, Photos, Cast | Hollywood.com',\n",
       " ' Tomorrow Never Comes 1977 | Movie Trailer, Reviews, Photos, Cast | Hollywood.com',\n",
       " ' Empire of the Ants 1977 | Movie Trailer, Reviews, Photos, Cast | Hollywood.com',\n",
       " ' Le Crabe-Tambour 1977 | Movie Trailer, Reviews, Photos, Cast | Hollywood.com',\n",
       " ' Thieves 1977 | Movie Trailer, Reviews, Photos, Cast | Hollywood.com',\n",
       " \" L 'Une Chante, l 'Autre Pas 1977 | Movie Trailer, Reviews, Photos, Cast | Hollywood.com\",\n",
       " ' Looking Up 1977 | Movie Trailer, Reviews, Photos, Cast | Hollywood.com',\n",
       " ' Fire Sale 1977 | Movie Trailer, Reviews, Photos, Cast | Hollywood.com',\n",
       " ' The Kentucky Fried Movie 1977 | Movie Trailer, Reviews, Photos, Cast | Hollywood.com',\n",
       " ' Soldier of Orange 1978 | Movie Trailer, Reviews, Photos, Cast | Hollywood.com',\n",
       " ' Martin 1978 | Movie Trailer, Reviews, Photos, Cast | Hollywood.com',\n",
       " ' Tilt 1978 | Movie Trailer, Reviews, Photos, Cast | Hollywood.com',\n",
       " ' Summer Camp 1978 | Movie Trailer, Reviews, Photos, Cast | Hollywood.com',\n",
       " ' The Big Fix 1978 | Movie Trailer, Reviews, Photos, Cast | Hollywood.com',\n",
       " ' Every Which Way But Loose 1978 | Movie Trailer, Reviews, Photos, Cast | Hollywood.com',\n",
       " \" National Lampoon 's Animal House 1978 | Movie Trailer, Reviews, Photos, Cast | Hollywood.com\",\n",
       " ' Death Sport 1978 | Movie Trailer, Reviews, Photos, Cast | Hollywood.com',\n",
       " ' Rockers 1978 | Movie Trailer, Reviews, Photos, Cast | Hollywood.com',\n",
       " \" Sgt. Pepper 's Lonely Hearts Club Band 1978 | Movie Trailer, Reviews, Photos, Cast | Hollywood.com\",\n",
       " ' Our Winning Season 1978 | Movie Trailer, Reviews, Photos, Cast | Hollywood.com',\n",
       " ' Brass Target 1978 | Movie Trailer, Reviews, Photos, Cast | Hollywood.com',\n",
       " ' Comes a Horseman 1978 | Movie Trailer, Reviews, Photos, Cast | Hollywood.com',\n",
       " ' Invasion of the Body Snatchers 1978 | Movie Trailer, Reviews, Photos, Cast | Hollywood.com',\n",
       " ' King of the Gypsies 1978 | Movie Trailer, Reviews, Photos, Cast | Hollywood.com',\n",
       " ' Messer im Kopf 1978 | Movie Trailer, Reviews, Photos, Cast | Hollywood.com',\n",
       " ' The Glove 1978 | Movie Trailer, Reviews, Photos, Cast | Hollywood.com',\n",
       " ' Avalanche 1978 | Movie Trailer, Reviews, Photos, Cast | Hollywood.com',\n",
       " ' No Longer Alone 1978 | Movie Trailer, Reviews, Photos, Cast | Hollywood.com',\n",
       " ' F.I.S.T. 1978 | Movie Trailer, Reviews, Photos, Cast | Hollywood.com',\n",
       " ' Here Come the Tigers 1978 | Movie Trailer, Reviews, Photos, Cast | Hollywood.com',\n",
       " ' Malibu Beach 1978 | Movie Trailer, Reviews, Photos, Cast | Hollywood.com',\n",
       " ' Corvette Summer 1978 | Movie Trailer, Reviews, Photos, Cast | Hollywood.com',\n",
       " ' Harper Valley P.T.A. 1978 | Movie Trailer, Reviews, Photos, Cast | Hollywood.com',\n",
       " ' Love and the Midnight Auto Supply 1978 | Movie Trailer, Reviews, Photos, Cast | Hollywood.com',\n",
       " ' The Revenge of the Pink Panther 1978 | Movie Trailer, Reviews, Photos, Cast | Hollywood.com']"
      ]
     },
     "execution_count": 43,
     "metadata": {},
     "output_type": "execute_result"
    }
   ],
   "source": [
    "values"
   ]
  },
  {
   "cell_type": "code",
   "execution_count": 188,
   "metadata": {},
   "outputs": [],
   "source": [
    "#PREVISIONE DELLA LABEL"
   ]
  },
  {
   "cell_type": "code",
   "execution_count": 46,
   "metadata": {},
   "outputs": [
    {
     "name": "stdout",
     "output_type": "stream",
     "text": [
      "Etichetta predetta: year \n",
      "\n",
      "\n",
      "\n",
      "Grado di affidabilità: 0.443\n",
      "\n",
      "88/100 -> Questa etichetta è stata predetta 88 volte su 100.\n"
     ]
    }
   ],
   "source": [
    "#Struttura: dictionary[label] -> [89%, 93%, 97%, 32%, 99% , ...]\n",
    "dictionary={}\n",
    "\n",
    "#Sruttura ausiliaria: permette di stabilire il numero di volte in cui ciascuna etichetta è stata predetta\n",
    "occorrenze={}\n",
    "\n",
    "\n",
    "#Crea una lista vuota per ciascuna label \n",
    "for label in labels:\n",
    "    dictionary[label]=[]\n",
    "    occorrenze[label]=0\n",
    "    \n",
    "\n",
    "classifier = pipeline(\"zero-shot-classification\")\n",
    "    \n",
    "labels_number= len(labels)\n",
    "\n",
    "#Vengono effettuate le previsioni attraverso il modello.\n",
    "#Le previsioni vengono memorizzate nel dizionario.\n",
    "for i in range(RECORDS_NUMBER):\n",
    "    text = values[i]\n",
    "    result=classifier(text, labels)\n",
    "    occorrenze[result['labels'][0]]+=1\n",
    "    for y in range(labels_number):\n",
    "        label= result['labels'][y]\n",
    "        score= result['scores'][y]\n",
    "        dictionary[label].append(score)    \n",
    "        \n",
    "        \n",
    "risultati={}\n",
    "for label in labels:\n",
    "    risultati[label]= sum(dictionary[label])/RECORDS_NUMBER\n",
    "\n",
    "max_score= 0\n",
    "\n",
    "for label, score in risultati.items():  \n",
    "    if score > max_score:\n",
    "        label_predict=label\n",
    "        max_score=score\n",
    "\n",
    "print(\"Etichetta predetta: %s \\n\\n\\n\" % label_predict)\n",
    "print(\"Grado di affidabilità: %.3f\\n\" % max_score)\n",
    "print(\"%d/%d -> Questa etichetta è stata predetta %d volte su %d.\" \n",
    "      % (occorrenze[label_predict], RECORDS_NUMBER, occorrenze[label_predict], RECORDS_NUMBER))"
   ]
  },
  {
   "cell_type": "markdown",
   "metadata": {},
   "source": [
    "# Label : Titolo Film"
   ]
  },
  {
   "cell_type": "code",
   "execution_count": 60,
   "metadata": {},
   "outputs": [
    {
     "name": "stdout",
     "output_type": "stream",
     "text": [
      "I dati sono stati caricati correttamente.\n"
     ]
    }
   ],
   "source": [
    "url='http://localhost:8123/?query=SELECT top 100 iirrriiirilrirr FROM extracted_data.c5e54033df0a4d17801808da46506300'\n",
    "\n",
    "try:\n",
    "    r = requests.get(url)\n",
    "except ConnectionError:\n",
    "        print(\"Il collegamento al database non è attivo.\")\n",
    "\n",
    "        \n",
    "#L'utf-8-sig è una variante Python di UTF-8 che ci permette di eliminare, se presenti, eventuali carattere UTF-8 BOM.\n",
    "values= r.content.decode('utf-8-sig')\n",
    "\n",
    "\n",
    "#Controllo i parametri inseriti dall'utente\n",
    "if (values[6:8]=='60'):\n",
    "    print(\"ATTENZIONE! La tabella indicata non esiste.\")\n",
    "elif (values[6:8]=='47'):\n",
    "    print(\"ATTENZIONE! La colonna indicata non esiste.\")\n",
    "else:\n",
    "    print(\"I dati sono stati caricati correttamente.\")"
   ]
  },
  {
   "cell_type": "code",
   "execution_count": 61,
   "metadata": {},
   "outputs": [
    {
     "data": {
      "text/plain": [
       "\"Inherit the Wind\\nLe Trou\\nTikhy Don\\nThe Dark at the Top of the Stairs\\nNiewinni Czarodzieje\\nG.I. Blues\\nEn Lektion i Kärlek\\nUne Vie\\nCape Fear\\nThérèse Desqueyroux\\nLe Procès de Jeanne d\\\\'Arc\\nStreet Girls\\nChallenge to Be Free\\nMonty Python and the Holy Grail\\nRosebud\\nDet Gode og det onde\\nThe Day of the Locust\\nSharks\\\\' Treasure\\nThe Happy Hooker\\nThe Return of the Pink Panther\\nSunday Too Far Away\\nLegend of the Seven Golden Vampires\\nIt Seemed Like a Good Idea at the Time\\nThe Eiger Sanction\\nOnce Is Not Enough\\nOne of Our Dinosaurs Is Missing\\nThe Drowning Pool\\nTake a Hard Ride\\nBucktown\\nConduct Unbecoming\\nCarnival of Souls\\nThe Little Girl Who Lives Down the Lane\\nRiddles of The Sphinx\\nDeath Machines\\nChinese Roulette\\nEaten Alive\\nCarrie\\nNetwork\\nSatan\\\\'s Slave\\nKing Kong\\nThe Pink Panther Strikes Again\\nThe Eagle Has Landed\\nGli Esecutori\\nUnder the Doctor\\nTreasure of Matecumbe\\nSmall Change\\nInvisible Strangler\\nPeeper\\nLisztomania\\nJim, the World\\\\'s Greatest\\nBreakheart Pass\\nThe Loves and Times of Scaramouche\\nThe Sailor Who Fell from Grace with the Sea\\nChantons Sous l\\\\'Occupation\\nHollywood Boulevard\\nEat My Dust!\\nAt the Earth\\\\'s Core\\nThe Blue Bird\\nTrackdown\\nNishant\\nDiamond Head\\nMr. Billion\\nThe Farmer\\nBreak of Day\\nThe Other Side of Midnight\\nSkateboard\\nTomorrow Never Comes\\nEmpire of the Ants\\nLe Crabe-Tambour\\nThieves\\nL\\\\'Une Chante, l\\\\'Autre Pas\\nLooking Up\\nFire Sale\\nThe Kentucky Fried Movie\\nSoldier of Orange\\nMartin\\nTilt\\nSummer Camp\\nThe Big Fix\\nEvery Which Way But Loose\\nNational Lampoon\\\\'s Animal House\\nDeath Sport\\nRockers\\nSgt. Pepper\\\\'s Lonely Hearts Club Band\\nOur Winning Season\\nBrass Target\\nComes a Horseman\\nInvasion of the Body Snatchers\\nKing of the Gypsies\\nMesser im Kopf\\nThe Glove\\nAvalanche\\nNo Longer Alone\\nF.I.S.T.\\nHere Come the Tigers\\nMalibu Beach\\nCorvette Summer\\nHarper Valley P.T.A.\\nLove and the Midnight Auto Supply\\nThe Revenge of the Pink Panther\\n\""
      ]
     },
     "execution_count": 61,
     "metadata": {},
     "output_type": "execute_result"
    }
   ],
   "source": [
    "#PREPROCESSING\n",
    "\n",
    "values"
   ]
  },
  {
   "cell_type": "code",
   "execution_count": 62,
   "metadata": {},
   "outputs": [],
   "source": [
    "values = values.replace(\"\\\\\", \"\")\n",
    "values = values.split(\"\\n\")"
   ]
  },
  {
   "cell_type": "code",
   "execution_count": 63,
   "metadata": {},
   "outputs": [
    {
     "data": {
      "text/plain": [
       "['Inherit the Wind',\n",
       " 'Le Trou',\n",
       " 'Tikhy Don',\n",
       " 'The Dark at the Top of the Stairs',\n",
       " 'Niewinni Czarodzieje',\n",
       " 'G.I. Blues',\n",
       " 'En Lektion i Kärlek',\n",
       " 'Une Vie',\n",
       " 'Cape Fear',\n",
       " 'Thérèse Desqueyroux',\n",
       " \"Le Procès de Jeanne d'Arc\",\n",
       " 'Street Girls',\n",
       " 'Challenge to Be Free',\n",
       " 'Monty Python and the Holy Grail',\n",
       " 'Rosebud',\n",
       " 'Det Gode og det onde',\n",
       " 'The Day of the Locust',\n",
       " \"Sharks' Treasure\",\n",
       " 'The Happy Hooker',\n",
       " 'The Return of the Pink Panther',\n",
       " 'Sunday Too Far Away',\n",
       " 'Legend of the Seven Golden Vampires',\n",
       " 'It Seemed Like a Good Idea at the Time',\n",
       " 'The Eiger Sanction',\n",
       " 'Once Is Not Enough',\n",
       " 'One of Our Dinosaurs Is Missing',\n",
       " 'The Drowning Pool',\n",
       " 'Take a Hard Ride',\n",
       " 'Bucktown',\n",
       " 'Conduct Unbecoming',\n",
       " 'Carnival of Souls',\n",
       " 'The Little Girl Who Lives Down the Lane',\n",
       " 'Riddles of The Sphinx',\n",
       " 'Death Machines',\n",
       " 'Chinese Roulette',\n",
       " 'Eaten Alive',\n",
       " 'Carrie',\n",
       " 'Network',\n",
       " \"Satan's Slave\",\n",
       " 'King Kong',\n",
       " 'The Pink Panther Strikes Again',\n",
       " 'The Eagle Has Landed',\n",
       " 'Gli Esecutori',\n",
       " 'Under the Doctor',\n",
       " 'Treasure of Matecumbe',\n",
       " 'Small Change',\n",
       " 'Invisible Strangler',\n",
       " 'Peeper',\n",
       " 'Lisztomania',\n",
       " \"Jim, the World's Greatest\",\n",
       " 'Breakheart Pass',\n",
       " 'The Loves and Times of Scaramouche',\n",
       " 'The Sailor Who Fell from Grace with the Sea',\n",
       " \"Chantons Sous l'Occupation\",\n",
       " 'Hollywood Boulevard',\n",
       " 'Eat My Dust!',\n",
       " \"At the Earth's Core\",\n",
       " 'The Blue Bird',\n",
       " 'Trackdown',\n",
       " 'Nishant',\n",
       " 'Diamond Head',\n",
       " 'Mr. Billion',\n",
       " 'The Farmer',\n",
       " 'Break of Day',\n",
       " 'The Other Side of Midnight',\n",
       " 'Skateboard',\n",
       " 'Tomorrow Never Comes',\n",
       " 'Empire of the Ants',\n",
       " 'Le Crabe-Tambour',\n",
       " 'Thieves',\n",
       " \"L'Une Chante, l'Autre Pas\",\n",
       " 'Looking Up',\n",
       " 'Fire Sale',\n",
       " 'The Kentucky Fried Movie',\n",
       " 'Soldier of Orange',\n",
       " 'Martin',\n",
       " 'Tilt',\n",
       " 'Summer Camp',\n",
       " 'The Big Fix',\n",
       " 'Every Which Way But Loose',\n",
       " \"National Lampoon's Animal House\",\n",
       " 'Death Sport',\n",
       " 'Rockers',\n",
       " \"Sgt. Pepper's Lonely Hearts Club Band\",\n",
       " 'Our Winning Season',\n",
       " 'Brass Target',\n",
       " 'Comes a Horseman',\n",
       " 'Invasion of the Body Snatchers',\n",
       " 'King of the Gypsies',\n",
       " 'Messer im Kopf',\n",
       " 'The Glove',\n",
       " 'Avalanche',\n",
       " 'No Longer Alone',\n",
       " 'F.I.S.T.',\n",
       " 'Here Come the Tigers',\n",
       " 'Malibu Beach',\n",
       " 'Corvette Summer',\n",
       " 'Harper Valley P.T.A.',\n",
       " 'Love and the Midnight Auto Supply',\n",
       " 'The Revenge of the Pink Panther',\n",
       " '']"
      ]
     },
     "execution_count": 63,
     "metadata": {},
     "output_type": "execute_result"
    }
   ],
   "source": [
    "values"
   ]
  },
  {
   "cell_type": "code",
   "execution_count": 64,
   "metadata": {},
   "outputs": [
    {
     "data": {
      "text/plain": [
       "''"
      ]
     },
     "execution_count": 64,
     "metadata": {},
     "output_type": "execute_result"
    }
   ],
   "source": [
    "values.pop()"
   ]
  },
  {
   "cell_type": "code",
   "execution_count": 65,
   "metadata": {},
   "outputs": [
    {
     "data": {
      "text/plain": [
       "['Inherit the Wind',\n",
       " 'Le Trou',\n",
       " 'Tikhy Don',\n",
       " 'The Dark at the Top of the Stairs',\n",
       " 'Niewinni Czarodzieje',\n",
       " 'G.I. Blues',\n",
       " 'En Lektion i Kärlek',\n",
       " 'Une Vie',\n",
       " 'Cape Fear',\n",
       " 'Thérèse Desqueyroux',\n",
       " \"Le Procès de Jeanne d'Arc\",\n",
       " 'Street Girls',\n",
       " 'Challenge to Be Free',\n",
       " 'Monty Python and the Holy Grail',\n",
       " 'Rosebud',\n",
       " 'Det Gode og det onde',\n",
       " 'The Day of the Locust',\n",
       " \"Sharks' Treasure\",\n",
       " 'The Happy Hooker',\n",
       " 'The Return of the Pink Panther',\n",
       " 'Sunday Too Far Away',\n",
       " 'Legend of the Seven Golden Vampires',\n",
       " 'It Seemed Like a Good Idea at the Time',\n",
       " 'The Eiger Sanction',\n",
       " 'Once Is Not Enough',\n",
       " 'One of Our Dinosaurs Is Missing',\n",
       " 'The Drowning Pool',\n",
       " 'Take a Hard Ride',\n",
       " 'Bucktown',\n",
       " 'Conduct Unbecoming',\n",
       " 'Carnival of Souls',\n",
       " 'The Little Girl Who Lives Down the Lane',\n",
       " 'Riddles of The Sphinx',\n",
       " 'Death Machines',\n",
       " 'Chinese Roulette',\n",
       " 'Eaten Alive',\n",
       " 'Carrie',\n",
       " 'Network',\n",
       " \"Satan's Slave\",\n",
       " 'King Kong',\n",
       " 'The Pink Panther Strikes Again',\n",
       " 'The Eagle Has Landed',\n",
       " 'Gli Esecutori',\n",
       " 'Under the Doctor',\n",
       " 'Treasure of Matecumbe',\n",
       " 'Small Change',\n",
       " 'Invisible Strangler',\n",
       " 'Peeper',\n",
       " 'Lisztomania',\n",
       " \"Jim, the World's Greatest\",\n",
       " 'Breakheart Pass',\n",
       " 'The Loves and Times of Scaramouche',\n",
       " 'The Sailor Who Fell from Grace with the Sea',\n",
       " \"Chantons Sous l'Occupation\",\n",
       " 'Hollywood Boulevard',\n",
       " 'Eat My Dust!',\n",
       " \"At the Earth's Core\",\n",
       " 'The Blue Bird',\n",
       " 'Trackdown',\n",
       " 'Nishant',\n",
       " 'Diamond Head',\n",
       " 'Mr. Billion',\n",
       " 'The Farmer',\n",
       " 'Break of Day',\n",
       " 'The Other Side of Midnight',\n",
       " 'Skateboard',\n",
       " 'Tomorrow Never Comes',\n",
       " 'Empire of the Ants',\n",
       " 'Le Crabe-Tambour',\n",
       " 'Thieves',\n",
       " \"L'Une Chante, l'Autre Pas\",\n",
       " 'Looking Up',\n",
       " 'Fire Sale',\n",
       " 'The Kentucky Fried Movie',\n",
       " 'Soldier of Orange',\n",
       " 'Martin',\n",
       " 'Tilt',\n",
       " 'Summer Camp',\n",
       " 'The Big Fix',\n",
       " 'Every Which Way But Loose',\n",
       " \"National Lampoon's Animal House\",\n",
       " 'Death Sport',\n",
       " 'Rockers',\n",
       " \"Sgt. Pepper's Lonely Hearts Club Band\",\n",
       " 'Our Winning Season',\n",
       " 'Brass Target',\n",
       " 'Comes a Horseman',\n",
       " 'Invasion of the Body Snatchers',\n",
       " 'King of the Gypsies',\n",
       " 'Messer im Kopf',\n",
       " 'The Glove',\n",
       " 'Avalanche',\n",
       " 'No Longer Alone',\n",
       " 'F.I.S.T.',\n",
       " 'Here Come the Tigers',\n",
       " 'Malibu Beach',\n",
       " 'Corvette Summer',\n",
       " 'Harper Valley P.T.A.',\n",
       " 'Love and the Midnight Auto Supply',\n",
       " 'The Revenge of the Pink Panther']"
      ]
     },
     "execution_count": 65,
     "metadata": {},
     "output_type": "execute_result"
    }
   ],
   "source": [
    "values"
   ]
  },
  {
   "cell_type": "code",
   "execution_count": 66,
   "metadata": {},
   "outputs": [
    {
     "name": "stdout",
     "output_type": "stream",
     "text": [
      "Etichetta predetta: movie name \n",
      "\n",
      "\n",
      "\n",
      "Grado di affidabilità: 0.380\n",
      "\n",
      "59/100 -> Questa etichetta è stata predetta 59 volte su 100.\n"
     ]
    }
   ],
   "source": [
    "#Struttura: dictionary[label] -> [89%, 93%, 97%, 32%, 99% , ...]\n",
    "dictionary={}\n",
    "\n",
    "#Sruttura ausiliaria: permette di stabilire il numero di volte in cui ciascuna etichetta è stata predetta\n",
    "occorrenze={}\n",
    "\n",
    "\n",
    "#Crea una lista vuota per ciascuna label \n",
    "for label in labels:\n",
    "    dictionary[label]=[]\n",
    "    occorrenze[label]=0\n",
    "    \n",
    "\n",
    "classifier = pipeline(\"zero-shot-classification\")\n",
    "    \n",
    "labels_number= len(labels)\n",
    "\n",
    "#Vengono effettuate le previsioni attraverso il modello.\n",
    "#Le previsioni vengono memorizzate nel dizionario.\n",
    "for i in range(RECORDS_NUMBER):\n",
    "    text = values[i]\n",
    "    result=classifier(text, labels)\n",
    "    occorrenze[result['labels'][0]]+=1\n",
    "    for y in range(labels_number):\n",
    "        label= result['labels'][y]\n",
    "        score= result['scores'][y]\n",
    "        dictionary[label].append(score)    \n",
    "        \n",
    "        \n",
    "risultati={}\n",
    "for label in labels:\n",
    "    risultati[label]= sum(dictionary[label])/RECORDS_NUMBER\n",
    "\n",
    "max_score= 0\n",
    "\n",
    "for label, score in risultati.items():  \n",
    "    if score > max_score:\n",
    "        label_predict=label\n",
    "        max_score=score\n",
    "\n",
    "print(\"Etichetta predetta: %s \\n\\n\\n\" % label_predict)\n",
    "print(\"Grado di affidabilità: %.3f\\n\" % max_score)\n",
    "print(\"%d/%d -> Questa etichetta è stata predetta %d volte su %d.\" \n",
    "      % (occorrenze[label_predict], RECORDS_NUMBER, occorrenze[label_predict], RECORDS_NUMBER))"
   ]
  },
  {
   "cell_type": "markdown",
   "metadata": {},
   "source": [
    "# LABEL:  Durata film"
   ]
  },
  {
   "cell_type": "code",
   "execution_count": 107,
   "metadata": {},
   "outputs": [
    {
     "name": "stdout",
     "output_type": "stream",
     "text": [
      "I dati sono stati caricati correttamente.\n"
     ]
    }
   ],
   "source": [
    "url='http://localhost:8123/?query=SELECT top 100 iirrriiiririri FROM extracted_data.c5e54033df0a4d17801808da46506300'\n",
    "\n",
    "try:\n",
    "    r = requests.get(url)\n",
    "except ConnectionError:\n",
    "        print(\"Il collegamento al database non è attivo.\")\n",
    "\n",
    "        \n",
    "#L'utf-8-sig è una variante Python di UTF-8 che ci permette di eliminare, se presenti, eventuali carattere UTF-8 BOM.\n",
    "values= r.content.decode('utf-8-sig')\n",
    "\n",
    "\n",
    "#Controllo i parametri inseriti dall'utente\n",
    "if (values[6:8]=='60'):\n",
    "    print(\"ATTENZIONE! La tabella indicata non esiste.\")\n",
    "elif (values[6:8]=='47'):\n",
    "    print(\"ATTENZIONE! La colonna indicata non esiste.\")\n",
    "else:\n",
    "    print(\"I dati sono stati caricati correttamente.\")"
   ]
  },
  {
   "cell_type": "code",
   "execution_count": 108,
   "metadata": {},
   "outputs": [
    {
     "data": {
      "text/plain": [
       "'2 hr 7 mins\\n2 hr 3 mins\\n1 hr 47 mins\\n2 hr 3 mins\\n1 hr 27 mins\\n1 hr 45 mins\\n1 hr 35 mins\\n1 hr 26 mins\\n1 hr 45 mins\\n1 hr 58 mins\\n1 hr 5 mins\\n1 hr 17 mins\\n1 hr 28 mins\\n1 hr 29 mins\\n2 hr 6 mins\\n1 hr 21 mins\\n2 hr 24 mins\\n1 hr 35 mins\\n1 hr 36 mins\\n1 hr 53 mins\\n1 hr 34 mins\\n1 hr 23 mins\\n1 hr 46 mins\\n2 hr 5 mins\\n2 hr 2 mins\\n1 hr 40 mins\\n1 hr 48 mins\\n1 hr 50 mins\\n1 hr 34 mins\\n1 hr 47 mins\\n1 hr 20 mins\\n1 hr 34 mins\\n1 hr 32 mins\\n1 hr 33 mins\\n1 hr 26 mins\\n1 hr 30 mins\\n1 hr 38 mins\\n2 hr 1 mins\\n1 hr 24 mins\\n2 hr 14 mins\\n1 hr 43 mins\\n2 hr 14 mins\\n1 hr 32 mins\\n1 hr 24 mins\\n1 hr 57 mins\\n1 hr 44 mins\\n1 hr 25 mins\\n1 hr 27 mins\\n1 hr 43 mins\\n1 hr 31 mins\\n1 hr 35 mins\\n1 hr 32 mins\\n1 hr 44 mins\\n1 hr 27 mins\\n1 hr 23 mins\\n1 hr 29 mins\\n1 hr 29 mins\\n1 hr 35 mins\\n1 hr 37 mins\\n2 hr 35 mins\\n1 hr 47 mins\\n1 hr 31 mins\\n1 hr 37 mins\\n1 hr 46 mins\\n2 hr 45 mins\\n1 hr 37 mins\\n2 hr\\n1 hr 29 mins\\n2 hr\\n1 hr 43 mins\\n1 hr 45 mins\\n1 hr 34 mins\\n1 hr 28 mins\\n1 hr 30 mins\\n2 hr 45 mins\\n1 hr 35 mins\\n1 hr 51 mins\\n1 hr 25 mins\\n1 hr 48 mins\\n1 hr 59 mins\\n1 hr 49 mins\\n1 hr 22 mins\\n1 hr 40 mins\\n1 hr 36 mins\\n1 hr 32 mins\\n1 hr 51 mins\\n1 hr 58 mins\\n1 hr 55 mins\\n1 hr 52 mins\\n1 hr 48 mins\\n1 hr 30 mins\\n1 hr 31 mins\\n1 hr 39 mins\\n2 hr 25 mins\\n1 hr 30 mins\\n1 hr 33 mins\\n2 hr\\n1 hr 33 mins\\n1 hr 33 mins\\n1 hr 39 mins\\n'"
      ]
     },
     "execution_count": 108,
     "metadata": {},
     "output_type": "execute_result"
    }
   ],
   "source": [
    "values"
   ]
  },
  {
   "cell_type": "code",
   "execution_count": 109,
   "metadata": {},
   "outputs": [],
   "source": [
    "values = values.split(\"\\n\")"
   ]
  },
  {
   "cell_type": "code",
   "execution_count": 110,
   "metadata": {},
   "outputs": [
    {
     "data": {
      "text/plain": [
       "['2 hr 7 mins',\n",
       " '2 hr 3 mins',\n",
       " '1 hr 47 mins',\n",
       " '2 hr 3 mins',\n",
       " '1 hr 27 mins',\n",
       " '1 hr 45 mins',\n",
       " '1 hr 35 mins',\n",
       " '1 hr 26 mins',\n",
       " '1 hr 45 mins',\n",
       " '1 hr 58 mins',\n",
       " '1 hr 5 mins',\n",
       " '1 hr 17 mins',\n",
       " '1 hr 28 mins',\n",
       " '1 hr 29 mins',\n",
       " '2 hr 6 mins',\n",
       " '1 hr 21 mins',\n",
       " '2 hr 24 mins',\n",
       " '1 hr 35 mins',\n",
       " '1 hr 36 mins',\n",
       " '1 hr 53 mins',\n",
       " '1 hr 34 mins',\n",
       " '1 hr 23 mins',\n",
       " '1 hr 46 mins',\n",
       " '2 hr 5 mins',\n",
       " '2 hr 2 mins',\n",
       " '1 hr 40 mins',\n",
       " '1 hr 48 mins',\n",
       " '1 hr 50 mins',\n",
       " '1 hr 34 mins',\n",
       " '1 hr 47 mins',\n",
       " '1 hr 20 mins',\n",
       " '1 hr 34 mins',\n",
       " '1 hr 32 mins',\n",
       " '1 hr 33 mins',\n",
       " '1 hr 26 mins',\n",
       " '1 hr 30 mins',\n",
       " '1 hr 38 mins',\n",
       " '2 hr 1 mins',\n",
       " '1 hr 24 mins',\n",
       " '2 hr 14 mins',\n",
       " '1 hr 43 mins',\n",
       " '2 hr 14 mins',\n",
       " '1 hr 32 mins',\n",
       " '1 hr 24 mins',\n",
       " '1 hr 57 mins',\n",
       " '1 hr 44 mins',\n",
       " '1 hr 25 mins',\n",
       " '1 hr 27 mins',\n",
       " '1 hr 43 mins',\n",
       " '1 hr 31 mins',\n",
       " '1 hr 35 mins',\n",
       " '1 hr 32 mins',\n",
       " '1 hr 44 mins',\n",
       " '1 hr 27 mins',\n",
       " '1 hr 23 mins',\n",
       " '1 hr 29 mins',\n",
       " '1 hr 29 mins',\n",
       " '1 hr 35 mins',\n",
       " '1 hr 37 mins',\n",
       " '2 hr 35 mins',\n",
       " '1 hr 47 mins',\n",
       " '1 hr 31 mins',\n",
       " '1 hr 37 mins',\n",
       " '1 hr 46 mins',\n",
       " '2 hr 45 mins',\n",
       " '1 hr 37 mins',\n",
       " '2 hr',\n",
       " '1 hr 29 mins',\n",
       " '2 hr',\n",
       " '1 hr 43 mins',\n",
       " '1 hr 45 mins',\n",
       " '1 hr 34 mins',\n",
       " '1 hr 28 mins',\n",
       " '1 hr 30 mins',\n",
       " '2 hr 45 mins',\n",
       " '1 hr 35 mins',\n",
       " '1 hr 51 mins',\n",
       " '1 hr 25 mins',\n",
       " '1 hr 48 mins',\n",
       " '1 hr 59 mins',\n",
       " '1 hr 49 mins',\n",
       " '1 hr 22 mins',\n",
       " '1 hr 40 mins',\n",
       " '1 hr 36 mins',\n",
       " '1 hr 32 mins',\n",
       " '1 hr 51 mins',\n",
       " '1 hr 58 mins',\n",
       " '1 hr 55 mins',\n",
       " '1 hr 52 mins',\n",
       " '1 hr 48 mins',\n",
       " '1 hr 30 mins',\n",
       " '1 hr 31 mins',\n",
       " '1 hr 39 mins',\n",
       " '2 hr 25 mins',\n",
       " '1 hr 30 mins',\n",
       " '1 hr 33 mins',\n",
       " '2 hr',\n",
       " '1 hr 33 mins',\n",
       " '1 hr 33 mins',\n",
       " '1 hr 39 mins',\n",
       " '']"
      ]
     },
     "execution_count": 110,
     "metadata": {},
     "output_type": "execute_result"
    }
   ],
   "source": [
    "values"
   ]
  },
  {
   "cell_type": "code",
   "execution_count": 111,
   "metadata": {},
   "outputs": [
    {
     "data": {
      "text/plain": [
       "''"
      ]
     },
     "execution_count": 111,
     "metadata": {},
     "output_type": "execute_result"
    }
   ],
   "source": [
    "values.pop()"
   ]
  },
  {
   "cell_type": "code",
   "execution_count": 114,
   "metadata": {},
   "outputs": [
    {
     "name": "stdout",
     "output_type": "stream",
     "text": [
      "Etichetta predetta: film lenght \n",
      "\n",
      "\n",
      "\n",
      "Grado di affidabilità: 0.702\n",
      "\n",
      "93/93 -> Questa etichetta è stata predetta 93 volte su 93.\n"
     ]
    }
   ],
   "source": [
    "#Struttura: dictionary[label] -> [89%, 93%, 97%, 32%, 99% , ...]\n",
    "dictionary={}\n",
    "\n",
    "#Sruttura ausiliaria: permette di stabilire il numero di volte in cui ciascuna etichetta è stata predetta\n",
    "occorrenze={}\n",
    "\n",
    "\n",
    "#Crea una lista vuota per ciascuna label \n",
    "for label in labels:\n",
    "    dictionary[label]=[]\n",
    "    occorrenze[label]=0\n",
    "    \n",
    "\n",
    "classifier = pipeline(\"zero-shot-classification\")\n",
    "    \n",
    "labels_number= len(labels)\n",
    "\n",
    "#Vengono effettuate le previsioni attraverso il modello.\n",
    "#Le previsioni vengono memorizzate nel dizionario.\n",
    "for i in range(RECORDS_NUMBER):\n",
    "    text = values[i]\n",
    "    result=classifier(text, labels)\n",
    "    occorrenze[result['labels'][0]]+=1\n",
    "    for y in range(labels_number):\n",
    "        label= result['labels'][y]\n",
    "        score= result['scores'][y]\n",
    "        dictionary[label].append(score)    \n",
    "        \n",
    "        \n",
    "risultati={}\n",
    "for label in labels:\n",
    "    risultati[label]= sum(dictionary[label])/RECORDS_NUMBER\n",
    "\n",
    "max_score= 0\n",
    "\n",
    "for label, score in risultati.items():  \n",
    "    if score > max_score:\n",
    "        label_predict=label\n",
    "        max_score=score\n",
    "\n",
    "print(\"Etichetta predetta: %s \\n\\n\\n\" % label_predict)\n",
    "print(\"Grado di affidabilità: %.3f\\n\" % max_score)\n",
    "print(\"%d/%d -> Questa etichetta è stata predetta %d volte su %d.\" \n",
    "      % (occorrenze[label_predict], RECORDS_NUMBER, occorrenze[label_predict], RECORDS_NUMBER))"
   ]
  },
  {
   "cell_type": "markdown",
   "metadata": {},
   "source": [
    "# LABEL : Casa di produzione cinematografica"
   ]
  },
  {
   "cell_type": "code",
   "execution_count": 190,
   "metadata": {},
   "outputs": [
    {
     "name": "stdout",
     "output_type": "stream",
     "text": [
      "I dati sono stati caricati correttamente.\n"
     ]
    }
   ],
   "source": [
    "url='http://localhost:8123/?query=SELECT top 100 iirrriiirirrirrilliiiliirrrrrrllllrli FROM extracted_data.c5e54033df0a4d17801808da46506300'\n",
    "\n",
    "try:\n",
    "    r = requests.get(url)\n",
    "except ConnectionError:\n",
    "        print(\"Il collegamento al database non è attivo.\")\n",
    "\n",
    "        \n",
    "#L'utf-8-sig è una variante Python di UTF-8 che ci permette di eliminare, se presenti, eventuali carattere UTF-8 BOM.\n",
    "values= r.content.decode('utf-8-sig')\n",
    "\n",
    "\n",
    "#Controllo i parametri inseriti dall'utente\n",
    "if (values[6:8]=='60'):\n",
    "    print(\"ATTENZIONE! La tabella indicata non esiste.\")\n",
    "elif (values[6:8]=='47'):\n",
    "    print(\"ATTENZIONE! La colonna indicata non esiste.\")\n",
    "else:\n",
    "    print(\"I dati sono stati caricati correttamente.\")"
   ]
  },
  {
   "cell_type": "code",
   "execution_count": 191,
   "metadata": {},
   "outputs": [
    {
     "data": {
      "text/plain": [
       "'\\n\\n\\n\\n\\n\\nSwedish Film Production\\n\\n\\n\\n\\n\\nPacific International\\nCinema 5\\n\\n\\nParamount Pictures\\n\\nCannon Group\\nUnited Artists\\nSouth Australian Film Corporation\\n\\n\\nMalpaso\\n\\n\\nWarner Brothers\\n20th Century Fox\\nAmerican International Pictures\\nAllied Artists\\n\\nRank Film Distributors\\n\\n\\n\\n\\nUnited Artists\\nMGM\\nCrown International Pictures\\nParamount Pictures\\nUnited Artists\\nColumbia Pictures\\nAmerican International Pictures\\n\\nBuena Vista\\nFilms du Carrosse\\nNew Century Productions\\n20th Century Fox\\nWarner Brothers\\nUniversal Pictures\\nUnited Artists\\n\\n\\n\\n\\n\\nAmerican International Pictures\\n20th Century Fox\\nUnited Artists\\n\\n\\n20th Century Fox\\nColumbia Pictures\\n\\n20th Century Fox\\nUniversal Pictures\\nJ. Arthur Rank Productions\\nAmerican International Pictures\\n\\n\\n\\n\\n\\n\\n\\n\\nMelvin Simon Productions\\n\\nUniversal Pictures\\nMalpaso\\n20th Century Fox\\n\\nNew Yorker Films\\n\\nAmerican International Pictures\\n\\nUnited Artists\\n\\nParamount Pictures\\n\\n\\nNew World\\nWorldwide\\nUnited Artists\\n\\n\\n\\n\\n\\nUnited Artists\\n'"
      ]
     },
     "execution_count": 191,
     "metadata": {},
     "output_type": "execute_result"
    }
   ],
   "source": [
    "#PREPROCESSING\n",
    "values"
   ]
  },
  {
   "cell_type": "code",
   "execution_count": 171,
   "metadata": {},
   "outputs": [],
   "source": [
    "values = values.split(\"\\n\")"
   ]
  },
  {
   "cell_type": "code",
   "execution_count": 173,
   "metadata": {},
   "outputs": [
    {
     "data": {
      "text/plain": [
       "['',\n",
       " '',\n",
       " '',\n",
       " '',\n",
       " '',\n",
       " '',\n",
       " 'Swedish Film Production',\n",
       " '',\n",
       " '',\n",
       " '',\n",
       " '',\n",
       " '',\n",
       " 'Pacific International',\n",
       " 'Cinema 5',\n",
       " '',\n",
       " '',\n",
       " 'Paramount Pictures',\n",
       " '',\n",
       " 'Cannon Group',\n",
       " 'United Artists',\n",
       " 'South Australian Film Corporation',\n",
       " '',\n",
       " '',\n",
       " 'Malpaso',\n",
       " '',\n",
       " '',\n",
       " 'Warner Brothers',\n",
       " '20th Century Fox',\n",
       " 'American International Pictures',\n",
       " 'Allied Artists',\n",
       " '',\n",
       " 'Rank Film Distributors',\n",
       " '',\n",
       " '',\n",
       " '',\n",
       " '',\n",
       " 'United Artists',\n",
       " 'MGM',\n",
       " 'Crown International Pictures',\n",
       " 'Paramount Pictures',\n",
       " 'United Artists',\n",
       " 'Columbia Pictures',\n",
       " 'American International Pictures',\n",
       " '',\n",
       " 'Buena Vista',\n",
       " 'Films du Carrosse',\n",
       " 'New Century Productions',\n",
       " '20th Century Fox',\n",
       " 'Warner Brothers',\n",
       " 'Universal Pictures',\n",
       " 'United Artists',\n",
       " '',\n",
       " '',\n",
       " '',\n",
       " '',\n",
       " '',\n",
       " 'American International Pictures',\n",
       " '20th Century Fox',\n",
       " 'United Artists',\n",
       " '',\n",
       " '',\n",
       " '20th Century Fox',\n",
       " 'Columbia Pictures',\n",
       " '',\n",
       " '20th Century Fox',\n",
       " 'Universal Pictures',\n",
       " 'J. Arthur Rank Productions',\n",
       " 'American International Pictures',\n",
       " '',\n",
       " '',\n",
       " '',\n",
       " '',\n",
       " '',\n",
       " '',\n",
       " '',\n",
       " '',\n",
       " 'Melvin Simon Productions',\n",
       " '',\n",
       " 'Universal Pictures',\n",
       " 'Malpaso',\n",
       " '20th Century Fox',\n",
       " '',\n",
       " 'New Yorker Films',\n",
       " '',\n",
       " 'American International Pictures',\n",
       " '',\n",
       " 'United Artists',\n",
       " '',\n",
       " 'Paramount Pictures',\n",
       " '',\n",
       " '',\n",
       " 'New World',\n",
       " 'Worldwide',\n",
       " 'United Artists',\n",
       " '',\n",
       " '',\n",
       " '',\n",
       " '',\n",
       " '',\n",
       " 'United Artists',\n",
       " '']"
      ]
     },
     "execution_count": 173,
     "metadata": {},
     "output_type": "execute_result"
    }
   ],
   "source": [
    "values"
   ]
  },
  {
   "cell_type": "code",
   "execution_count": 174,
   "metadata": {},
   "outputs": [],
   "source": [
    "values = list(filter(lambda x: x != '', values))\n",
    "newRecordNumber = len(values)"
   ]
  },
  {
   "cell_type": "code",
   "execution_count": 176,
   "metadata": {},
   "outputs": [
    {
     "name": "stdout",
     "output_type": "stream",
     "text": [
      "Etichetta predetta: production company \n",
      "\n",
      "\n",
      "\n",
      "Grado di affidabilità: 0.398\n",
      "\n",
      "24/48 -> Questa etichetta è stata predetta 24 volte su 48.\n"
     ]
    }
   ],
   "source": [
    "#Struttura: dictionary[label] -> [89%, 93%, 97%, 32%, 99% , ...]\n",
    "dictionary={}\n",
    "\n",
    "#Sruttura ausiliaria: permette di stabilire il numero di volte in cui ciascuna etichetta è stata predetta\n",
    "occorrenze={}\n",
    "\n",
    "\n",
    "#Crea una lista vuota per ciascuna label \n",
    "for label in labels:\n",
    "    dictionary[label]=[]\n",
    "    occorrenze[label]=0\n",
    "    \n",
    "\n",
    "classifier = pipeline(\"zero-shot-classification\")\n",
    "    \n",
    "labels_number= len(labels)\n",
    "\n",
    "#Vengono effettuate le previsioni attraverso il modello.\n",
    "#Le previsioni vengono memorizzate nel dizionario.\n",
    "for i in range(newRecordNumber):\n",
    "    text = values[i]\n",
    "    result=classifier(text, labels)\n",
    "    occorrenze[result['labels'][0]]+=1\n",
    "    for y in range(labels_number):\n",
    "        label= result['labels'][y]\n",
    "        score= result['scores'][y]\n",
    "        dictionary[label].append(score)    \n",
    "        \n",
    "        \n",
    "risultati={}\n",
    "for label in labels:\n",
    "    risultati[label]= sum(dictionary[label])/newRecordNumber\n",
    "\n",
    "max_score= 0\n",
    "\n",
    "for label, score in risultati.items():  \n",
    "    if score > max_score:\n",
    "        label_predict=label\n",
    "        max_score=score\n",
    "\n",
    "print(\"Etichetta predetta: %s \\n\\n\\n\" % label_predict)\n",
    "print(\"Grado di affidabilità: %.3f\\n\" % max_score)\n",
    "print(\"%d/%d -> Questa etichetta è stata predetta %d volte su %d.\" \n",
    "      % (occorrenze[label_predict], newRecordNumber, occorrenze[label_predict], newRecordNumber))"
   ]
  },
  {
   "cell_type": "markdown",
   "metadata": {},
   "source": [
    "# Label : Personaggi"
   ]
  },
  {
   "cell_type": "code",
   "execution_count": 180,
   "metadata": {},
   "outputs": [
    {
     "name": "stdout",
     "output_type": "stream",
     "text": [
      "I dati sono stati caricati correttamente.\n"
     ]
    }
   ],
   "source": [
    "url='http://localhost:8123/?query=SELECT top 100 iirrriiirirrirrilliiiliiri FROM extracted_data.c5e54033df0a4d17801808da46506300'\n",
    "\n",
    "try:\n",
    "    r = requests.get(url)\n",
    "except ConnectionError:\n",
    "        print(\"Il collegamento al database non è attivo.\")\n",
    "\n",
    "        \n",
    "#L'utf-8-sig è una variante Python di UTF-8 che ci permette di eliminare, se presenti, eventuali carattere UTF-8 BOM.\n",
    "values= r.content.decode('utf-8-sig')\n",
    "\n",
    "\n",
    "#Controllo i parametri inseriti dall'utente\n",
    "if (values[6:8]=='60'):\n",
    "    print(\"ATTENZIONE! La tabella indicata non esiste.\")\n",
    "elif (values[6:8]=='47'):\n",
    "    print(\"ATTENZIONE! La colonna indicata non esiste.\")\n",
    "else:\n",
    "    print(\"I dati sono stati caricati correttamente.\")"
   ]
  },
  {
   "cell_type": "code",
   "execution_count": 181,
   "metadata": {},
   "outputs": [
    {
     "data": {
      "text/plain": [
       "'Henry Drummond\\nGeo Cassid\\nPantelei Melekhox\\nRubin Flood\\nAndrzej\\nTulsa McLean\\nThe hotel receptionist\\nJeanne Dandieu\\nSam Bowden\\nTherese Desqueyroux\\nJoan of Arc\\n\\nFrenchy\\nGuard\\nLarry Martin\\nNarrator\\nHomer\\nJim\\nUnder-Secretary\\nInspector Jacques Clouseau\\nSheila\\nHsu Tien-an\\nSweeney\\nJonathan Hemlock\\nMike Wayne\\nHnup Wan\\nHarper\\nPike\\nDuke\\n2nd Lt. Arthur Drake\\nMary Henry\\nRynn\\n\\n\\nAriane\\nJudd\\nCarrie White\\nDiana Christensen\\nFrances\\nJack Prescott\\nSinging voice of Ainslie Jarvis\\nCol. Kurt Steiner\\nUlysses\\n\\nCoahoma Sheriff\\nPatrick\\nLt. Charles Barrett\\nTucker\\nFranz Liszt\\nJim\\nJohn Deakin\\n\\nNo. 4\\nNarrator\\nMutant\\nHoover\\nDavid Innes\\nWitch\\nJim Calhoun\\nTeacher\\nRichard \"King\" Howland\\nCol. Winkle\\\\\\'s Aides\\nKyle Martin\\nAlice\\nNoelle Page\\nManny Bloom\\nJim Wilson\\nJim\\nBabourg\\nSally Cramer\\nPomme\\\\\\'s father\\nRose Lander\\nEzra Fikus\\nClumsy\\nErik\\n\\nTilt, Brenda Louise Davenport\\n\\nMoses Wine\\nPhilo Beddoe\\nJohn \"Bluto\" Blutarsky\\nKaz Oshay\\nHimself\\nBilly Shears\\nDavid Wakefield\\nDuty Sergeant\\nFrank\\nMatthew Bennell\\nKing Zharko Stepanowicz\\nDr. Berthold Hoffmann\\nSam Kellough\\nDavid Shelby\\nJoan Winmill\\nJohnny Kovak\\nEddie Burke\\nDina\\nKent Dantley\\nStella Johnson\\nDuke\\nInspector Jacques Clouseau\\n'"
      ]
     },
     "execution_count": 181,
     "metadata": {},
     "output_type": "execute_result"
    }
   ],
   "source": [
    "values"
   ]
  },
  {
   "cell_type": "code",
   "execution_count": 182,
   "metadata": {},
   "outputs": [],
   "source": [
    "values = values.split(\"\\n\")"
   ]
  },
  {
   "cell_type": "code",
   "execution_count": 183,
   "metadata": {},
   "outputs": [
    {
     "data": {
      "text/plain": [
       "['Henry Drummond',\n",
       " 'Geo Cassid',\n",
       " 'Pantelei Melekhox',\n",
       " 'Rubin Flood',\n",
       " 'Andrzej',\n",
       " 'Tulsa McLean',\n",
       " 'The hotel receptionist',\n",
       " 'Jeanne Dandieu',\n",
       " 'Sam Bowden',\n",
       " 'Therese Desqueyroux',\n",
       " 'Joan of Arc',\n",
       " '',\n",
       " 'Frenchy',\n",
       " 'Guard',\n",
       " 'Larry Martin',\n",
       " 'Narrator',\n",
       " 'Homer',\n",
       " 'Jim',\n",
       " 'Under-Secretary',\n",
       " 'Inspector Jacques Clouseau',\n",
       " 'Sheila',\n",
       " 'Hsu Tien-an',\n",
       " 'Sweeney',\n",
       " 'Jonathan Hemlock',\n",
       " 'Mike Wayne',\n",
       " 'Hnup Wan',\n",
       " 'Harper',\n",
       " 'Pike',\n",
       " 'Duke',\n",
       " '2nd Lt. Arthur Drake',\n",
       " 'Mary Henry',\n",
       " 'Rynn',\n",
       " '',\n",
       " '',\n",
       " 'Ariane',\n",
       " 'Judd',\n",
       " 'Carrie White',\n",
       " 'Diana Christensen',\n",
       " 'Frances',\n",
       " 'Jack Prescott',\n",
       " 'Singing voice of Ainslie Jarvis',\n",
       " 'Col. Kurt Steiner',\n",
       " 'Ulysses',\n",
       " '',\n",
       " 'Coahoma Sheriff',\n",
       " 'Patrick',\n",
       " 'Lt. Charles Barrett',\n",
       " 'Tucker',\n",
       " 'Franz Liszt',\n",
       " 'Jim',\n",
       " 'John Deakin',\n",
       " '',\n",
       " 'No. 4',\n",
       " 'Narrator',\n",
       " 'Mutant',\n",
       " 'Hoover',\n",
       " 'David Innes',\n",
       " 'Witch',\n",
       " 'Jim Calhoun',\n",
       " 'Teacher',\n",
       " 'Richard \"King\" Howland',\n",
       " \"Col. Winkle\\\\'s Aides\",\n",
       " 'Kyle Martin',\n",
       " 'Alice',\n",
       " 'Noelle Page',\n",
       " 'Manny Bloom',\n",
       " 'Jim Wilson',\n",
       " 'Jim',\n",
       " 'Babourg',\n",
       " 'Sally Cramer',\n",
       " \"Pomme\\\\'s father\",\n",
       " 'Rose Lander',\n",
       " 'Ezra Fikus',\n",
       " 'Clumsy',\n",
       " 'Erik',\n",
       " '',\n",
       " 'Tilt, Brenda Louise Davenport',\n",
       " '',\n",
       " 'Moses Wine',\n",
       " 'Philo Beddoe',\n",
       " 'John \"Bluto\" Blutarsky',\n",
       " 'Kaz Oshay',\n",
       " 'Himself',\n",
       " 'Billy Shears',\n",
       " 'David Wakefield',\n",
       " 'Duty Sergeant',\n",
       " 'Frank',\n",
       " 'Matthew Bennell',\n",
       " 'King Zharko Stepanowicz',\n",
       " 'Dr. Berthold Hoffmann',\n",
       " 'Sam Kellough',\n",
       " 'David Shelby',\n",
       " 'Joan Winmill',\n",
       " 'Johnny Kovak',\n",
       " 'Eddie Burke',\n",
       " 'Dina',\n",
       " 'Kent Dantley',\n",
       " 'Stella Johnson',\n",
       " 'Duke',\n",
       " 'Inspector Jacques Clouseau',\n",
       " '']"
      ]
     },
     "execution_count": 183,
     "metadata": {},
     "output_type": "execute_result"
    }
   ],
   "source": [
    "values"
   ]
  },
  {
   "cell_type": "code",
   "execution_count": 184,
   "metadata": {},
   "outputs": [],
   "source": [
    "values = list(filter(lambda x: x != '', values))\n",
    "newRecordNumber = len(values)"
   ]
  },
  {
   "cell_type": "code",
   "execution_count": 187,
   "metadata": {},
   "outputs": [
    {
     "name": "stdout",
     "output_type": "stream",
     "text": [
      "Etichetta predetta: characters name \n",
      "\n",
      "\n",
      "\n",
      "Grado di affidabilità: 0.577\n",
      "\n",
      "87/93 -> Questa etichetta è stata predetta 87 volte su 93.\n"
     ]
    }
   ],
   "source": [
    "#Struttura: dictionary[label] -> [89%, 93%, 97%, 32%, 99% , ...]\n",
    "dictionary={}\n",
    "\n",
    "#Sruttura ausiliaria: permette di stabilire il numero di volte in cui ciascuna etichetta è stata predetta\n",
    "occorrenze={}\n",
    "\n",
    "\n",
    "#Crea una lista vuota per ciascuna label \n",
    "for label in labels:\n",
    "    dictionary[label]=[]\n",
    "    occorrenze[label]=0\n",
    "    \n",
    "\n",
    "classifier = pipeline(\"zero-shot-classification\")\n",
    "    \n",
    "labels_number= len(labels)\n",
    "\n",
    "#Vengono effettuate le previsioni attraverso il modello.\n",
    "#Le previsioni vengono memorizzate nel dizionario.\n",
    "for i in range(newRecordNumber):\n",
    "    text = values[i]\n",
    "    result=classifier(text, labels)\n",
    "    occorrenze[result['labels'][0]]+=1\n",
    "    for y in range(labels_number):\n",
    "        label= result['labels'][y]\n",
    "        score= result['scores'][y]\n",
    "        dictionary[label].append(score)    \n",
    "        \n",
    "        \n",
    "risultati={}\n",
    "for label in labels:\n",
    "    risultati[label]= sum(dictionary[label])/newRecordNumber\n",
    "\n",
    "max_score= 0\n",
    "\n",
    "for label, score in risultati.items():  \n",
    "    if score > max_score:\n",
    "        label_predict=label\n",
    "        max_score=score\n",
    "\n",
    "print(\"Etichetta predetta: %s \\n\\n\\n\" % label_predict)\n",
    "print(\"Grado di affidabilità: %.3f\\n\" % max_score)\n",
    "print(\"%d/%d -> Questa etichetta è stata predetta %d volte su %d.\" \n",
    "      % (occorrenze[label_predict], newRecordNumber, occorrenze[label_predict], newRecordNumber))"
   ]
  }
 ],
 "metadata": {
  "kernelspec": {
   "display_name": "Python 3",
   "language": "python",
   "name": "python3"
  },
  "language_info": {
   "codemirror_mode": {
    "name": "ipython",
    "version": 3
   },
   "file_extension": ".py",
   "mimetype": "text/x-python",
   "name": "python",
   "nbconvert_exporter": "python",
   "pygments_lexer": "ipython3",
   "version": "3.7.6"
  }
 },
 "nbformat": 4,
 "nbformat_minor": 4
}

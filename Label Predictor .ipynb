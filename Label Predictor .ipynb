{
 "cells": [
  {
   "cell_type": "markdown",
   "metadata": {},
   "source": [
    "# Semantic Label Extraction"
   ]
  },
  {
   "cell_type": "markdown",
   "metadata": {},
   "source": [
    "Nel seguente codice cercheremo di analizzare i dati estratti dalle pagine web. \\\n",
    "Più precisamente, a partire da dati organizzati in formato \"tabellare\" all'interno di un database (*ClickHouse*), il nostro obiettivo sarà quello di identificare un'**etichetta** per ciascun campo, al fine di stabilirne il contenuto. "
   ]
  },
  {
   "cell_type": "markdown",
   "metadata": {},
   "source": [
    "## Caricamento dati "
   ]
  },
  {
   "cell_type": "markdown",
   "metadata": {},
   "source": [
    "I dati vengono richiesti al Server ClickHouse tramite delle richieste GET. \\\n",
    "Per farlo Python sfrutta la libreria *requests*.\n",
    "\n",
    "L'utente in questa applicazione dovrà specificare:\n",
    "* La tabella e la rispettiva colonna da analizzare. \n",
    "* Le labels candidate."
   ]
  },
  {
   "cell_type": "code",
   "execution_count": 1,
   "metadata": {},
   "outputs": [
    {
     "name": "stdout",
     "output_type": "stream",
     "text": [
      "Inserire il nome della tabella che si vuole analizzare:  table1\n",
      "Di quale colonna vuoi trovare il contenuto semantico?   column1\n"
     ]
    }
   ],
   "source": [
    "#Tabella da analizzare\n",
    "tabella = input(\"Inserire il nome della tabella che si vuole analizzare:  \")\n",
    "\n",
    "#Colonna da analizzare\n",
    "colonna= input(\"Di quale colonna vuoi trovare il contenuto semantico?   \")"
   ]
  },
  {
   "cell_type": "code",
   "execution_count": 2,
   "metadata": {},
   "outputs": [],
   "source": [
    "#Questo parametro indica il numero di valori che devo analizzare per stabilire l'etichetta corretta.\n",
    "RECORDS_NUMBER= 100"
   ]
  },
  {
   "cell_type": "code",
   "execution_count": 3,
   "metadata": {},
   "outputs": [],
   "source": [
    "#Viene definita la richiesta GET da inviare al Server\n",
    "url= 'http://localhost:8123/?query=SELECT top ' + str(RECORDS_NUMBER) + ' ' + tabella + ' ' + 'FROM extracted_data.' + tabella"
   ]
  },
  {
   "cell_type": "code",
   "execution_count": 81,
   "metadata": {},
   "outputs": [
    {
     "name": "stdout",
     "output_type": "stream",
     "text": [
      "I dati sono stati caricati correttamente.\n"
     ]
    }
   ],
   "source": [
    "import requests\n",
    "from requests.exceptions import ConnectionError\n",
    "url='http://localhost:8123/?query=SELECT top 100 iill FROM extracted_data.c5e54033df0a4d17801808da46506300'\n",
    "\n",
    "try:\n",
    "    r = requests.get(url)\n",
    "except ConnectionError:\n",
    "        print(\"Il collegamento al database non è attivo.\")\n",
    "\n",
    "        \n",
    "#L'utf-8-sig è una variante Python di UTF-8 che ci permette di eliminare, se presenti, eventuali carattere UTF-8 BOM.\n",
    "values= r.content.decode('utf-8-sig')\n",
    "\n",
    "\n",
    "#Controllo i parametri inseriti dall'utente\n",
    "if (values[6:8]=='60'):\n",
    "    print(\"ATTENZIONE! La tabella indicata non esiste.\")\n",
    "elif (values[6:8]=='47'):\n",
    "    print(\"ATTENZIONE! La colonna indicata non esiste.\")\n",
    "else:\n",
    "    print(\"I dati sono stati caricati correttamente.\")"
   ]
  },
  {
   "cell_type": "code",
   "execution_count": 72,
   "metadata": {},
   "outputs": [
    {
     "name": "stdout",
     "output_type": "stream",
     "text": [
      "Inserire le labels candidate (separate da una virgola):  a\n"
     ]
    }
   ],
   "source": [
    "#Labels \n",
    "labels_candidate = input(\"Inserire le labels candidate (separate da una virgola):  \")"
   ]
  },
  {
   "cell_type": "code",
   "execution_count": 71,
   "metadata": {},
   "outputs": [
    {
     "data": {
      "text/plain": [
       "['arco', 'freccia', 'armadio']"
      ]
     },
     "execution_count": 71,
     "metadata": {},
     "output_type": "execute_result"
    }
   ],
   "source": [
    "labels = labels_candidate.replace(\", \" or \" ,\" ,  \"-\").split(\"-\")"
   ]
  },
  {
   "cell_type": "code",
   "execution_count": 82,
   "metadata": {},
   "outputs": [],
   "source": [
    "#labels=['food', 'football', 'year']"
   ]
  },
  {
   "cell_type": "markdown",
   "metadata": {},
   "source": [
    "## Preprocessing dei dati "
   ]
  },
  {
   "cell_type": "code",
   "execution_count": 83,
   "metadata": {},
   "outputs": [],
   "source": [
    "#In alcuni casi (non sempre) possono essere presenti sequenze di caratteri che aggiungono rumore ai dati.\n",
    "#Ci siamo occupati di identificarli ed eliminarli.\n",
    "\n",
    "values = values.replace(\"\\ufeff\", \"\")\n",
    "values = values.replace(\"\\\\\", \" \")"
   ]
  },
  {
   "cell_type": "code",
   "execution_count": 84,
   "metadata": {},
   "outputs": [
    {
     "data": {
      "text/plain": [
       "\" Inherit the Wind 1960 | Movie Trailer, Reviews, Photos, Cast | Hollywood.com\\n Le Trou 1960 | Movie Trailer, Reviews, Photos, Cast | Hollywood.com\\n Tikhy Don 1960 | Movie Trailer, Reviews, Photos, Cast | Hollywood.com\\n The Dark at the Top of the Stairs 1960 | Movie Trailer, Reviews, Photos, Cast | Hollywood.com\\n Niewinni Czarodzieje 1960 | Movie Trailer, Reviews, Photos, Cast | Hollywood.com\\n G.I. Blues 1960 | Movie Trailer, Reviews, Photos, Cast | Hollywood.com\\n En Lektion i Kärlek 1960 | Movie Trailer, Reviews, Photos, Cast | Hollywood.com\\n Une Vie 1962 | Movie Trailer, Reviews, Photos, Cast | Hollywood.com\\n Cape Fear 1962 | Movie Trailer, Reviews, Photos, Cast | Hollywood.com\\n Thérèse Desqueyroux 1962 | Movie Trailer, Reviews, Photos, Cast | Hollywood.com\\n Le Procès de Jeanne d 'Arc 1962 | Movie Trailer, Reviews, Photos, Cast | Hollywood.com\\n Street Girls 1975 | Movie Trailer, Reviews, Photos, Cast | Hollywood.com\\n Challenge to Be Free 1975 | Movie Trailer, Reviews, Photos, Cast | Hollywood.com\\n Monty Python and the Holy Grail 1975 | Movie Trailer, Reviews, Photos, Cast | Hollywood.com\\n Rosebud 1975 | Movie Trailer, Reviews, Photos, Cast | Hollywood.com\\n Det Gode og det onde 1975 | Movie Trailer, Reviews, Photos, Cast | Hollywood.com\\n The Day of the Locust 1975 | Movie Trailer, Reviews, Photos, Cast | Hollywood.com\\n Sharks ' Treasure 1975 | Movie Trailer, Reviews, Photos, Cast | Hollywood.com\\n The Happy Hooker 1975 | Movie Trailer, Reviews, Photos, Cast | Hollywood.com\\n The Return of the Pink Panther 1975 | Movie Trailer, Reviews, Photos, Cast | Hollywood.com\\n Sunday Too Far Away 1975 | Movie Trailer, Reviews, Photos, Cast | Hollywood.com\\n Legend of the Seven Golden Vampires 1975 | Movie Trailer, Reviews, Photos, Cast | Hollywood.com\\n It Seemed Like a Good Idea at the Time 1975 | Movie Trailer, Reviews, Photos, Cast | Hollywood.com\\n The Eiger Sanction 1975 | Movie Trailer, Reviews, Photos, Cast | Hollywood.com\\n Once Is Not Enough 1975 | Movie Trailer, Reviews, Photos, Cast | Hollywood.com\\n One of Our Dinosaurs Is Missing 1975 | Movie Trailer, Reviews, Photos, Cast | Hollywood.com\\n The Drowning Pool 1975 | Movie Trailer, Reviews, Photos, Cast | Hollywood.com\\n Take a Hard Ride 1975 | Movie Trailer, Reviews, Photos, Cast | Hollywood.com\\n Bucktown 1975 | Movie Trailer, Reviews, Photos, Cast | Hollywood.com\\n Conduct Unbecoming 1975 | Movie Trailer, Reviews, Photos, Cast | Hollywood.com\\n Carnival of Souls 1962 | Movie Trailer, Reviews, Photos, Cast | Hollywood.com\\n The Little Girl Who Lives Down the Lane 1976 | Movie Trailer, Reviews, Photos, Cast | Hollywood.com\\n Riddles of The Sphinx 1976 | Movie Trailer, Reviews, Photos, Cast | Hollywood.com\\n Death Machines 1976 | Movie Trailer, Reviews, Photos, Cast | Hollywood.com\\n Chinese Roulette 1976 | Movie Trailer, Reviews, Photos, Cast | Hollywood.com\\n Eaten Alive 1976 | Movie Trailer, Reviews, Photos, Cast | Hollywood.com\\n Carrie 1976 | Movie Trailer, Reviews, Photos, Cast | Hollywood.com\\n Network 1976 | Movie Trailer, Reviews, Photos, Cast | Hollywood.com\\n Satan 's Slave 1976 | Movie Trailer, Reviews, Photos, Cast | Hollywood.com\\n King Kong 1976 | Movie Trailer, Reviews, Photos, Cast | Hollywood.com\\n The Pink Panther Strikes Again 1976 | Movie Trailer, Reviews, Photos, Cast | Hollywood.com\\n The Eagle Has Landed 1976 | Movie Trailer, Reviews, Photos, Cast | Hollywood.com\\n Gli Esecutori 1976 | Movie Trailer, Reviews, Photos, Cast | Hollywood.com\\n Under the Doctor 1976 | Movie Trailer, Reviews, Photos, Cast | Hollywood.com\\n Treasure of Matecumbe 1976 | Movie Trailer, Reviews, Photos, Cast | Hollywood.com\\n Small Change 1976 | Movie Trailer, Reviews, Photos, Cast | Hollywood.com\\n Invisible Strangler 1976 | Movie Trailer, Reviews, Photos, Cast | Hollywood.com\\n Peeper 1976 | Movie Trailer, Reviews, Photos, Cast | Hollywood.com\\n Lisztomania 1976 | Movie Trailer, Reviews, Photos, Cast | Hollywood.com\\n Jim, the World 's Greatest 1976 | Movie Trailer, Reviews, Photos, Cast | Hollywood.com\\n Breakheart Pass 1976 | Movie Trailer, Reviews, Photos, Cast | Hollywood.com\\n The Loves and Times of Scaramouche 1976 | Movie Trailer, Reviews, Photos, Cast | Hollywood.com\\n The Sailor Who Fell from Grace with the Sea 1976 | Movie Trailer, Reviews, Photos, Cast | Hollywood.com\\n Chantons Sous l 'Occupation 1976 | Movie Trailer, Reviews, Photos, Cast | Hollywood.com\\n Hollywood Boulevard 1976 | Movie Trailer, Reviews, Photos, Cast | Hollywood.com\\n Eat My Dust! 1976 | Movie Trailer, Reviews, Photos, Cast | Hollywood.com\\n At the Earth 's Core 1976 | Movie Trailer, Reviews, Photos, Cast | Hollywood.com\\n The Blue Bird 1976 | Movie Trailer, Reviews, Photos, Cast | Hollywood.com\\n Trackdown 1976 | Movie Trailer, Reviews, Photos, Cast | Hollywood.com\\n Nishant 1976 | Movie Trailer, Reviews, Photos, Cast | Hollywood.com\\n Diamond Head 1962 | Movie Trailer, Reviews, Photos, Cast | Hollywood.com\\n Mr. Billion 1977 | Movie Trailer, Reviews, Photos, Cast | Hollywood.com\\n The Farmer 1977 | Movie Trailer, Reviews, Photos, Cast | Hollywood.com\\n Break of Day 1977 | Movie Trailer, Reviews, Photos, Cast | Hollywood.com\\n The Other Side of Midnight 1977 | Movie Trailer, Reviews, Photos, Cast | Hollywood.com\\n Skateboard 1977 | Movie Trailer, Reviews, Photos, Cast | Hollywood.com\\n Tomorrow Never Comes 1977 | Movie Trailer, Reviews, Photos, Cast | Hollywood.com\\n Empire of the Ants 1977 | Movie Trailer, Reviews, Photos, Cast | Hollywood.com\\n Le Crabe-Tambour 1977 | Movie Trailer, Reviews, Photos, Cast | Hollywood.com\\n Thieves 1977 | Movie Trailer, Reviews, Photos, Cast | Hollywood.com\\n L 'Une Chante, l 'Autre Pas 1977 | Movie Trailer, Reviews, Photos, Cast | Hollywood.com\\n Looking Up 1977 | Movie Trailer, Reviews, Photos, Cast | Hollywood.com\\n Fire Sale 1977 | Movie Trailer, Reviews, Photos, Cast | Hollywood.com\\n The Kentucky Fried Movie 1977 | Movie Trailer, Reviews, Photos, Cast | Hollywood.com\\n Soldier of Orange 1978 | Movie Trailer, Reviews, Photos, Cast | Hollywood.com\\n Martin 1978 | Movie Trailer, Reviews, Photos, Cast | Hollywood.com\\n Tilt 1978 | Movie Trailer, Reviews, Photos, Cast | Hollywood.com\\n Summer Camp 1978 | Movie Trailer, Reviews, Photos, Cast | Hollywood.com\\n The Big Fix 1978 | Movie Trailer, Reviews, Photos, Cast | Hollywood.com\\n Every Which Way But Loose 1978 | Movie Trailer, Reviews, Photos, Cast | Hollywood.com\\n National Lampoon 's Animal House 1978 | Movie Trailer, Reviews, Photos, Cast | Hollywood.com\\n Death Sport 1978 | Movie Trailer, Reviews, Photos, Cast | Hollywood.com\\n Rockers 1978 | Movie Trailer, Reviews, Photos, Cast | Hollywood.com\\n Sgt. Pepper 's Lonely Hearts Club Band 1978 | Movie Trailer, Reviews, Photos, Cast | Hollywood.com\\n Our Winning Season 1978 | Movie Trailer, Reviews, Photos, Cast | Hollywood.com\\n Brass Target 1978 | Movie Trailer, Reviews, Photos, Cast | Hollywood.com\\n Comes a Horseman 1978 | Movie Trailer, Reviews, Photos, Cast | Hollywood.com\\n Invasion of the Body Snatchers 1978 | Movie Trailer, Reviews, Photos, Cast | Hollywood.com\\n King of the Gypsies 1978 | Movie Trailer, Reviews, Photos, Cast | Hollywood.com\\n Messer im Kopf 1978 | Movie Trailer, Reviews, Photos, Cast | Hollywood.com\\n The Glove 1978 | Movie Trailer, Reviews, Photos, Cast | Hollywood.com\\n Avalanche 1978 | Movie Trailer, Reviews, Photos, Cast | Hollywood.com\\n No Longer Alone 1978 | Movie Trailer, Reviews, Photos, Cast | Hollywood.com\\n F.I.S.T. 1978 | Movie Trailer, Reviews, Photos, Cast | Hollywood.com\\n Here Come the Tigers 1978 | Movie Trailer, Reviews, Photos, Cast | Hollywood.com\\n Malibu Beach 1978 | Movie Trailer, Reviews, Photos, Cast | Hollywood.com\\n Corvette Summer 1978 | Movie Trailer, Reviews, Photos, Cast | Hollywood.com\\n Harper Valley P.T.A. 1978 | Movie Trailer, Reviews, Photos, Cast | Hollywood.com\\n Love and the Midnight Auto Supply 1978 | Movie Trailer, Reviews, Photos, Cast | Hollywood.com\\n The Revenge of the Pink Panther 1978 | Movie Trailer, Reviews, Photos, Cast | Hollywood.com\\n\""
      ]
     },
     "execution_count": 84,
     "metadata": {},
     "output_type": "execute_result"
    }
   ],
   "source": [
    "#Rapido sguardo ai dati\n",
    "values"
   ]
  },
  {
   "cell_type": "code",
   "execution_count": 85,
   "metadata": {},
   "outputs": [
    {
     "data": {
      "text/plain": [
       "''"
      ]
     },
     "execution_count": 85,
     "metadata": {},
     "output_type": "execute_result"
    }
   ],
   "source": [
    "#Realizziamo una lista in cui ciascun elemento corrisponde ad un singolo valore del campo specificato.\n",
    "values=values.split('\\n')\n",
    "values.pop()"
   ]
  },
  {
   "cell_type": "code",
   "execution_count": 50,
   "metadata": {},
   "outputs": [
    {
     "data": {
      "text/plain": [
       "[' Inherit the Wind 1960 | Movie Trailer, Reviews, Photos, Cast | Hollywood.com',\n",
       " ' Le Trou 1960 | Movie Trailer, Reviews, Photos, Cast | Hollywood.com',\n",
       " ' Tikhy Don 1960 | Movie Trailer, Reviews, Photos, Cast | Hollywood.com',\n",
       " ' The Dark at the Top of the Stairs 1960 | Movie Trailer, Reviews, Photos, Cast | Hollywood.com',\n",
       " ' Niewinni Czarodzieje 1960 | Movie Trailer, Reviews, Photos, Cast | Hollywood.com',\n",
       " ' G.I. Blues 1960 | Movie Trailer, Reviews, Photos, Cast | Hollywood.com',\n",
       " ' En Lektion i Kärlek 1960 | Movie Trailer, Reviews, Photos, Cast | Hollywood.com',\n",
       " ' Une Vie 1962 | Movie Trailer, Reviews, Photos, Cast | Hollywood.com',\n",
       " ' Cape Fear 1962 | Movie Trailer, Reviews, Photos, Cast | Hollywood.com',\n",
       " ' Thérèse Desqueyroux 1962 | Movie Trailer, Reviews, Photos, Cast | Hollywood.com',\n",
       " \" Le Procès de Jeanne d 'Arc 1962 | Movie Trailer, Reviews, Photos, Cast | Hollywood.com\",\n",
       " ' Street Girls 1975 | Movie Trailer, Reviews, Photos, Cast | Hollywood.com',\n",
       " ' Challenge to Be Free 1975 | Movie Trailer, Reviews, Photos, Cast | Hollywood.com',\n",
       " ' Monty Python and the Holy Grail 1975 | Movie Trailer, Reviews, Photos, Cast | Hollywood.com',\n",
       " ' Rosebud 1975 | Movie Trailer, Reviews, Photos, Cast | Hollywood.com',\n",
       " ' Det Gode og det onde 1975 | Movie Trailer, Reviews, Photos, Cast | Hollywood.com',\n",
       " ' The Day of the Locust 1975 | Movie Trailer, Reviews, Photos, Cast | Hollywood.com',\n",
       " \" Sharks ' Treasure 1975 | Movie Trailer, Reviews, Photos, Cast | Hollywood.com\",\n",
       " ' The Happy Hooker 1975 | Movie Trailer, Reviews, Photos, Cast | Hollywood.com',\n",
       " ' The Return of the Pink Panther 1975 | Movie Trailer, Reviews, Photos, Cast | Hollywood.com',\n",
       " ' Sunday Too Far Away 1975 | Movie Trailer, Reviews, Photos, Cast | Hollywood.com',\n",
       " ' Legend of the Seven Golden Vampires 1975 | Movie Trailer, Reviews, Photos, Cast | Hollywood.com',\n",
       " ' It Seemed Like a Good Idea at the Time 1975 | Movie Trailer, Reviews, Photos, Cast | Hollywood.com',\n",
       " ' The Eiger Sanction 1975 | Movie Trailer, Reviews, Photos, Cast | Hollywood.com',\n",
       " ' Once Is Not Enough 1975 | Movie Trailer, Reviews, Photos, Cast | Hollywood.com',\n",
       " ' One of Our Dinosaurs Is Missing 1975 | Movie Trailer, Reviews, Photos, Cast | Hollywood.com',\n",
       " ' The Drowning Pool 1975 | Movie Trailer, Reviews, Photos, Cast | Hollywood.com',\n",
       " ' Take a Hard Ride 1975 | Movie Trailer, Reviews, Photos, Cast | Hollywood.com',\n",
       " ' Bucktown 1975 | Movie Trailer, Reviews, Photos, Cast | Hollywood.com',\n",
       " ' Conduct Unbecoming 1975 | Movie Trailer, Reviews, Photos, Cast | Hollywood.com',\n",
       " ' Carnival of Souls 1962 | Movie Trailer, Reviews, Photos, Cast | Hollywood.com',\n",
       " ' The Little Girl Who Lives Down the Lane 1976 | Movie Trailer, Reviews, Photos, Cast | Hollywood.com',\n",
       " ' Riddles of The Sphinx 1976 | Movie Trailer, Reviews, Photos, Cast | Hollywood.com',\n",
       " ' Death Machines 1976 | Movie Trailer, Reviews, Photos, Cast | Hollywood.com',\n",
       " ' Chinese Roulette 1976 | Movie Trailer, Reviews, Photos, Cast | Hollywood.com',\n",
       " ' Eaten Alive 1976 | Movie Trailer, Reviews, Photos, Cast | Hollywood.com',\n",
       " ' Carrie 1976 | Movie Trailer, Reviews, Photos, Cast | Hollywood.com',\n",
       " ' Network 1976 | Movie Trailer, Reviews, Photos, Cast | Hollywood.com',\n",
       " \" Satan 's Slave 1976 | Movie Trailer, Reviews, Photos, Cast | Hollywood.com\",\n",
       " ' King Kong 1976 | Movie Trailer, Reviews, Photos, Cast | Hollywood.com',\n",
       " ' The Pink Panther Strikes Again 1976 | Movie Trailer, Reviews, Photos, Cast | Hollywood.com',\n",
       " ' The Eagle Has Landed 1976 | Movie Trailer, Reviews, Photos, Cast | Hollywood.com',\n",
       " ' Gli Esecutori 1976 | Movie Trailer, Reviews, Photos, Cast | Hollywood.com',\n",
       " ' Under the Doctor 1976 | Movie Trailer, Reviews, Photos, Cast | Hollywood.com',\n",
       " ' Treasure of Matecumbe 1976 | Movie Trailer, Reviews, Photos, Cast | Hollywood.com',\n",
       " ' Small Change 1976 | Movie Trailer, Reviews, Photos, Cast | Hollywood.com',\n",
       " ' Invisible Strangler 1976 | Movie Trailer, Reviews, Photos, Cast | Hollywood.com',\n",
       " ' Peeper 1976 | Movie Trailer, Reviews, Photos, Cast | Hollywood.com',\n",
       " ' Lisztomania 1976 | Movie Trailer, Reviews, Photos, Cast | Hollywood.com',\n",
       " \" Jim, the World 's Greatest 1976 | Movie Trailer, Reviews, Photos, Cast | Hollywood.com\",\n",
       " ' Breakheart Pass 1976 | Movie Trailer, Reviews, Photos, Cast | Hollywood.com',\n",
       " ' The Loves and Times of Scaramouche 1976 | Movie Trailer, Reviews, Photos, Cast | Hollywood.com',\n",
       " ' The Sailor Who Fell from Grace with the Sea 1976 | Movie Trailer, Reviews, Photos, Cast | Hollywood.com',\n",
       " \" Chantons Sous l 'Occupation 1976 | Movie Trailer, Reviews, Photos, Cast | Hollywood.com\",\n",
       " ' Hollywood Boulevard 1976 | Movie Trailer, Reviews, Photos, Cast | Hollywood.com',\n",
       " ' Eat My Dust! 1976 | Movie Trailer, Reviews, Photos, Cast | Hollywood.com',\n",
       " \" At the Earth 's Core 1976 | Movie Trailer, Reviews, Photos, Cast | Hollywood.com\",\n",
       " ' The Blue Bird 1976 | Movie Trailer, Reviews, Photos, Cast | Hollywood.com',\n",
       " ' Trackdown 1976 | Movie Trailer, Reviews, Photos, Cast | Hollywood.com',\n",
       " ' Nishant 1976 | Movie Trailer, Reviews, Photos, Cast | Hollywood.com',\n",
       " ' Diamond Head 1962 | Movie Trailer, Reviews, Photos, Cast | Hollywood.com',\n",
       " ' Mr. Billion 1977 | Movie Trailer, Reviews, Photos, Cast | Hollywood.com',\n",
       " ' The Farmer 1977 | Movie Trailer, Reviews, Photos, Cast | Hollywood.com',\n",
       " ' Break of Day 1977 | Movie Trailer, Reviews, Photos, Cast | Hollywood.com',\n",
       " ' The Other Side of Midnight 1977 | Movie Trailer, Reviews, Photos, Cast | Hollywood.com',\n",
       " ' Skateboard 1977 | Movie Trailer, Reviews, Photos, Cast | Hollywood.com',\n",
       " ' Tomorrow Never Comes 1977 | Movie Trailer, Reviews, Photos, Cast | Hollywood.com',\n",
       " ' Empire of the Ants 1977 | Movie Trailer, Reviews, Photos, Cast | Hollywood.com',\n",
       " ' Le Crabe-Tambour 1977 | Movie Trailer, Reviews, Photos, Cast | Hollywood.com',\n",
       " ' Thieves 1977 | Movie Trailer, Reviews, Photos, Cast | Hollywood.com',\n",
       " \" L 'Une Chante, l 'Autre Pas 1977 | Movie Trailer, Reviews, Photos, Cast | Hollywood.com\",\n",
       " ' Looking Up 1977 | Movie Trailer, Reviews, Photos, Cast | Hollywood.com',\n",
       " ' Fire Sale 1977 | Movie Trailer, Reviews, Photos, Cast | Hollywood.com',\n",
       " ' The Kentucky Fried Movie 1977 | Movie Trailer, Reviews, Photos, Cast | Hollywood.com',\n",
       " ' Soldier of Orange 1978 | Movie Trailer, Reviews, Photos, Cast | Hollywood.com',\n",
       " ' Martin 1978 | Movie Trailer, Reviews, Photos, Cast | Hollywood.com',\n",
       " ' Tilt 1978 | Movie Trailer, Reviews, Photos, Cast | Hollywood.com',\n",
       " ' Summer Camp 1978 | Movie Trailer, Reviews, Photos, Cast | Hollywood.com',\n",
       " ' The Big Fix 1978 | Movie Trailer, Reviews, Photos, Cast | Hollywood.com',\n",
       " ' Every Which Way But Loose 1978 | Movie Trailer, Reviews, Photos, Cast | Hollywood.com',\n",
       " \" National Lampoon 's Animal House 1978 | Movie Trailer, Reviews, Photos, Cast | Hollywood.com\",\n",
       " ' Death Sport 1978 | Movie Trailer, Reviews, Photos, Cast | Hollywood.com',\n",
       " ' Rockers 1978 | Movie Trailer, Reviews, Photos, Cast | Hollywood.com',\n",
       " \" Sgt. Pepper 's Lonely Hearts Club Band 1978 | Movie Trailer, Reviews, Photos, Cast | Hollywood.com\",\n",
       " ' Our Winning Season 1978 | Movie Trailer, Reviews, Photos, Cast | Hollywood.com',\n",
       " ' Brass Target 1978 | Movie Trailer, Reviews, Photos, Cast | Hollywood.com',\n",
       " ' Comes a Horseman 1978 | Movie Trailer, Reviews, Photos, Cast | Hollywood.com',\n",
       " ' Invasion of the Body Snatchers 1978 | Movie Trailer, Reviews, Photos, Cast | Hollywood.com',\n",
       " ' King of the Gypsies 1978 | Movie Trailer, Reviews, Photos, Cast | Hollywood.com',\n",
       " ' Messer im Kopf 1978 | Movie Trailer, Reviews, Photos, Cast | Hollywood.com',\n",
       " ' The Glove 1978 | Movie Trailer, Reviews, Photos, Cast | Hollywood.com',\n",
       " ' Avalanche 1978 | Movie Trailer, Reviews, Photos, Cast | Hollywood.com',\n",
       " ' No Longer Alone 1978 | Movie Trailer, Reviews, Photos, Cast | Hollywood.com',\n",
       " ' F.I.S.T. 1978 | Movie Trailer, Reviews, Photos, Cast | Hollywood.com',\n",
       " ' Here Come the Tigers 1978 | Movie Trailer, Reviews, Photos, Cast | Hollywood.com',\n",
       " ' Malibu Beach 1978 | Movie Trailer, Reviews, Photos, Cast | Hollywood.com',\n",
       " ' Corvette Summer 1978 | Movie Trailer, Reviews, Photos, Cast | Hollywood.com',\n",
       " ' Harper Valley P.T.A. 1978 | Movie Trailer, Reviews, Photos, Cast | Hollywood.com',\n",
       " ' Love and the Midnight Auto Supply 1978 | Movie Trailer, Reviews, Photos, Cast | Hollywood.com',\n",
       " ' The Revenge of the Pink Panther 1978 | Movie Trailer, Reviews, Photos, Cast | Hollywood.com']"
      ]
     },
     "execution_count": 50,
     "metadata": {},
     "output_type": "execute_result"
    }
   ],
   "source": [
    "values"
   ]
  },
  {
   "cell_type": "markdown",
   "metadata": {},
   "source": [
    "# Previsione label"
   ]
  },
  {
   "cell_type": "code",
   "execution_count": 73,
   "metadata": {},
   "outputs": [],
   "source": [
    "#!pip install transformers datasets"
   ]
  },
  {
   "cell_type": "code",
   "execution_count": 86,
   "metadata": {},
   "outputs": [],
   "source": [
    "#Struttura: dictionary[label] -> [89%, 93%, 97%, 32%, 99% , ...]\n",
    "dictionary={}"
   ]
  },
  {
   "cell_type": "code",
   "execution_count": 87,
   "metadata": {},
   "outputs": [],
   "source": [
    "#Sruttura ausiliaria: permette di stabilire il numero di volte in cui ciascuna etichetta è stata predetta\n",
    "occorrenze={}"
   ]
  },
  {
   "cell_type": "code",
   "execution_count": 88,
   "metadata": {},
   "outputs": [],
   "source": [
    "#Crea una lista vuota per ciascuna label\n",
    "for label in labels:\n",
    "    dictionary[label]=[]\n",
    "    occorrenze[label]=0"
   ]
  },
  {
   "cell_type": "code",
   "execution_count": 89,
   "metadata": {},
   "outputs": [
    {
     "name": "stderr",
     "output_type": "stream",
     "text": [
      "All model checkpoint layers were used when initializing TFRobertaForSequenceClassification.\n",
      "\n",
      "All the layers of TFRobertaForSequenceClassification were initialized from the model checkpoint at roberta-large-mnli.\n",
      "If your task is similar to the task the model of the checkpoint was trained on, you can already use TFRobertaForSequenceClassification for predictions without further training.\n"
     ]
    }
   ],
   "source": [
    "from transformers import pipeline\n",
    "\n",
    "classifier = pipeline(\"zero-shot-classification\")\n",
    "    "
   ]
  },
  {
   "cell_type": "code",
   "execution_count": 90,
   "metadata": {},
   "outputs": [],
   "source": [
    "labels_number= len(labels)\n",
    "\n",
    "#Vengono effettuate le previsioni attraverso il modello.\n",
    "#Le previsioni vengono memorizzate nel dizionario.\n",
    "for i in range(RECORDS_NUMBER):\n",
    "    text = values[i]\n",
    "    result=classifier(text, labels)\n",
    "    occorrenze[result['labels'][0]]+=1\n",
    "    for y in range(labels_number):\n",
    "        label= result['labels'][y]\n",
    "        score= result['scores'][y]\n",
    "        dictionary[label].append(score)\n",
    "    "
   ]
  },
  {
   "cell_type": "code",
   "execution_count": 103,
   "metadata": {},
   "outputs": [
    {
     "name": "stdout",
     "output_type": "stream",
     "text": [
      "Etichetta predetta: year \n",
      "\n",
      "\n",
      "\n",
      "Grado di affidabilità: 0.905\n",
      "\n",
      "100/100 -> Questa etichetta è stata predetta 100 volte, considerando 100 diversi campioni.\n"
     ]
    }
   ],
   "source": [
    "risultati={}\n",
    "for label in labels:\n",
    "    risultati[label]= sum(dictionary[label])/RECORDS_NUMBER\n",
    "\n",
    "max_score= 0\n",
    "\n",
    "for label, score in risultati.items():  \n",
    "    if score > max_score:\n",
    "        label_predict=label\n",
    "        max_score=score\n",
    "\n",
    "print(\"Etichetta predetta: %s \\n\\n\\n\" % label_predict)\n",
    "print(\"Grado di affidabilità: %.3f\\n\" % max_score)\n",
    "print(\"%d/%d -> Questa etichetta è stata predetta %d volte, considerando %d diversi campioni.\" \n",
    "      % (occorrenze[label_predict], RECORDS_NUMBER, occorrenze[label_predict], RECORDS_NUMBER))\n",
    "\n"
   ]
  },
  {
   "cell_type": "code",
   "execution_count": 104,
   "metadata": {},
   "outputs": [],
   "source": [
    "#dictionary[label_predict]"
   ]
  },
  {
   "cell_type": "code",
   "execution_count": 105,
   "metadata": {},
   "outputs": [],
   "source": [
    "#occorrenze[label_predict]"
   ]
  }
 ],
 "metadata": {
  "kernelspec": {
   "display_name": "Python 3",
   "language": "python",
   "name": "python3"
  },
  "language_info": {
   "codemirror_mode": {
    "name": "ipython",
    "version": 3
   },
   "file_extension": ".py",
   "mimetype": "text/x-python",
   "name": "python",
   "nbconvert_exporter": "python",
   "pygments_lexer": "ipython3",
   "version": "3.7.6"
  }
 },
 "nbformat": 4,
 "nbformat_minor": 4
}
